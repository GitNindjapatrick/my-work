{
 "cells": [
  {
   "cell_type": "code",
   "execution_count": 71,
   "id": "d7eba383-cf15-480a-b8ae-36fc682614ce",
   "metadata": {},
   "outputs": [],
   "source": [
    "# importation  des packages \n",
    "from sympy.physics.quantum.qubit import Qubit, qubit_to_matrix\n",
    "from sympy import sqrt, I, Symbol"
   ]
  },
  {
   "cell_type": "markdown",
   "id": "b6bc8453-d62e-48c7-ac0d-08e6370cfe51",
   "metadata": {},
   "source": [
    "# Manupulion des vesteurs  surtout surtout en notation de dirac"
   ]
  },
  {
   "cell_type": "code",
   "execution_count": 11,
   "id": "446e58e9-a816-4400-ad96-9423b68bab38",
   "metadata": {},
   "outputs": [
    {
     "data": {
      "text/latex": [
       "$\\displaystyle \\frac{\\sqrt{2} {\\left|0\\right\\rangle }}{2} + \\frac{\\sqrt{2} i {\\left|1\\right\\rangle }}{2}$"
      ],
      "text/plain": [
       "sqrt(2)*|0>/2 + sqrt(2)*I*|1>/2"
      ]
     },
     "execution_count": 11,
     "metadata": {},
     "output_type": "execute_result"
    }
   ],
   "source": [
    "#Defining ket of psi1\n",
    "ketpsi1 = (1/sqrt(2))*Qubit(0) + (I/sqrt(2))*Qubit(1)\n",
    "ketpsi1"
   ]
  },
  {
   "cell_type": "code",
   "execution_count": 12,
   "id": "6b263305-bbaa-4fd7-a2d5-49bc296f4325",
   "metadata": {},
   "outputs": [
    {
     "data": {
      "text/latex": [
       "$\\displaystyle \\left[\\begin{matrix}\\frac{\\sqrt{2}}{2}\\\\\\frac{\\sqrt{2} i}{2}\\end{matrix}\\right]$"
      ],
      "text/plain": [
       "Matrix([\n",
       "[  sqrt(2)/2],\n",
       "[sqrt(2)*I/2]])"
      ]
     },
     "execution_count": 12,
     "metadata": {},
     "output_type": "execute_result"
    }
   ],
   "source": [
    "#Matrix representation of ket of ps1\n",
    "Mketpsi1 = qubit_to_matrix(ketpsi1)\n",
    "Mketpsi1"
   ]
  },
  {
   "cell_type": "markdown",
   "id": "be913979-1870-472b-a7bb-b9198f298e3e",
   "metadata": {},
   "source": [
    "1. Considérons maintenant l’espace de Hilbert à trois dimensions. Une base de cet espace\n",
    "est définie par la donnée de trois vecteurs de base (au lieu de deux comme dans\n",
    "l’exemple précédent), par exemple | 0⟩ , | 1⟩ et | 2⟩ . Un vecteur de cet espace peut être\n",
    ". $|{\\phi} \\rangle=\\frac{-2}{\\sqrt21}|0\\rangle+\\frac{4i}{\\sqrt21}| 1\\rangle +\\frac{1}{\\sqrt21}| 2\\rangle$,"
   ]
  },
  {
   "cell_type": "markdown",
   "id": "fb868d61-95a9-4f5d-bcce-d362bca07f0c",
   "metadata": {},
   "source": [
    "ou encore en représentation matricielle\n",
    "\n",
    "$|{\\phi} \\rangle=\\frac{-2}{\\sqrt21}\\begin{pmatrix}  1\\\\0\\\\ 0\\end{pmatrix}.+\\frac{4i}{\\sqrt21}\\begin{pmatrix}  0\\\\1\\\\ 0\\end{pmatrix} +\\frac{1}{\\sqrt21}\\begin{pmatrix}  0\\\\0\\\\ 1\\end{pmatrix}=\\frac{1}{\\sqrt21}\\begin{pmatrix}  -2\\\\4i\\\\ 1\\end{pmatrix}$"
   ]
  },
  {
   "cell_type": "code",
   "execution_count": 14,
   "id": "2ab7d360-c4c8-4c8e-890a-df5e3522bb2a",
   "metadata": {},
   "outputs": [],
   "source": [
    "# importation du packages\n",
    "from sympy.physics.quantum.sho1d import SHOKet"
   ]
  },
  {
   "cell_type": "code",
   "execution_count": 15,
   "id": "31065e6b-0b22-4f04-a494-9d07aa970640",
   "metadata": {},
   "outputs": [],
   "source": [
    "#We need to take into consideration the fact that quantum states\n",
    "#can be written using the sho1d package\n",
    "#to define vector states with multiple Qubit we need to define\n",
    "#individually the state bases in their matrix forms\n",
    "KET0 = SHOKet(0)\n",
    "KET1 = SHOKet(1)\n",
    "KET2 = SHOKet(2)"
   ]
  },
  {
   "cell_type": "code",
   "execution_count": 17,
   "id": "69c15091-f8bd-4406-bb05-2024da19af7d",
   "metadata": {},
   "outputs": [],
   "source": [
    "from sympy.physics.quantum import Dagger, represent"
   ]
  },
  {
   "cell_type": "code",
   "execution_count": 18,
   "id": "77065fb6-9935-41a0-951c-402f383b1cfc",
   "metadata": {},
   "outputs": [
    {
     "data": {
      "text/latex": [
       "$\\displaystyle \\left[\\begin{matrix}1\\\\0\\\\0\\end{matrix}\\right]$"
      ],
      "text/plain": [
       "Matrix([\n",
       "[1],\n",
       "[0],\n",
       "[0]])"
      ]
     },
     "execution_count": 18,
     "metadata": {},
     "output_type": "execute_result"
    }
   ],
   "source": [
    "#matrix representation of KET0\n",
    "represent(KET0, ndim=3, format='sympy')"
   ]
  },
  {
   "cell_type": "code",
   "execution_count": 19,
   "id": "bf452f60-0ea7-4008-976e-2cc35230f494",
   "metadata": {},
   "outputs": [
    {
     "data": {
      "text/latex": [
       "$\\displaystyle \\left[\\begin{matrix}0\\\\0\\\\1\\end{matrix}\\right]$"
      ],
      "text/plain": [
       "Matrix([\n",
       "[0],\n",
       "[0],\n",
       "[1]])"
      ]
     },
     "execution_count": 19,
     "metadata": {},
     "output_type": "execute_result"
    }
   ],
   "source": [
    "#matrix representation of KET2\n",
    "represent(KET2, ndim=3, format='sympy')"
   ]
  },
  {
   "cell_type": "code",
   "execution_count": 20,
   "id": "8a9503e7-4b6f-4a8f-85ac-0fd686eb40ab",
   "metadata": {},
   "outputs": [
    {
     "data": {
      "text/latex": [
       "$\\displaystyle \\frac{\\sqrt{21} \\left(- 2 {\\left|0\\right\\rangle } + 4 i {\\left|1\\right\\rangle } + {\\left|2\\right\\rangle }\\right)}{21}$"
      ],
      "text/plain": [
       "sqrt(21)*(-2*|0> + 4*I*|1> + |2>)/21"
      ]
     },
     "execution_count": 20,
     "metadata": {},
     "output_type": "execute_result"
    }
   ],
   "source": [
    "#defining ket of psi 2\n",
    "ketpsi2 = (-2*KET0 + 4*I*KET1 + KET2)/sqrt(21)\n",
    "ketpsi2"
   ]
  },
  {
   "cell_type": "code",
   "execution_count": 21,
   "id": "be9c1178-db21-4042-a175-46c0d3518f9c",
   "metadata": {},
   "outputs": [
    {
     "data": {
      "text/latex": [
       "$\\displaystyle \\left[\\begin{matrix}- \\frac{2 \\sqrt{21}}{21}\\\\\\frac{4 \\sqrt{21} i}{21}\\\\\\frac{\\sqrt{21}}{21}\\end{matrix}\\right]$"
      ],
      "text/plain": [
       "Matrix([\n",
       "[ -2*sqrt(21)/21],\n",
       "[4*sqrt(21)*I/21],\n",
       "[    sqrt(21)/21]])"
      ]
     },
     "execution_count": 21,
     "metadata": {},
     "output_type": "execute_result"
    }
   ],
   "source": [
    "#matrix representation of ket of psi 2\n",
    "represent(ketpsi2, ndim=3, format='sympy')"
   ]
  },
  {
   "cell_type": "markdown",
   "id": "eaf9693c-9f99-4914-8385-39c309d733c2",
   "metadata": {},
   "source": [
    "Les vecteurs duaux des vecteurs d'état de l'Exemple 0.1.1 sont donnés par\n",
    ". $\\langle {\\phi} |=\\frac{-2}{\\sqrt21}\\langle 0|+\\frac{4i}{\\sqrt21}\\langle 1| +\\frac{1}{\\sqrt21}\\langle 2|$\n",
    " ou encore en représentation matricielle\n",
    "\n",
    "$\\langle {\\phi} |=\\frac{-2}{\\sqrt21}\\begin{pmatrix}  1&0& 0\\end{pmatrix}.+\\frac{4i}{\\sqrt21}\\begin{pmatrix}  0&1& 0\\end{pmatrix} +\\frac{1}{\\sqrt21}\\begin{pmatrix}  0&0& 1\\end{pmatrix}=\\frac{1}{\\sqrt21}\\begin{pmatrix}  -2&4i& 1\\end{pmatrix}$"
   ]
  },
  {
   "cell_type": "code",
   "execution_count": 22,
   "id": "683626e5-4d61-4be0-bc1b-41c18033532c",
   "metadata": {},
   "outputs": [
    {
     "data": {
      "text/latex": [
       "$\\displaystyle \\frac{\\sqrt{2} {\\left\\langle 0\\right|}}{2} - \\frac{\\sqrt{2} i {\\left\\langle 1\\right|}}{2}$"
      ],
      "text/plain": [
       "sqrt(2)*<0|/2 - sqrt(2)*I*<1|/2"
      ]
     },
     "execution_count": 22,
     "metadata": {},
     "output_type": "execute_result"
    }
   ],
   "source": [
    "#dual vector of ket of psi 1\n",
    "brapsi1 = Dagger(ketpsi1)\n",
    "brapsi1"
   ]
  },
  {
   "cell_type": "code",
   "execution_count": 23,
   "id": "acb6ad28-f68d-41f7-b9f8-d1ca4933eeeb",
   "metadata": {},
   "outputs": [
    {
     "data": {
      "text/latex": [
       "$\\displaystyle \\frac{\\sqrt{21} \\left(- 2 {\\left\\langle 0\\right|} - 4 i {\\left\\langle 1\\right|} + {\\left\\langle 2\\right|}\\right)}{21}$"
      ],
      "text/plain": [
       "sqrt(21)*(-2*<0| - 4*I*<1| + <2|)/21"
      ]
     },
     "execution_count": 23,
     "metadata": {},
     "output_type": "execute_result"
    }
   ],
   "source": [
    "#dual vector of ket of psi 1\n",
    "brapsi2 = Dagger(ketpsi2)\n",
    "brapsi2"
   ]
  },
  {
   "cell_type": "code",
   "execution_count": null,
   "id": "07b83c8d-dbb4-4b29-85f0-b1cfe153e279",
   "metadata": {},
   "outputs": [],
   "source": []
  },
  {
   "cell_type": "code",
   "execution_count": 24,
   "id": "c54c6cdf-e3e8-4331-bfec-4aa5efbb97f5",
   "metadata": {},
   "outputs": [
    {
     "data": {
      "text/latex": [
       "$\\displaystyle \\left[\\begin{matrix}- \\frac{2 \\sqrt{21}}{21} & - \\frac{4 \\sqrt{21} i}{21} & \\frac{\\sqrt{21}}{21}\\end{matrix}\\right]$"
      ],
      "text/plain": [
       "Matrix([[-2*sqrt(21)/21, -4*sqrt(21)*I/21, sqrt(21)/21]])"
      ]
     },
     "execution_count": 24,
     "metadata": {},
     "output_type": "execute_result"
    }
   ],
   "source": [
    "#matrix representation of bra of psi 2\n",
    "represent(brapsi2, ndim=3, format='sympy')"
   ]
  },
  {
   "cell_type": "markdown",
   "id": "dd320202-03f3-4827-9dc8-713208bffc9d",
   "metadata": {
    "tags": []
   },
   "source": [
    "# Manipulation des matrices\n",
    "\n",
    "$$\\mathtt{A}=\\begin{pmatrix} 3& -2\\\\1 & 5\\end{pmatrix}\\\\\n",
    "\\mathtt{B}=\\begin{pmatrix} −6 &−2\\\\7& 0 \\end{pmatrix}\\\\ \n",
    "\\mathtt{A+B}=\\begin{pmatrix} 3 &−4\\\\8 &5\\end{pmatrix}.$$"
   ]
  },
  {
   "cell_type": "code",
   "execution_count": 26,
   "id": "6f178c40-00bc-4df9-8da4-10b9ad16a8d3",
   "metadata": {},
   "outputs": [],
   "source": [
    "from sympy.matrices import Matrix"
   ]
  },
  {
   "cell_type": "code",
   "execution_count": 27,
   "id": "d62bd183-966c-4cfa-8886-221d8d97e7dd",
   "metadata": {},
   "outputs": [],
   "source": [
    "#We first of all need to pre-define the matrices given\n",
    "#above before doing the associated calculations.\n",
    "#It is acheived using the 'Matrix' package\n",
    "a = Matrix([[3,-2], [1,5]])\n",
    "b = Matrix([[-6,-2], [7,0]])"
   ]
  },
  {
   "cell_type": "code",
   "execution_count": 28,
   "id": "ad3789b5-3c63-417c-963f-a678f79fdeba",
   "metadata": {},
   "outputs": [
    {
     "data": {
      "text/latex": [
       "$\\displaystyle \\left[\\begin{matrix}3 & -2\\\\1 & 5\\end{matrix}\\right]$"
      ],
      "text/plain": [
       "Matrix([\n",
       "[3, -2],\n",
       "[1,  5]])"
      ]
     },
     "execution_count": 28,
     "metadata": {},
     "output_type": "execute_result"
    }
   ],
   "source": [
    "#If we need to dislay any of thes matrices we simply\n",
    "#type of its corresponding argument as follows\n",
    "a"
   ]
  },
  {
   "cell_type": "code",
   "execution_count": 29,
   "id": "e962e68e-31d2-478c-9e59-5bfc2c986362",
   "metadata": {},
   "outputs": [
    {
     "data": {
      "text/latex": [
       "$\\displaystyle \\left[\\begin{matrix}-3 & -4\\\\8 & 5\\end{matrix}\\right]$"
      ],
      "text/plain": [
       "Matrix([\n",
       "[-3, -4],\n",
       "[ 8,  5]])"
      ]
     },
     "execution_count": 29,
     "metadata": {},
     "output_type": "execute_result"
    }
   ],
   "source": [
    "a + b"
   ]
  },
  {
   "cell_type": "markdown",
   "id": "76312b67-15f6-4b9f-a09b-29641d05ef08",
   "metadata": {},
   "source": [
    "\n",
    "α=-2\n",
    "$$α\\mathtt{A}=\\begin{pmatrix} -6& 4\\\\-2 & -10\\end{pmatrix}$$"
   ]
  },
  {
   "cell_type": "code",
   "execution_count": 31,
   "id": "f476529d-2de5-467e-8cb5-bbb669ea3d6e",
   "metadata": {},
   "outputs": [
    {
     "data": {
      "text/latex": [
       "$\\displaystyle \\left[\\begin{matrix}-6 & 4\\\\-2 & -10\\end{matrix}\\right]$"
      ],
      "text/plain": [
       "Matrix([\n",
       "[-6,   4],\n",
       "[-2, -10]])"
      ]
     },
     "execution_count": 31,
     "metadata": {},
     "output_type": "execute_result"
    }
   ],
   "source": [
    "-2*a"
   ]
  },
  {
   "cell_type": "code",
   "execution_count": 32,
   "id": "67b97f39-3b9f-4ee7-9f56-3afac0de8567",
   "metadata": {},
   "outputs": [
    {
     "data": {
      "text/latex": [
       "$\\displaystyle \\left[\\begin{matrix}9 & 0\\\\-6 & 5\\end{matrix}\\right]$"
      ],
      "text/plain": [
       "Matrix([\n",
       "[ 9, 0],\n",
       "[-6, 5]])"
      ]
     },
     "execution_count": 32,
     "metadata": {},
     "output_type": "execute_result"
    }
   ],
   "source": [
    "a - b"
   ]
  },
  {
   "cell_type": "markdown",
   "id": "2d47f1da-7e96-4048-9dcc-cae59f20367a",
   "metadata": {},
   "source": [
    "Les sommes possibles de deux de ces matrices sont A + C; A + E; C + E; B + D"
   ]
  },
  {
   "cell_type": "code",
   "execution_count": 33,
   "id": "dab8e620-a1b2-4609-a632-c3a27e455c0e",
   "metadata": {},
   "outputs": [],
   "source": [
    "A= Matrix([[-7,2], [0,-1], [1,-4]])\n",
    "B = Matrix([[1,2,3], [2,3,1], [3,2,1]])\n",
    "C = Matrix([[21,-6], [0,3], [-3,12]])\n",
    "D = (Matrix([[1,0,1], [0,1,0], [1,1,1]]))/2\n",
    "E = Matrix([[1,2], [-3,0], [-8,6]])"
   ]
  },
  {
   "cell_type": "code",
   "execution_count": 34,
   "id": "77c5123f-3a0d-4f18-a72c-983ce1c0712b",
   "metadata": {},
   "outputs": [
    {
     "data": {
      "text/latex": [
       "$\\displaystyle \\left[\\begin{matrix}14 & -4\\\\0 & 2\\\\-2 & 8\\end{matrix}\\right]$"
      ],
      "text/plain": [
       "Matrix([\n",
       "[14, -4],\n",
       "[ 0,  2],\n",
       "[-2,  8]])"
      ]
     },
     "execution_count": 34,
     "metadata": {},
     "output_type": "execute_result"
    }
   ],
   "source": [
    "A + C"
   ]
  },
  {
   "cell_type": "code",
   "execution_count": 35,
   "id": "5ea5fbaf-0921-44bb-88dc-477eb91c7956",
   "metadata": {},
   "outputs": [
    {
     "data": {
      "text/latex": [
       "$\\displaystyle \\left[\\begin{matrix}21 & -6\\\\0 & 3\\\\-3 & 12\\end{matrix}\\right]$"
      ],
      "text/plain": [
       "Matrix([\n",
       "[21, -6],\n",
       "[ 0,  3],\n",
       "[-3, 12]])"
      ]
     },
     "execution_count": 35,
     "metadata": {},
     "output_type": "execute_result"
    }
   ],
   "source": [
    "3*A + 2*C"
   ]
  },
  {
   "cell_type": "markdown",
   "id": "239a1af5-88a3-4691-9090-c7c2476d1519",
   "metadata": {},
   "source": [
    "## Multiplication de matrices"
   ]
  },
  {
   "cell_type": "code",
   "execution_count": 36,
   "id": "32799b2d-21ca-4d74-bbfe-512274686140",
   "metadata": {},
   "outputs": [
    {
     "data": {
      "text/latex": [
       "$\\displaystyle \\left[\\begin{matrix}2 & 7\\\\3 & 11\\end{matrix}\\right]$"
      ],
      "text/plain": [
       "Matrix([\n",
       "[2,  7],\n",
       "[3, 11]])"
      ]
     },
     "execution_count": 36,
     "metadata": {},
     "output_type": "execute_result"
    }
   ],
   "source": [
    "A1 = Matrix([[1,2,3], [2,3,4]])\n",
    "B1 = Matrix([[1,2], [-1,1], [1,1]])\n",
    "A1 * B1"
   ]
  },
  {
   "cell_type": "code",
   "execution_count": 37,
   "id": "7b5fc92c-da82-4305-b1be-a3211d671ce2",
   "metadata": {},
   "outputs": [],
   "source": [
    "A3 = Matrix([[0,0,1], [0,1,0], [1,1,2]])\n",
    "B3 = Matrix([[1,0,0], [0,0,2], [1,-1,0]])\n",
    "C3 = Matrix([[-1,0,0], [0,3,0], [0,0,2]])"
   ]
  },
  {
   "cell_type": "code",
   "execution_count": 38,
   "id": "ce14bda1-78fa-4b48-88cb-96b05d1d569a",
   "metadata": {},
   "outputs": [
    {
     "data": {
      "text/latex": [
       "$\\displaystyle \\left[\\begin{matrix}1 & 1 & 2\\\\0 & 1 & 0\\\\2 & 3 & 5\\end{matrix}\\right]$"
      ],
      "text/plain": [
       "Matrix([\n",
       "[1, 1, 2],\n",
       "[0, 1, 0],\n",
       "[2, 3, 5]])"
      ]
     },
     "execution_count": 38,
     "metadata": {},
     "output_type": "execute_result"
    }
   ],
   "source": [
    "A3**2"
   ]
  },
  {
   "cell_type": "code",
   "execution_count": 39,
   "id": "1f4c8406-1a19-41f1-bfc7-c5042ee0b336",
   "metadata": {},
   "outputs": [
    {
     "data": {
      "text/latex": [
       "$\\displaystyle \\left[\\begin{matrix}1 & -1 & 0\\\\0 & 0 & 2\\\\3 & -2 & 2\\end{matrix}\\right]$"
      ],
      "text/plain": [
       "Matrix([\n",
       "[1, -1, 0],\n",
       "[0,  0, 2],\n",
       "[3, -2, 2]])"
      ]
     },
     "execution_count": 39,
     "metadata": {},
     "output_type": "execute_result"
    }
   ],
   "source": [
    "A3 * B3"
   ]
  },
  {
   "cell_type": "code",
   "execution_count": 40,
   "id": "84996488-7e7f-4031-957b-fee67e278dab",
   "metadata": {},
   "outputs": [
    {
     "data": {
      "text/latex": [
       "$\\displaystyle \\left[\\begin{matrix}0 & 0 & 1\\\\2 & 2 & 4\\\\0 & -1 & 1\\end{matrix}\\right]$"
      ],
      "text/plain": [
       "Matrix([\n",
       "[0,  0, 1],\n",
       "[2,  2, 4],\n",
       "[0, -1, 1]])"
      ]
     },
     "execution_count": 40,
     "metadata": {},
     "output_type": "execute_result"
    }
   ],
   "source": [
    "B3 * A3"
   ]
  },
  {
   "cell_type": "code",
   "execution_count": 41,
   "id": "3fde4321-f235-4fd1-9651-21a580cbb0ac",
   "metadata": {},
   "outputs": [
    {
     "data": {
      "text/latex": [
       "$\\displaystyle \\left[\\begin{matrix}1 & 0 & 0\\\\0 & 81 & 0\\\\0 & 0 & 16\\end{matrix}\\right]$"
      ],
      "text/plain": [
       "Matrix([\n",
       "[1,  0,  0],\n",
       "[0, 81,  0],\n",
       "[0,  0, 16]])"
      ]
     },
     "execution_count": 41,
     "metadata": {},
     "output_type": "execute_result"
    }
   ],
   "source": [
    "C3**4"
   ]
  },
  {
   "cell_type": "markdown",
   "id": "4788c894-512a-40a6-902e-ffd731afe748",
   "metadata": {},
   "source": [
    "## Inverse d'une matrice"
   ]
  },
  {
   "cell_type": "markdown",
   "id": "301fa7dc-d80d-493f-bef9-16043b7b7b89",
   "metadata": {},
   "source": [
    "### 1. Matrice 2 × 2"
   ]
  },
  {
   "cell_type": "code",
   "execution_count": 42,
   "id": "8a4d899e-e57e-4d7b-b7ef-825790937f16",
   "metadata": {},
   "outputs": [
    {
     "data": {
      "text/latex": [
       "$\\displaystyle \\left[\\begin{matrix}1 & 2\\\\3 & 4\\end{matrix}\\right]$"
      ],
      "text/plain": [
       "Matrix([\n",
       "[1, 2],\n",
       "[3, 4]])"
      ]
     },
     "execution_count": 42,
     "metadata": {},
     "output_type": "execute_result"
    }
   ],
   "source": [
    "#Declaration de la matrice A\n",
    "A = Matrix([[1,2],[3,4]])\n",
    "A\n"
   ]
  },
  {
   "cell_type": "code",
   "execution_count": 43,
   "id": "979ce08c-9569-45b2-b541-3c2d3fc30777",
   "metadata": {},
   "outputs": [
    {
     "data": {
      "text/latex": [
       "$\\displaystyle -2$"
      ],
      "text/plain": [
       "-2"
      ]
     },
     "execution_count": 43,
     "metadata": {},
     "output_type": "execute_result"
    }
   ],
   "source": [
    "#determination du determinant de la matrice A\n",
    "det_A = A.det()\n",
    "det_A"
   ]
  },
  {
   "cell_type": "code",
   "execution_count": 44,
   "id": "c6844be5-fd0b-4fb6-aade-f6e45db23095",
   "metadata": {},
   "outputs": [],
   "source": [
    "#Verification de l'inversibilite de A\n",
    "if det_A != 0: Inversible=\"OUI\"\n",
    "else: Inversible=\"NON\""
   ]
  },
  {
   "cell_type": "code",
   "execution_count": 45,
   "id": "355b0e93-a4b1-4441-8756-724ab811c08f",
   "metadata": {},
   "outputs": [
    {
     "data": {
      "text/plain": [
       "'OUI'"
      ]
     },
     "execution_count": 45,
     "metadata": {},
     "output_type": "execute_result"
    }
   ],
   "source": [
    "Inversible"
   ]
  },
  {
   "cell_type": "markdown",
   "id": "68d5e5e9-2027-4552-a650-ea8b10376f5c",
   "metadata": {},
   "source": [
    "### 1. Matrice 3 × 3"
   ]
  },
  {
   "cell_type": "code",
   "execution_count": 46,
   "id": "4ec124ff-2825-46ac-8fa6-aaf00363f795",
   "metadata": {},
   "outputs": [
    {
     "data": {
      "text/latex": [
       "$\\displaystyle \\left[\\begin{matrix}1 & 2 & 3\\\\0 & 1 & 4\\\\5 & 6 & 0\\end{matrix}\\right]$"
      ],
      "text/plain": [
       "Matrix([\n",
       "[1, 2, 3],\n",
       "[0, 1, 4],\n",
       "[5, 6, 0]])"
      ]
     },
     "execution_count": 46,
     "metadata": {},
     "output_type": "execute_result"
    }
   ],
   "source": [
    "#Declaration de la matrice A\n",
    "A = Matrix([[1,2,3],[0,1,4],[5,6,0]])\n",
    "A"
   ]
  },
  {
   "cell_type": "code",
   "execution_count": 47,
   "id": "8cd7ce0c-8826-49ca-ae8c-6c9450c59fe1",
   "metadata": {},
   "outputs": [],
   "source": [
    "#Determination de l'inverse\n",
    "A_inv = A.inv ()"
   ]
  },
  {
   "cell_type": "code",
   "execution_count": 49,
   "id": "4c15e468-3f08-46bb-a858-6e9c41e47867",
   "metadata": {},
   "outputs": [
    {
     "data": {
      "text/latex": [
       "$\\displaystyle \\left[\\begin{matrix}-24 & 18 & 5\\\\20 & -15 & -4\\\\-5 & 4 & 1\\end{matrix}\\right]$"
      ],
      "text/plain": [
       "Matrix([\n",
       "[-24,  18,  5],\n",
       "[ 20, -15, -4],\n",
       "[ -5,   4,  1]])"
      ]
     },
     "execution_count": 49,
     "metadata": {},
     "output_type": "execute_result"
    }
   ],
   "source": [
    "A_inv"
   ]
  },
  {
   "cell_type": "code",
   "execution_count": 53,
   "id": "2c0af745-f070-4d81-8755-8a97c7cb4a39",
   "metadata": {},
   "outputs": [],
   "source": [
    "#Declaration des matrices A , B ,C et D\n",
    "A = Matrix([[-1,-2],[3,4]])\n",
    "B = Matrix([[4,1],[5,7]])\n",
    "C = Matrix([[1,1,0],[0,2,0],[1,0,3]])\n",
    "D = Matrix([[1,2,0],[2,3,0],[0,0,1]])"
   ]
  },
  {
   "cell_type": "code",
   "execution_count": 54,
   "id": "88247b8b-2bee-4ecf-b950-218558e15b97",
   "metadata": {},
   "outputs": [],
   "source": [
    "#Determination des inverses des matrices A et B\n",
    "A_inv = A.inv()\n",
    "B_inv = B.inv()"
   ]
  },
  {
   "cell_type": "code",
   "execution_count": 55,
   "id": "b422eb17-bac2-4abf-89ad-5bc7969679df",
   "metadata": {},
   "outputs": [
    {
     "data": {
      "text/latex": [
       "$\\displaystyle \\left[\\begin{matrix}2 & 1\\\\- \\frac{3}{2} & - \\frac{1}{2}\\end{matrix}\\right]$"
      ],
      "text/plain": [
       "Matrix([\n",
       "[   2,    1],\n",
       "[-3/2, -1/2]])"
      ]
     },
     "execution_count": 55,
     "metadata": {},
     "output_type": "execute_result"
    }
   ],
   "source": [
    "A_inv"
   ]
  },
  {
   "cell_type": "code",
   "execution_count": 56,
   "id": "26757e08-e45b-4ea6-bc46-87fd0165dcdb",
   "metadata": {},
   "outputs": [
    {
     "data": {
      "text/latex": [
       "$\\displaystyle \\left[\\begin{matrix}\\frac{7}{23} & - \\frac{1}{23}\\\\- \\frac{5}{23} & \\frac{4}{23}\\end{matrix}\\right]$"
      ],
      "text/plain": [
       "Matrix([\n",
       "[ 7/23, -1/23],\n",
       "[-5/23,  4/23]])"
      ]
     },
     "execution_count": 56,
     "metadata": {},
     "output_type": "execute_result"
    }
   ],
   "source": [
    "B_inv"
   ]
  },
  {
   "cell_type": "code",
   "execution_count": 57,
   "id": "a92e0385-c250-4afe-8472-f7484a0526e4",
   "metadata": {},
   "outputs": [],
   "source": [
    "#Determination des inverses des produits de matrices AB et BA\n",
    "AB_inv = B_inv*A_inv\n",
    "BA_inv = A_inv*B_inv"
   ]
  },
  {
   "cell_type": "code",
   "execution_count": 58,
   "id": "791f1783-ba57-4331-ba01-ccbff996bcc4",
   "metadata": {},
   "outputs": [
    {
     "data": {
      "text/latex": [
       "$\\displaystyle \\left[\\begin{matrix}\\frac{31}{46} & \\frac{15}{46}\\\\- \\frac{16}{23} & - \\frac{7}{23}\\end{matrix}\\right]$"
      ],
      "text/plain": [
       "Matrix([\n",
       "[ 31/46, 15/46],\n",
       "[-16/23, -7/23]])"
      ]
     },
     "execution_count": 58,
     "metadata": {},
     "output_type": "execute_result"
    }
   ],
   "source": [
    "AB_inv"
   ]
  },
  {
   "cell_type": "code",
   "execution_count": 59,
   "id": "794e4e62-08b5-4b1c-9c39-871b69820576",
   "metadata": {},
   "outputs": [
    {
     "data": {
      "text/latex": [
       "$\\displaystyle \\left[\\begin{matrix}\\frac{9}{23} & \\frac{2}{23}\\\\- \\frac{8}{23} & - \\frac{1}{46}\\end{matrix}\\right]$"
      ],
      "text/plain": [
       "Matrix([\n",
       "[ 9/23,  2/23],\n",
       "[-8/23, -1/46]])"
      ]
     },
     "execution_count": 59,
     "metadata": {},
     "output_type": "execute_result"
    }
   ],
   "source": [
    "BA_inv"
   ]
  },
  {
   "cell_type": "code",
   "execution_count": 60,
   "id": "b7afa5e5-9dff-48b7-b11a-e0a8790ef87a",
   "metadata": {},
   "outputs": [],
   "source": [
    "#Exemple 9 avec sympy\n",
    "#Declaration de la matrice A\n",
    "A = Matrix([[-1,0],[3,4]])"
   ]
  },
  {
   "cell_type": "code",
   "execution_count": 61,
   "id": "d8afcd0b-e7a4-41c0-b96e-1778d8155fcd",
   "metadata": {},
   "outputs": [
    {
     "name": "stdout",
     "output_type": "stream",
     "text": [
      "la matrice A est triangulaire inferieure\n"
     ]
    }
   ],
   "source": [
    "#determination de la nature de la matrice A(triangulaire superieure,inferieure ou di\n",
    "if A.is_upper:print(\"la matrice A est triangulaire superieure\")\n",
    "#la methode `is_upper` de sympy permet de determiner si la matrice est triangulaire\n",
    "elif A.is_lower:print(\"la matrice A est triangulaire inferieure\")\n",
    "elif A.is_diagonal():print(\"La matrice A est diagonale\")\n",
    "else:print(\"la matrice A n'est pas triangulaire\")"
   ]
  },
  {
   "cell_type": "code",
   "execution_count": 62,
   "id": "a2155f7a-4e73-4f59-96ff-05e628b3ea86",
   "metadata": {},
   "outputs": [],
   "source": [
    "#Determination des transposees des matrices A et B\n",
    "Trans_A = A.transpose()\n",
    "Trans_B = B.transpose()"
   ]
  },
  {
   "cell_type": "code",
   "execution_count": 63,
   "id": "98f05671-d6db-4df6-b262-3e73e910de60",
   "metadata": {},
   "outputs": [
    {
     "data": {
      "text/latex": [
       "$\\displaystyle \\left[\\begin{matrix}-1 & 3\\\\0 & 4\\end{matrix}\\right]$"
      ],
      "text/plain": [
       "Matrix([\n",
       "[-1, 3],\n",
       "[ 0, 4]])"
      ]
     },
     "execution_count": 63,
     "metadata": {},
     "output_type": "execute_result"
    }
   ],
   "source": [
    "\n",
    "Trans_A"
   ]
  },
  {
   "cell_type": "code",
   "execution_count": 64,
   "id": "add388d8-6c1f-4bec-bd31-d25878d5c53a",
   "metadata": {},
   "outputs": [
    {
     "data": {
      "text/latex": [
       "$\\displaystyle \\left[\\begin{matrix}4 & 5\\\\1 & 7\\end{matrix}\\right]$"
      ],
      "text/plain": [
       "Matrix([\n",
       "[4, 5],\n",
       "[1, 7]])"
      ]
     },
     "execution_count": 64,
     "metadata": {},
     "output_type": "execute_result"
    }
   ],
   "source": [
    "Trans_B"
   ]
  },
  {
   "cell_type": "code",
   "execution_count": 65,
   "id": "11942604-8b7c-4e49-a263-efe6357d739b",
   "metadata": {},
   "outputs": [],
   "source": [
    "#Determination des transposees des inverses des matrices A et D\n",
    "Trans_inv_A = A.inv().transpose() #la combinaison de la fonction in() et de la metho\n",
    "Trans_inv_D = D.inv().transpose()"
   ]
  },
  {
   "cell_type": "code",
   "execution_count": 66,
   "id": "541c4060-d3cb-4ec1-a27f-71d0d0d1ae24",
   "metadata": {},
   "outputs": [
    {
     "data": {
      "text/latex": [
       "$\\displaystyle \\left[\\begin{matrix}-1 & \\frac{3}{4}\\\\0 & \\frac{1}{4}\\end{matrix}\\right]$"
      ],
      "text/plain": [
       "Matrix([\n",
       "[-1, 3/4],\n",
       "[ 0, 1/4]])"
      ]
     },
     "execution_count": 66,
     "metadata": {},
     "output_type": "execute_result"
    }
   ],
   "source": [
    "Trans_inv_A "
   ]
  },
  {
   "cell_type": "code",
   "execution_count": 67,
   "id": "ab63fe1a-05a0-487c-9805-f711c3e1b0a2",
   "metadata": {},
   "outputs": [],
   "source": [
    "#calcul de la trace de la matrice A\n",
    "TR = A.trace()"
   ]
  },
  {
   "cell_type": "code",
   "execution_count": 68,
   "id": "999c3cea-59c0-4382-8e27-901b39836481",
   "metadata": {},
   "outputs": [
    {
     "data": {
      "text/latex": [
       "$\\displaystyle 3$"
      ],
      "text/plain": [
       "3"
      ]
     },
     "execution_count": 68,
     "metadata": {},
     "output_type": "execute_result"
    }
   ],
   "source": [
    "TR\n"
   ]
  },
  {
   "cell_type": "code",
   "execution_count": 69,
   "id": "a1f45893-1f63-43e1-bbdb-7df9e1262423",
   "metadata": {},
   "outputs": [],
   "source": [
    "# Exemple 12 avec sympy\n",
    "#Declaration de la matrice A\n",
    "A = Matrix([[0,-3,4],[3,0,2],[-4,-2,0]])"
   ]
  },
  {
   "cell_type": "code",
   "execution_count": 70,
   "id": "41f8db12-1a3b-4cdb-8e67-8c516a4c2ebf",
   "metadata": {},
   "outputs": [
    {
     "name": "stdout",
     "output_type": "stream",
     "text": [
      "A est antisymetrique\n"
     ]
    }
   ],
   "source": [
    "#Determination si la matrice est sym_ou_anti\n",
    "if A == A.transpose():print(\" A est symetrique\")\n",
    "elif A == -A.transpose():print(\"A est antisymetrique\")\n",
    "else:print(\"A n'est ni symetrique ni antisymetrique\")"
   ]
  },
  {
   "cell_type": "code",
   "execution_count": null,
   "id": "f7e3213c-a2f7-4123-9105-77cdd2e170f6",
   "metadata": {},
   "outputs": [],
   "source": []
  },
  {
   "cell_type": "code",
   "execution_count": null,
   "id": "8b9e009f-7b6f-4798-99c3-fdf0ce352592",
   "metadata": {},
   "outputs": [],
   "source": []
  }
 ],
 "metadata": {
  "kernelspec": {
   "display_name": "Python 3 (ipykernel)",
   "language": "python",
   "name": "python3"
  },
  "language_info": {
   "codemirror_mode": {
    "name": "ipython",
    "version": 3
   },
   "file_extension": ".py",
   "mimetype": "text/x-python",
   "name": "python",
   "nbconvert_exporter": "python",
   "pygments_lexer": "ipython3",
   "version": "3.10.9"
  }
 },
 "nbformat": 4,
 "nbformat_minor": 5
}

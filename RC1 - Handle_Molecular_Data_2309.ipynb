{
 "cells": [
  {
   "cell_type": "markdown",
   "metadata": {},
   "source": [
    "# Basics For Molecular Data Handling\n",
    "\n",
    "1. S. C. Teguia Kouam, steve.teguia@facsciences-uy1.cm\n",
    "    * Department of Physics, Faculty of Science, University of Douala\n",
    "1. J-P. Tchapet Njafa, jean-pierre.tchapet@facsciences-uy1.cm\n",
    "    * Department of Physics, Faculty of Science, University of Maroua\n",
    "1. S. G. Nana Engo, serge.nana-engo@facsciences-uy1.cm\n",
    "    * Department of Physics, Faculty of Science, University of Yaounde I\n",
    "       \n",
    "*September 2023*"
   ]
  },
  {
   "cell_type": "markdown",
   "metadata": {},
   "source": [
    "This Tutorial aims to aid in the process of handling molecular data to be used for **cheminformatics works**. For this purpose, as first step, we will learn how to deal with molecular **SMILES** (Simplified Molecular Input Line Entry System), being one of the most common practice to represent molecules as raw input for computer algorithms.\n",
    "\n",
    "## Download Our DataBase\n",
    "\n",
    "To move forward, we suggest downloading first a dataset containing molecular files. We choose an arbitrary dataset from the `Zenodo` repository (https://zenodo.org/record/4641960/files/Diversity.zip?download=1). This dataset is composed of several molecular files (with `.txt` extensions) each of them containing a list of SMILES.\n",
    "\n",
    "\n",
    "## Read Molecular Files "
   ]
  },
  {
   "cell_type": "code",
   "execution_count": 1,
   "metadata": {},
   "outputs": [],
   "source": [
    "# import libraries\n",
    "import os"
   ]
  },
  {
   "cell_type": "code",
   "execution_count": 2,
   "metadata": {},
   "outputs": [],
   "source": [
    "# path to the current work directory\n",
    "main_path = os.getcwd()\n",
    "# path to the database\n",
    "#path_to_db = os.path.join(main_path + '/../Datasets/Diversity/diversity/')\n",
    "# path to a specific molecular file: first file containing 1000 SMILES\n",
    "mol_file = main_path  + '/chembl_24.1_smiles-n=1000-min_tc=0.0-sample_idx=1.txt'"
   ]
  },
  {
   "cell_type": "markdown",
   "metadata": {},
   "source": [
    "**1. First Method**"
   ]
  },
  {
   "cell_type": "code",
   "execution_count": 3,
   "metadata": {},
   "outputs": [],
   "source": [
    "with open(mol_file, 'r') as file:\n",
    "    file1 = file.read().split('\\n')\n",
    "\n",
    "type(file1)"
   ]
  },
  {
   "cell_type": "markdown",
   "metadata": {},
   "source": [
    "**Select the first molecular smiles of the file**"
   ]
  },
  {
   "cell_type": "code",
   "execution_count": 9,
   "metadata": {},
   "outputs": [
    {
     "data": {
      "text/plain": [
       "'CCC[N+](CC#Cc1ccccc1)(CCC)CC(=O)c1ccc(Cl)cc1'"
      ]
     },
     "execution_count": 9,
     "metadata": {},
     "output_type": "execute_result"
    }
   ],
   "source": [
    "smiles1 = file1[0]\n",
    "smiles1"
   ]
  },
  {
   "cell_type": "markdown",
   "metadata": {},
   "source": [
    "**2. Second Method**"
   ]
  },
  {
   "cell_type": "code",
   "execution_count": null,
   "metadata": {},
   "outputs": [],
   "source": []
  },
  {
   "cell_type": "code",
   "execution_count": 10,
   "metadata": {},
   "outputs": [
    {
     "data": {
      "text/plain": [
       "<_io.TextIOWrapper name='/home/mvoto/Téléchargements/RC1/chembl_24.1_smiles-n=1000-min_tc=0.0-sample_idx=1.txt' mode='r' encoding='utf-8'>"
      ]
     },
     "execution_count": 10,
     "metadata": {},
     "output_type": "execute_result"
    }
   ],
   "source": [
    "# open the file while changing the encoding to 'utf-8'\n",
    "file2 = open(mol_file, encoding='utf-8')\n",
    "\n",
    "file2"
   ]
  },
  {
   "cell_type": "code",
   "execution_count": 11,
   "metadata": {},
   "outputs": [],
   "source": [
    "# read the lines of the molecular file\n",
    "lin = file2.readlines()"
   ]
  },
  {
   "cell_type": "code",
   "execution_count": 12,
   "metadata": {},
   "outputs": [
    {
     "data": {
      "text/plain": [
       "1000"
      ]
     },
     "execution_count": 12,
     "metadata": {},
     "output_type": "execute_result"
    }
   ],
   "source": [
    "len(lin)"
   ]
  },
  {
   "cell_type": "markdown",
   "metadata": {},
   "source": [
    "**Select the first molecular smiles of the file**"
   ]
  },
  {
   "cell_type": "code",
   "execution_count": 14,
   "metadata": {},
   "outputs": [
    {
     "data": {
      "text/plain": [
       "'CCC[N+](CC#Cc1ccccc1)(CCC)CC(=O)c1ccc(Cl)cc1'"
      ]
     },
     "execution_count": 14,
     "metadata": {},
     "output_type": "execute_result"
    }
   ],
   "source": [
    "smiles1 = lin[0].split()[0]\n",
    "smiles1"
   ]
  },
  {
   "cell_type": "markdown",
   "metadata": {},
   "source": [
    "## Create Molecular Objects\n",
    "\n",
    "### **Using `OpenBabel`**"
   ]
  },
  {
   "cell_type": "code",
   "execution_count": null,
   "metadata": {},
   "outputs": [],
   "source": []
  },
  {
   "cell_type": "code",
   "execution_count": 15,
   "metadata": {},
   "outputs": [],
   "source": [
    "# import libraries \n",
    "from openbabel import pybel as pb  \n",
    "from openbabel import openbabel as ob "
   ]
  },
  {
   "cell_type": "markdown",
   "metadata": {},
   "source": [
    "**create an `openbabel` molecular object**"
   ]
  },
  {
   "cell_type": "code",
   "execution_count": 16,
   "metadata": {},
   "outputs": [
    {
     "data": {
      "image/svg+xml": [
       "<svg xmlns=\"http://www.w3.org/2000/svg\" width=\"100\" height=\"100\" x=\"0\" y=\"0\" viewBox=\"0 0 460 313.205\" font-family=\"sans-serif\" stroke=\"rgb(0,0,0)\" stroke-width=\"2\" stroke-linecap=\"round\">\n",
       "<line x1=\"202.0\" y1=\"259.7\" x2=\"225.4\" y2=\"273.2\" opacity=\"1.0\" stroke=\"rgb(0,0,0)\" stroke-width=\"2.0\" />\n",
       "<line x1=\"225.4\" y1=\"273.2\" x2=\"260.0\" y2=\"253.2\" opacity=\"1.0\" stroke=\"rgb(0,0,0)\" stroke-width=\"2.0\" />\n",
       "<line x1=\"260.0\" y1=\"253.2\" x2=\"260.0\" y2=\"226.2\" opacity=\"1.0\" stroke=\"rgb(0,0,0)\" stroke-width=\"2.0\" />\n",
       "<line x1=\"273.0\" y1=\"213.2\" x2=\"300.0\" y2=\"213.2\" opacity=\"1.0\" stroke=\"rgb(0,0,0)\" stroke-width=\"2.0\" />\n",
       "<line x1=\"300.0\" y1=\"213.2\" x2=\"320.0\" y2=\"178.6\" opacity=\"1.0\" stroke=\"rgb(0,0,0)\" stroke-width=\"2.0\" />\n",
       "<line x1=\"320.0\" y1=\"178.6\" x2=\"340.0\" y2=\"143.9\" opacity=\"1.0\" stroke=\"rgb(0,0,0)\" stroke-width=\"2.0\" />\n",
       "<line x1=\"316.4\" y1=\"176.5\" x2=\"336.4\" y2=\"141.8\" opacity=\"1.0\" stroke=\"rgb(0,0,0)\" stroke-width=\"2.0\" />\n",
       "<line x1=\"323.6\" y1=\"180.7\" x2=\"343.6\" y2=\"146.0\" opacity=\"1.0\" stroke=\"rgb(0,0,0)\" stroke-width=\"2.0\" />\n",
       "<line x1=\"340.0\" y1=\"143.9\" x2=\"360.0\" y2=\"109.3\" opacity=\"1.0\" stroke=\"rgb(0,0,0)\" stroke-width=\"2.0\" />\n",
       "<line x1=\"260.0\" y1=\"200.2\" x2=\"260.0\" y2=\"173.2\" opacity=\"1.0\" stroke=\"rgb(0,0,0)\" stroke-width=\"2.0\" />\n",
       "<line x1=\"260.0\" y1=\"173.2\" x2=\"294.6\" y2=\"153.2\" opacity=\"1.0\" stroke=\"rgb(0,0,0)\" stroke-width=\"2.0\" />\n",
       "<line x1=\"294.6\" y1=\"153.2\" x2=\"294.6\" y2=\"126.2\" opacity=\"1.0\" stroke=\"rgb(0,0,0)\" stroke-width=\"2.0\" />\n",
       "<line x1=\"247.0\" y1=\"213.2\" x2=\"220.0\" y2=\"213.2\" opacity=\"1.0\" stroke=\"rgb(0,0,0)\" stroke-width=\"2.0\" />\n",
       "<line x1=\"220.0\" y1=\"213.2\" x2=\"200.0\" y2=\"178.6\" opacity=\"1.0\" stroke=\"rgb(0,0,0)\" stroke-width=\"2.0\" />\n",
       "<line x1=\"197.4\" y1=\"177.1\" x2=\"210.9\" y2=\"153.7\" opacity=\"1.0\" stroke=\"rgb(0,0,0)\" stroke-width=\"2.0\" />\n",
       "<line x1=\"202.6\" y1=\"180.1\" x2=\"216.1\" y2=\"156.7\" opacity=\"1.0\" stroke=\"rgb(0,0,0)\" stroke-width=\"2.0\" />\n",
       "<line x1=\"200.0\" y1=\"178.6\" x2=\"160.0\" y2=\"178.6\" opacity=\"1.0\" stroke=\"rgb(0,0,0)\" stroke-width=\"2.0\" />\n",
       "<line x1=\"80.0\" y1=\"178.6\" x2=\"53.0\" y2=\"178.6\" opacity=\"1.0\" stroke=\"rgb(0,0,0)\" stroke-width=\"2.0\" />\n",
       "<line x1=\"340.0\" y1=\"74.6\" x2=\"360.0\" y2=\"109.3\" opacity=\"1.0\" stroke=\"rgb(0,0,0)\" stroke-width=\"2.0\" />\n",
       "<line x1=\"360.0\" y1=\"109.3\" x2=\"400.0\" y2=\"109.3\" opacity=\"1.0\" stroke=\"rgb(0,0,0)\" stroke-width=\"2.0\" />\n",
       "<line x1=\"366.0\" y1=\"102.1\" x2=\"394.0\" y2=\"102.1\" opacity=\"1.0\" stroke=\"rgb(0,0,0)\" stroke-width=\"2.0\" />\n",
       "<line x1=\"400.0\" y1=\"109.3\" x2=\"420.0\" y2=\"74.6\" opacity=\"1.0\" stroke=\"rgb(0,0,0)\" stroke-width=\"2.0\" />\n",
       "<line x1=\"420.0\" y1=\"74.6\" x2=\"400.0\" y2=\"40.0\" opacity=\"1.0\" stroke=\"rgb(0,0,0)\" stroke-width=\"2.0\" />\n",
       "<line x1=\"410.8\" y1=\"73.0\" x2=\"396.8\" y2=\"48.8\" opacity=\"1.0\" stroke=\"rgb(0,0,0)\" stroke-width=\"2.0\" />\n",
       "<line x1=\"400.0\" y1=\"40.0\" x2=\"360.0\" y2=\"40.0\" opacity=\"1.0\" stroke=\"rgb(0,0,0)\" stroke-width=\"2.0\" />\n",
       "<line x1=\"360.0\" y1=\"40.0\" x2=\"340.0\" y2=\"74.6\" opacity=\"1.0\" stroke=\"rgb(0,0,0)\" stroke-width=\"2.0\" />\n",
       "<line x1=\"363.2\" y1=\"48.8\" x2=\"349.2\" y2=\"73.0\" opacity=\"1.0\" stroke=\"rgb(0,0,0)\" stroke-width=\"2.0\" />\n",
       "<line x1=\"140.0\" y1=\"213.2\" x2=\"160.0\" y2=\"178.6\" opacity=\"1.0\" stroke=\"rgb(0,0,0)\" stroke-width=\"2.0\" />\n",
       "<line x1=\"160.0\" y1=\"178.6\" x2=\"140.0\" y2=\"143.9\" opacity=\"1.0\" stroke=\"rgb(0,0,0)\" stroke-width=\"2.0\" />\n",
       "<line x1=\"150.8\" y1=\"177.0\" x2=\"136.8\" y2=\"152.7\" opacity=\"1.0\" stroke=\"rgb(0,0,0)\" stroke-width=\"2.0\" />\n",
       "<line x1=\"140.0\" y1=\"143.9\" x2=\"100.0\" y2=\"143.9\" opacity=\"1.0\" stroke=\"rgb(0,0,0)\" stroke-width=\"2.0\" />\n",
       "<line x1=\"100.0\" y1=\"143.9\" x2=\"80.0\" y2=\"178.6\" opacity=\"1.0\" stroke=\"rgb(0,0,0)\" stroke-width=\"2.0\" />\n",
       "<line x1=\"103.2\" y1=\"152.7\" x2=\"89.2\" y2=\"177.0\" opacity=\"1.0\" stroke=\"rgb(0,0,0)\" stroke-width=\"2.0\" />\n",
       "<line x1=\"80.0\" y1=\"178.6\" x2=\"100.0\" y2=\"213.2\" opacity=\"1.0\" stroke=\"rgb(0,0,0)\" stroke-width=\"2.0\" />\n",
       "<line x1=\"100.0\" y1=\"213.2\" x2=\"140.0\" y2=\"213.2\" opacity=\"1.0\" stroke=\"rgb(0,0,0)\" stroke-width=\"2.0\" />\n",
       "<line x1=\"106.0\" y1=\"206.0\" x2=\"134.0\" y2=\"206.0\" opacity=\"1.0\" stroke=\"rgb(0,0,0)\" stroke-width=\"2.0\" />\n",
       "<text x=\"22.000000\" y=\"186.564065\" fill=\"rgb(30,239,30)\" stroke-width=\"0\" font-weight=\"bold\" font-size=\"16\">Cl</text>\n",
       "<text x=\"214.000000\" y=\"151.923048\" fill=\"rgb(255,12,12)\" stroke-width=\"0\" font-weight=\"bold\" font-size=\"16\">O</text>\n",
       "<text x=\"290.641016\" y=\"121.205081\" fill=\"rgb(102,102,102)\" stroke-width=\"0\" font-weight=\"bold\" font-size=\"16\">CH</text>\n",
       "<text x=\"314.641016\" y=\"124.885081\" fill=\"rgb(102,102,102)\" stroke-width=\"0\" font-weight=\"bold\" font-size=\"13\">3</text>\n",
       "<text x=\"164.717968\" y=\"261.205081\" fill=\"rgb(102,102,102)\" stroke-width=\"0\" font-weight=\"bold\" font-size=\"16\">H</text>\n",
       "<text x=\"176.717968\" y=\"264.885081\" fill=\"rgb(102,102,102)\" stroke-width=\"0\" font-weight=\"bold\" font-size=\"13\">3</text>\n",
       "<text x=\"183.217968\" y=\"261.205081\" fill=\"rgb(102,102,102)\" stroke-width=\"0\" font-weight=\"bold\" font-size=\"16\">C</text>\n",
       "<text x=\"264.800000\" y=\"209.173081\" fill=\"rgb(12,12,255)\" stroke-width=\"0\" font-weight=\"bold\" font-size=\"16\">+</text>\n",
       "<text x=\"254.000000\" y=\"221.205081\" fill=\"rgb(12,12,255)\" stroke-width=\"0\" font-weight=\"bold\" font-size=\"16\">N</text>\n",
       "</svg>\n"
      ],
      "text/plain": [
       "<openbabel.pybel.Molecule at 0x7fc7806a3e20>"
      ]
     },
     "execution_count": 16,
     "metadata": {},
     "output_type": "execute_result"
    }
   ],
   "source": [
    "# create an openbabel molecular object\n",
    "obmol = pb.readstring('smiles', smiles1)\n",
    "obmol"
   ]
  },
  {
   "cell_type": "markdown",
   "metadata": {},
   "source": [
    "**Add Hydrogen atoms to our molecule for 3D**"
   ]
  },
  {
   "cell_type": "code",
   "execution_count": 17,
   "metadata": {},
   "outputs": [
    {
     "data": {
      "image/svg+xml": [
       "<svg xmlns=\"http://www.w3.org/2000/svg\" width=\"100\" height=\"100\" x=\"0\" y=\"0\" viewBox=\"0 0 500 391.769\" font-family=\"sans-serif\" stroke=\"rgb(0,0,0)\" stroke-width=\"2\" stroke-linecap=\"round\">\n",
       "<line x1=\"329.3\" y1=\"103.9\" x2=\"294.6\" y2=\"83.9\" opacity=\"1.0\" stroke=\"rgb(0,0,0)\" stroke-width=\"2.0\" />\n",
       "<line x1=\"294.6\" y1=\"83.9\" x2=\"260.0\" y2=\"103.9\" opacity=\"1.0\" stroke=\"rgb(0,0,0)\" stroke-width=\"2.0\" />\n",
       "<line x1=\"260.0\" y1=\"103.9\" x2=\"260.0\" y2=\"130.9\" opacity=\"1.0\" stroke=\"rgb(0,0,0)\" stroke-width=\"2.0\" />\n",
       "<line x1=\"273.0\" y1=\"143.9\" x2=\"300.0\" y2=\"143.9\" opacity=\"1.0\" stroke=\"rgb(0,0,0)\" stroke-width=\"2.0\" />\n",
       "<line x1=\"300.0\" y1=\"143.9\" x2=\"320.0\" y2=\"178.6\" opacity=\"1.0\" stroke=\"rgb(0,0,0)\" stroke-width=\"2.0\" />\n",
       "<line x1=\"320.0\" y1=\"178.6\" x2=\"340.0\" y2=\"213.2\" opacity=\"1.0\" stroke=\"rgb(0,0,0)\" stroke-width=\"2.0\" />\n",
       "<line x1=\"323.6\" y1=\"176.5\" x2=\"343.6\" y2=\"211.1\" opacity=\"1.0\" stroke=\"rgb(0,0,0)\" stroke-width=\"2.0\" />\n",
       "<line x1=\"316.4\" y1=\"180.7\" x2=\"336.4\" y2=\"215.3\" opacity=\"1.0\" stroke=\"rgb(0,0,0)\" stroke-width=\"2.0\" />\n",
       "<line x1=\"340.0\" y1=\"213.2\" x2=\"360.0\" y2=\"247.8\" opacity=\"1.0\" stroke=\"rgb(0,0,0)\" stroke-width=\"2.0\" />\n",
       "<line x1=\"260.0\" y1=\"156.9\" x2=\"260.0\" y2=\"183.9\" opacity=\"1.0\" stroke=\"rgb(0,0,0)\" stroke-width=\"2.0\" />\n",
       "<line x1=\"260.0\" y1=\"183.9\" x2=\"225.4\" y2=\"203.9\" opacity=\"1.0\" stroke=\"rgb(0,0,0)\" stroke-width=\"2.0\" />\n",
       "<line x1=\"225.4\" y1=\"203.9\" x2=\"225.4\" y2=\"243.9\" opacity=\"1.0\" stroke=\"rgb(0,0,0)\" stroke-width=\"2.0\" />\n",
       "<line x1=\"247.0\" y1=\"143.9\" x2=\"220.0\" y2=\"143.9\" opacity=\"1.0\" stroke=\"rgb(0,0,0)\" stroke-width=\"2.0\" />\n",
       "<line x1=\"220.0\" y1=\"143.9\" x2=\"200.0\" y2=\"109.3\" opacity=\"1.0\" stroke=\"rgb(0,0,0)\" stroke-width=\"2.0\" />\n",
       "<line x1=\"197.4\" y1=\"107.8\" x2=\"210.9\" y2=\"84.4\" opacity=\"1.0\" stroke=\"rgb(0,0,0)\" stroke-width=\"2.0\" />\n",
       "<line x1=\"202.6\" y1=\"110.8\" x2=\"216.1\" y2=\"87.4\" opacity=\"1.0\" stroke=\"rgb(0,0,0)\" stroke-width=\"2.0\" />\n",
       "<line x1=\"200.0\" y1=\"109.3\" x2=\"160.0\" y2=\"109.3\" opacity=\"1.0\" stroke=\"rgb(0,0,0)\" stroke-width=\"2.0\" />\n",
       "<line x1=\"80.0\" y1=\"109.3\" x2=\"53.0\" y2=\"109.3\" opacity=\"1.0\" stroke=\"rgb(0,0,0)\" stroke-width=\"2.0\" />\n",
       "<line x1=\"329.3\" y1=\"103.9\" x2=\"356.3\" y2=\"103.9\" opacity=\"1.0\" stroke=\"rgb(0,0,0)\" stroke-width=\"2.0\" />\n",
       "<line x1=\"329.3\" y1=\"103.9\" x2=\"342.8\" y2=\"80.5\" opacity=\"1.0\" stroke=\"rgb(0,0,0)\" stroke-width=\"2.0\" />\n",
       "<line x1=\"329.3\" y1=\"103.9\" x2=\"329.3\" y2=\"130.9\" opacity=\"1.0\" stroke=\"rgb(0,0,0)\" stroke-width=\"2.0\" />\n",
       "<line x1=\"294.6\" y1=\"83.9\" x2=\"281.1\" y2=\"60.5\" opacity=\"1.0\" stroke=\"rgb(0,0,0)\" stroke-width=\"2.0\" />\n",
       "<line x1=\"294.6\" y1=\"83.9\" x2=\"308.1\" y2=\"60.5\" opacity=\"1.0\" stroke=\"rgb(0,0,0)\" stroke-width=\"2.0\" />\n",
       "<line x1=\"260.0\" y1=\"103.9\" x2=\"233.0\" y2=\"103.9\" opacity=\"1.0\" stroke=\"rgb(0,0,0)\" stroke-width=\"2.0\" />\n",
       "<line x1=\"260.0\" y1=\"103.9\" x2=\"246.5\" y2=\"80.5\" opacity=\"1.0\" stroke=\"rgb(0,0,0)\" stroke-width=\"2.0\" />\n",
       "<line x1=\"300.0\" y1=\"143.9\" x2=\"323.4\" y2=\"130.4\" opacity=\"1.0\" stroke=\"rgb(0,0,0)\" stroke-width=\"2.0\" />\n",
       "<line x1=\"300.0\" y1=\"143.9\" x2=\"300.0\" y2=\"116.9\" opacity=\"1.0\" stroke=\"rgb(0,0,0)\" stroke-width=\"2.0\" />\n",
       "<line x1=\"400.0\" y1=\"247.8\" x2=\"413.5\" y2=\"224.5\" opacity=\"1.0\" stroke=\"rgb(0,0,0)\" stroke-width=\"2.0\" />\n",
       "<line x1=\"420.0\" y1=\"282.5\" x2=\"447.0\" y2=\"282.5\" opacity=\"1.0\" stroke=\"rgb(0,0,0)\" stroke-width=\"2.0\" />\n",
       "<line x1=\"400.0\" y1=\"317.1\" x2=\"413.5\" y2=\"340.5\" opacity=\"1.0\" stroke=\"rgb(0,0,0)\" stroke-width=\"2.0\" />\n",
       "<line x1=\"360.0\" y1=\"317.1\" x2=\"346.5\" y2=\"340.5\" opacity=\"1.0\" stroke=\"rgb(0,0,0)\" stroke-width=\"2.0\" />\n",
       "<line x1=\"340.0\" y1=\"282.5\" x2=\"313.0\" y2=\"282.5\" opacity=\"1.0\" stroke=\"rgb(0,0,0)\" stroke-width=\"2.0\" />\n",
       "<line x1=\"260.0\" y1=\"183.9\" x2=\"273.5\" y2=\"207.3\" opacity=\"1.0\" stroke=\"rgb(0,0,0)\" stroke-width=\"2.0\" />\n",
       "<line x1=\"260.0\" y1=\"183.9\" x2=\"287.0\" y2=\"183.9\" opacity=\"1.0\" stroke=\"rgb(0,0,0)\" stroke-width=\"2.0\" />\n",
       "<line x1=\"225.4\" y1=\"203.9\" x2=\"198.4\" y2=\"203.9\" opacity=\"1.0\" stroke=\"rgb(0,0,0)\" stroke-width=\"2.0\" />\n",
       "<line x1=\"225.4\" y1=\"203.9\" x2=\"211.9\" y2=\"180.5\" opacity=\"1.0\" stroke=\"rgb(0,0,0)\" stroke-width=\"2.0\" />\n",
       "<line x1=\"225.4\" y1=\"243.9\" x2=\"211.9\" y2=\"267.3\" opacity=\"1.0\" stroke=\"rgb(0,0,0)\" stroke-width=\"2.0\" />\n",
       "<line x1=\"225.4\" y1=\"243.9\" x2=\"198.4\" y2=\"243.9\" opacity=\"1.0\" stroke=\"rgb(0,0,0)\" stroke-width=\"2.0\" />\n",
       "<line x1=\"225.4\" y1=\"243.9\" x2=\"248.7\" y2=\"257.4\" opacity=\"1.0\" stroke=\"rgb(0,0,0)\" stroke-width=\"2.0\" />\n",
       "<line x1=\"220.0\" y1=\"143.9\" x2=\"196.6\" y2=\"157.4\" opacity=\"1.0\" stroke=\"rgb(0,0,0)\" stroke-width=\"2.0\" />\n",
       "<line x1=\"220.0\" y1=\"143.9\" x2=\"220.0\" y2=\"170.9\" opacity=\"1.0\" stroke=\"rgb(0,0,0)\" stroke-width=\"2.0\" />\n",
       "<line x1=\"140.0\" y1=\"143.9\" x2=\"153.5\" y2=\"167.3\" opacity=\"1.0\" stroke=\"rgb(0,0,0)\" stroke-width=\"2.0\" />\n",
       "<line x1=\"100.0\" y1=\"143.9\" x2=\"86.5\" y2=\"167.3\" opacity=\"1.0\" stroke=\"rgb(0,0,0)\" stroke-width=\"2.0\" />\n",
       "<line x1=\"100.0\" y1=\"74.6\" x2=\"86.5\" y2=\"51.3\" opacity=\"1.0\" stroke=\"rgb(0,0,0)\" stroke-width=\"2.0\" />\n",
       "<line x1=\"140.0\" y1=\"74.6\" x2=\"153.5\" y2=\"51.3\" opacity=\"1.0\" stroke=\"rgb(0,0,0)\" stroke-width=\"2.0\" />\n",
       "<line x1=\"400.0\" y1=\"247.8\" x2=\"360.0\" y2=\"247.8\" opacity=\"1.0\" stroke=\"rgb(0,0,0)\" stroke-width=\"2.0\" />\n",
       "<line x1=\"360.0\" y1=\"247.8\" x2=\"340.0\" y2=\"282.5\" opacity=\"1.0\" stroke=\"rgb(0,0,0)\" stroke-width=\"2.0\" />\n",
       "<line x1=\"363.2\" y1=\"256.6\" x2=\"349.2\" y2=\"280.9\" opacity=\"1.0\" stroke=\"rgb(0,0,0)\" stroke-width=\"2.0\" />\n",
       "<line x1=\"340.0\" y1=\"282.5\" x2=\"360.0\" y2=\"317.1\" opacity=\"1.0\" stroke=\"rgb(0,0,0)\" stroke-width=\"2.0\" />\n",
       "<line x1=\"360.0\" y1=\"317.1\" x2=\"400.0\" y2=\"317.1\" opacity=\"1.0\" stroke=\"rgb(0,0,0)\" stroke-width=\"2.0\" />\n",
       "<line x1=\"366.0\" y1=\"309.9\" x2=\"394.0\" y2=\"309.9\" opacity=\"1.0\" stroke=\"rgb(0,0,0)\" stroke-width=\"2.0\" />\n",
       "<line x1=\"400.0\" y1=\"317.1\" x2=\"420.0\" y2=\"282.5\" opacity=\"1.0\" stroke=\"rgb(0,0,0)\" stroke-width=\"2.0\" />\n",
       "<line x1=\"420.0\" y1=\"282.5\" x2=\"400.0\" y2=\"247.8\" opacity=\"1.0\" stroke=\"rgb(0,0,0)\" stroke-width=\"2.0\" />\n",
       "<line x1=\"410.8\" y1=\"280.9\" x2=\"396.8\" y2=\"256.6\" opacity=\"1.0\" stroke=\"rgb(0,0,0)\" stroke-width=\"2.0\" />\n",
       "<line x1=\"140.0\" y1=\"143.9\" x2=\"160.0\" y2=\"109.3\" opacity=\"1.0\" stroke=\"rgb(0,0,0)\" stroke-width=\"2.0\" />\n",
       "<line x1=\"160.0\" y1=\"109.3\" x2=\"140.0\" y2=\"74.6\" opacity=\"1.0\" stroke=\"rgb(0,0,0)\" stroke-width=\"2.0\" />\n",
       "<line x1=\"150.8\" y1=\"107.7\" x2=\"136.8\" y2=\"83.4\" opacity=\"1.0\" stroke=\"rgb(0,0,0)\" stroke-width=\"2.0\" />\n",
       "<line x1=\"140.0\" y1=\"74.6\" x2=\"100.0\" y2=\"74.6\" opacity=\"1.0\" stroke=\"rgb(0,0,0)\" stroke-width=\"2.0\" />\n",
       "<line x1=\"100.0\" y1=\"74.6\" x2=\"80.0\" y2=\"109.3\" opacity=\"1.0\" stroke=\"rgb(0,0,0)\" stroke-width=\"2.0\" />\n",
       "<line x1=\"103.2\" y1=\"83.4\" x2=\"89.2\" y2=\"107.7\" opacity=\"1.0\" stroke=\"rgb(0,0,0)\" stroke-width=\"2.0\" />\n",
       "<line x1=\"80.0\" y1=\"109.3\" x2=\"100.0\" y2=\"143.9\" opacity=\"1.0\" stroke=\"rgb(0,0,0)\" stroke-width=\"2.0\" />\n",
       "<line x1=\"100.0\" y1=\"143.9\" x2=\"140.0\" y2=\"143.9\" opacity=\"1.0\" stroke=\"rgb(0,0,0)\" stroke-width=\"2.0\" />\n",
       "<line x1=\"106.0\" y1=\"136.7\" x2=\"134.0\" y2=\"136.7\" opacity=\"1.0\" stroke=\"rgb(0,0,0)\" stroke-width=\"2.0\" />\n",
       "<text x=\"274.000000\" y=\"226.564065\" fill=\"rgb(191,191,191)\" stroke-width=\"0\" font-weight=\"bold\" font-size=\"16\">H</text>\n",
       "<text x=\"343.282032\" y=\"77.282032\" fill=\"rgb(191,191,191)\" stroke-width=\"0\" font-weight=\"bold\" font-size=\"16\">H</text>\n",
       "<text x=\"323.282032\" y=\"151.923048\" fill=\"rgb(191,191,191)\" stroke-width=\"0\" font-weight=\"bold\" font-size=\"16\">H</text>\n",
       "<text x=\"268.641016\" y=\"57.282032\" fill=\"rgb(191,191,191)\" stroke-width=\"0\" font-weight=\"bold\" font-size=\"16\">H</text>\n",
       "<text x=\"308.641016\" y=\"57.282032\" fill=\"rgb(191,191,191)\" stroke-width=\"0\" font-weight=\"bold\" font-size=\"16\">H</text>\n",
       "<text x=\"214.000000\" y=\"111.923048\" fill=\"rgb(191,191,191)\" stroke-width=\"0\" font-weight=\"bold\" font-size=\"16\">H</text>\n",
       "<text x=\"234.000000\" y=\"77.282032\" fill=\"rgb(191,191,191)\" stroke-width=\"0\" font-weight=\"bold\" font-size=\"16\">H</text>\n",
       "<text x=\"328.641016\" y=\"131.923048\" fill=\"rgb(191,191,191)\" stroke-width=\"0\" font-weight=\"bold\" font-size=\"16\">H</text>\n",
       "<text x=\"294.000000\" y=\"111.923048\" fill=\"rgb(191,191,191)\" stroke-width=\"0\" font-weight=\"bold\" font-size=\"16\">H</text>\n",
       "<text x=\"414.000000\" y=\"221.205081\" fill=\"rgb(191,191,191)\" stroke-width=\"0\" font-weight=\"bold\" font-size=\"16\">H</text>\n",
       "<text x=\"454.000000\" y=\"290.487113\" fill=\"rgb(191,191,191)\" stroke-width=\"0\" font-weight=\"bold\" font-size=\"16\">H</text>\n",
       "<text x=\"414.000000\" y=\"359.769145\" fill=\"rgb(191,191,191)\" stroke-width=\"0\" font-weight=\"bold\" font-size=\"16\">H</text>\n",
       "<text x=\"334.000000\" y=\"359.769145\" fill=\"rgb(191,191,191)\" stroke-width=\"0\" font-weight=\"bold\" font-size=\"16\">H</text>\n",
       "<text x=\"294.000000\" y=\"290.487113\" fill=\"rgb(191,191,191)\" stroke-width=\"0\" font-weight=\"bold\" font-size=\"16\">H</text>\n",
       "<text x=\"363.282032\" y=\"111.923048\" fill=\"rgb(191,191,191)\" stroke-width=\"0\" font-weight=\"bold\" font-size=\"16\">H</text>\n",
       "<text x=\"294.000000\" y=\"191.923048\" fill=\"rgb(191,191,191)\" stroke-width=\"0\" font-weight=\"bold\" font-size=\"16\">H</text>\n",
       "<text x=\"179.358984\" y=\"211.923048\" fill=\"rgb(191,191,191)\" stroke-width=\"0\" font-weight=\"bold\" font-size=\"16\">H</text>\n",
       "<text x=\"199.358984\" y=\"177.282032\" fill=\"rgb(191,191,191)\" stroke-width=\"0\" font-weight=\"bold\" font-size=\"16\">H</text>\n",
       "<text x=\"199.358984\" y=\"286.564065\" fill=\"rgb(191,191,191)\" stroke-width=\"0\" font-weight=\"bold\" font-size=\"16\">H</text>\n",
       "<text x=\"179.358984\" y=\"251.923048\" fill=\"rgb(191,191,191)\" stroke-width=\"0\" font-weight=\"bold\" font-size=\"16\">H</text>\n",
       "<text x=\"254.000000\" y=\"271.923048\" fill=\"rgb(191,191,191)\" stroke-width=\"0\" font-weight=\"bold\" font-size=\"16\">H</text>\n",
       "<text x=\"179.358984\" y=\"171.923048\" fill=\"rgb(191,191,191)\" stroke-width=\"0\" font-weight=\"bold\" font-size=\"16\">H</text>\n",
       "<text x=\"214.000000\" y=\"191.923048\" fill=\"rgb(191,191,191)\" stroke-width=\"0\" font-weight=\"bold\" font-size=\"16\">H</text>\n",
       "<text x=\"154.000000\" y=\"186.564065\" fill=\"rgb(191,191,191)\" stroke-width=\"0\" font-weight=\"bold\" font-size=\"16\">H</text>\n",
       "<text x=\"74.000000\" y=\"186.564065\" fill=\"rgb(191,191,191)\" stroke-width=\"0\" font-weight=\"bold\" font-size=\"16\">H</text>\n",
       "<text x=\"74.000000\" y=\"48.000000\" fill=\"rgb(191,191,191)\" stroke-width=\"0\" font-weight=\"bold\" font-size=\"16\">H</text>\n",
       "<text x=\"154.000000\" y=\"48.000000\" fill=\"rgb(191,191,191)\" stroke-width=\"0\" font-weight=\"bold\" font-size=\"16\">H</text>\n",
       "<text x=\"264.800000\" y=\"139.891048\" fill=\"rgb(12,12,255)\" stroke-width=\"0\" font-weight=\"bold\" font-size=\"16\">+</text>\n",
       "<text x=\"254.000000\" y=\"151.923048\" fill=\"rgb(12,12,255)\" stroke-width=\"0\" font-weight=\"bold\" font-size=\"16\">N</text>\n",
       "<text x=\"214.000000\" y=\"82.641016\" fill=\"rgb(255,12,12)\" stroke-width=\"0\" font-weight=\"bold\" font-size=\"16\">O</text>\n",
       "<text x=\"22.000000\" y=\"117.282032\" fill=\"rgb(30,239,30)\" stroke-width=\"0\" font-weight=\"bold\" font-size=\"16\">Cl</text>\n",
       "</svg>\n"
      ],
      "text/plain": [
       "<openbabel.pybel.Molecule at 0x7fc7806a3e20>"
      ]
     },
     "execution_count": 17,
     "metadata": {},
     "output_type": "execute_result"
    }
   ],
   "source": [
    "# add Hs to our Molecule\n",
    "obmol.addh()\n",
    "obmol"
   ]
  },
  {
   "cell_type": "markdown",
   "metadata": {},
   "source": [
    "**Generate 3D Structure-Coordinates of every atoms in the molecule**"
   ]
  },
  {
   "cell_type": "code",
   "execution_count": 23,
   "metadata": {},
   "outputs": [
    {
     "data": {
      "image/svg+xml": [
       "<svg xmlns=\"http://www.w3.org/2000/svg\" width=\"100\" height=\"100\" x=\"0\" y=\"0\" viewBox=\"0 0 500 391.769\" font-family=\"sans-serif\" stroke=\"rgb(0,0,0)\" stroke-width=\"2\" stroke-linecap=\"round\">\n",
       "<line x1=\"329.3\" y1=\"103.9\" x2=\"294.6\" y2=\"83.9\" opacity=\"1.0\" stroke=\"rgb(0,0,0)\" stroke-width=\"2.0\" />\n",
       "<line x1=\"294.6\" y1=\"83.9\" x2=\"260.0\" y2=\"103.9\" opacity=\"1.0\" stroke=\"rgb(0,0,0)\" stroke-width=\"2.0\" />\n",
       "<line x1=\"260.0\" y1=\"103.9\" x2=\"260.0\" y2=\"130.9\" opacity=\"1.0\" stroke=\"rgb(0,0,0)\" stroke-width=\"2.0\" />\n",
       "<line x1=\"273.0\" y1=\"143.9\" x2=\"300.0\" y2=\"143.9\" opacity=\"1.0\" stroke=\"rgb(0,0,0)\" stroke-width=\"2.0\" />\n",
       "<line x1=\"300.0\" y1=\"143.9\" x2=\"320.0\" y2=\"178.6\" opacity=\"1.0\" stroke=\"rgb(0,0,0)\" stroke-width=\"2.0\" />\n",
       "<line x1=\"320.0\" y1=\"178.6\" x2=\"340.0\" y2=\"213.2\" opacity=\"1.0\" stroke=\"rgb(0,0,0)\" stroke-width=\"2.0\" />\n",
       "<line x1=\"323.6\" y1=\"176.5\" x2=\"343.6\" y2=\"211.1\" opacity=\"1.0\" stroke=\"rgb(0,0,0)\" stroke-width=\"2.0\" />\n",
       "<line x1=\"316.4\" y1=\"180.7\" x2=\"336.4\" y2=\"215.3\" opacity=\"1.0\" stroke=\"rgb(0,0,0)\" stroke-width=\"2.0\" />\n",
       "<line x1=\"340.0\" y1=\"213.2\" x2=\"360.0\" y2=\"247.8\" opacity=\"1.0\" stroke=\"rgb(0,0,0)\" stroke-width=\"2.0\" />\n",
       "<line x1=\"260.0\" y1=\"156.9\" x2=\"260.0\" y2=\"183.9\" opacity=\"1.0\" stroke=\"rgb(0,0,0)\" stroke-width=\"2.0\" />\n",
       "<line x1=\"260.0\" y1=\"183.9\" x2=\"225.4\" y2=\"203.9\" opacity=\"1.0\" stroke=\"rgb(0,0,0)\" stroke-width=\"2.0\" />\n",
       "<line x1=\"225.4\" y1=\"203.9\" x2=\"225.4\" y2=\"243.9\" opacity=\"1.0\" stroke=\"rgb(0,0,0)\" stroke-width=\"2.0\" />\n",
       "<line x1=\"247.0\" y1=\"143.9\" x2=\"220.0\" y2=\"143.9\" opacity=\"1.0\" stroke=\"rgb(0,0,0)\" stroke-width=\"2.0\" />\n",
       "<line x1=\"220.0\" y1=\"143.9\" x2=\"200.0\" y2=\"109.3\" opacity=\"1.0\" stroke=\"rgb(0,0,0)\" stroke-width=\"2.0\" />\n",
       "<line x1=\"197.4\" y1=\"107.8\" x2=\"210.9\" y2=\"84.4\" opacity=\"1.0\" stroke=\"rgb(0,0,0)\" stroke-width=\"2.0\" />\n",
       "<line x1=\"202.6\" y1=\"110.8\" x2=\"216.1\" y2=\"87.4\" opacity=\"1.0\" stroke=\"rgb(0,0,0)\" stroke-width=\"2.0\" />\n",
       "<line x1=\"200.0\" y1=\"109.3\" x2=\"160.0\" y2=\"109.3\" opacity=\"1.0\" stroke=\"rgb(0,0,0)\" stroke-width=\"2.0\" />\n",
       "<line x1=\"80.0\" y1=\"109.3\" x2=\"53.0\" y2=\"109.3\" opacity=\"1.0\" stroke=\"rgb(0,0,0)\" stroke-width=\"2.0\" />\n",
       "<line x1=\"329.3\" y1=\"103.9\" x2=\"356.3\" y2=\"103.9\" opacity=\"1.0\" stroke=\"rgb(0,0,0)\" stroke-width=\"2.0\" />\n",
       "<line x1=\"329.3\" y1=\"103.9\" x2=\"342.8\" y2=\"80.5\" opacity=\"1.0\" stroke=\"rgb(0,0,0)\" stroke-width=\"2.0\" />\n",
       "<line x1=\"329.3\" y1=\"103.9\" x2=\"329.3\" y2=\"130.9\" opacity=\"1.0\" stroke=\"rgb(0,0,0)\" stroke-width=\"2.0\" />\n",
       "<line x1=\"294.6\" y1=\"83.9\" x2=\"281.1\" y2=\"60.5\" opacity=\"1.0\" stroke=\"rgb(0,0,0)\" stroke-width=\"2.0\" />\n",
       "<line x1=\"294.6\" y1=\"83.9\" x2=\"308.1\" y2=\"60.5\" opacity=\"1.0\" stroke=\"rgb(0,0,0)\" stroke-width=\"2.0\" />\n",
       "<line x1=\"260.0\" y1=\"103.9\" x2=\"233.0\" y2=\"103.9\" opacity=\"1.0\" stroke=\"rgb(0,0,0)\" stroke-width=\"2.0\" />\n",
       "<line x1=\"260.0\" y1=\"103.9\" x2=\"246.5\" y2=\"80.5\" opacity=\"1.0\" stroke=\"rgb(0,0,0)\" stroke-width=\"2.0\" />\n",
       "<line x1=\"300.0\" y1=\"143.9\" x2=\"323.4\" y2=\"130.4\" opacity=\"1.0\" stroke=\"rgb(0,0,0)\" stroke-width=\"2.0\" />\n",
       "<line x1=\"300.0\" y1=\"143.9\" x2=\"300.0\" y2=\"116.9\" opacity=\"1.0\" stroke=\"rgb(0,0,0)\" stroke-width=\"2.0\" />\n",
       "<line x1=\"400.0\" y1=\"247.8\" x2=\"413.5\" y2=\"224.5\" opacity=\"1.0\" stroke=\"rgb(0,0,0)\" stroke-width=\"2.0\" />\n",
       "<line x1=\"420.0\" y1=\"282.5\" x2=\"447.0\" y2=\"282.5\" opacity=\"1.0\" stroke=\"rgb(0,0,0)\" stroke-width=\"2.0\" />\n",
       "<line x1=\"400.0\" y1=\"317.1\" x2=\"413.5\" y2=\"340.5\" opacity=\"1.0\" stroke=\"rgb(0,0,0)\" stroke-width=\"2.0\" />\n",
       "<line x1=\"360.0\" y1=\"317.1\" x2=\"346.5\" y2=\"340.5\" opacity=\"1.0\" stroke=\"rgb(0,0,0)\" stroke-width=\"2.0\" />\n",
       "<line x1=\"340.0\" y1=\"282.5\" x2=\"313.0\" y2=\"282.5\" opacity=\"1.0\" stroke=\"rgb(0,0,0)\" stroke-width=\"2.0\" />\n",
       "<line x1=\"260.0\" y1=\"183.9\" x2=\"273.5\" y2=\"207.3\" opacity=\"1.0\" stroke=\"rgb(0,0,0)\" stroke-width=\"2.0\" />\n",
       "<line x1=\"260.0\" y1=\"183.9\" x2=\"287.0\" y2=\"183.9\" opacity=\"1.0\" stroke=\"rgb(0,0,0)\" stroke-width=\"2.0\" />\n",
       "<line x1=\"225.4\" y1=\"203.9\" x2=\"198.4\" y2=\"203.9\" opacity=\"1.0\" stroke=\"rgb(0,0,0)\" stroke-width=\"2.0\" />\n",
       "<line x1=\"225.4\" y1=\"203.9\" x2=\"211.9\" y2=\"180.5\" opacity=\"1.0\" stroke=\"rgb(0,0,0)\" stroke-width=\"2.0\" />\n",
       "<line x1=\"225.4\" y1=\"243.9\" x2=\"211.9\" y2=\"267.3\" opacity=\"1.0\" stroke=\"rgb(0,0,0)\" stroke-width=\"2.0\" />\n",
       "<line x1=\"225.4\" y1=\"243.9\" x2=\"198.4\" y2=\"243.9\" opacity=\"1.0\" stroke=\"rgb(0,0,0)\" stroke-width=\"2.0\" />\n",
       "<line x1=\"225.4\" y1=\"243.9\" x2=\"248.7\" y2=\"257.4\" opacity=\"1.0\" stroke=\"rgb(0,0,0)\" stroke-width=\"2.0\" />\n",
       "<line x1=\"220.0\" y1=\"143.9\" x2=\"196.6\" y2=\"157.4\" opacity=\"1.0\" stroke=\"rgb(0,0,0)\" stroke-width=\"2.0\" />\n",
       "<line x1=\"220.0\" y1=\"143.9\" x2=\"220.0\" y2=\"170.9\" opacity=\"1.0\" stroke=\"rgb(0,0,0)\" stroke-width=\"2.0\" />\n",
       "<line x1=\"140.0\" y1=\"143.9\" x2=\"153.5\" y2=\"167.3\" opacity=\"1.0\" stroke=\"rgb(0,0,0)\" stroke-width=\"2.0\" />\n",
       "<line x1=\"100.0\" y1=\"143.9\" x2=\"86.5\" y2=\"167.3\" opacity=\"1.0\" stroke=\"rgb(0,0,0)\" stroke-width=\"2.0\" />\n",
       "<line x1=\"100.0\" y1=\"74.6\" x2=\"86.5\" y2=\"51.3\" opacity=\"1.0\" stroke=\"rgb(0,0,0)\" stroke-width=\"2.0\" />\n",
       "<line x1=\"140.0\" y1=\"74.6\" x2=\"153.5\" y2=\"51.3\" opacity=\"1.0\" stroke=\"rgb(0,0,0)\" stroke-width=\"2.0\" />\n",
       "<line x1=\"400.0\" y1=\"247.8\" x2=\"360.0\" y2=\"247.8\" opacity=\"1.0\" stroke=\"rgb(0,0,0)\" stroke-width=\"2.0\" />\n",
       "<line x1=\"360.0\" y1=\"247.8\" x2=\"340.0\" y2=\"282.5\" opacity=\"1.0\" stroke=\"rgb(0,0,0)\" stroke-width=\"2.0\" />\n",
       "<line x1=\"363.2\" y1=\"256.6\" x2=\"349.2\" y2=\"280.9\" opacity=\"1.0\" stroke=\"rgb(0,0,0)\" stroke-width=\"2.0\" />\n",
       "<line x1=\"340.0\" y1=\"282.5\" x2=\"360.0\" y2=\"317.1\" opacity=\"1.0\" stroke=\"rgb(0,0,0)\" stroke-width=\"2.0\" />\n",
       "<line x1=\"360.0\" y1=\"317.1\" x2=\"400.0\" y2=\"317.1\" opacity=\"1.0\" stroke=\"rgb(0,0,0)\" stroke-width=\"2.0\" />\n",
       "<line x1=\"366.0\" y1=\"309.9\" x2=\"394.0\" y2=\"309.9\" opacity=\"1.0\" stroke=\"rgb(0,0,0)\" stroke-width=\"2.0\" />\n",
       "<line x1=\"400.0\" y1=\"317.1\" x2=\"420.0\" y2=\"282.5\" opacity=\"1.0\" stroke=\"rgb(0,0,0)\" stroke-width=\"2.0\" />\n",
       "<line x1=\"420.0\" y1=\"282.5\" x2=\"400.0\" y2=\"247.8\" opacity=\"1.0\" stroke=\"rgb(0,0,0)\" stroke-width=\"2.0\" />\n",
       "<line x1=\"410.8\" y1=\"280.9\" x2=\"396.8\" y2=\"256.6\" opacity=\"1.0\" stroke=\"rgb(0,0,0)\" stroke-width=\"2.0\" />\n",
       "<line x1=\"140.0\" y1=\"143.9\" x2=\"160.0\" y2=\"109.3\" opacity=\"1.0\" stroke=\"rgb(0,0,0)\" stroke-width=\"2.0\" />\n",
       "<line x1=\"160.0\" y1=\"109.3\" x2=\"140.0\" y2=\"74.6\" opacity=\"1.0\" stroke=\"rgb(0,0,0)\" stroke-width=\"2.0\" />\n",
       "<line x1=\"150.8\" y1=\"107.7\" x2=\"136.8\" y2=\"83.4\" opacity=\"1.0\" stroke=\"rgb(0,0,0)\" stroke-width=\"2.0\" />\n",
       "<line x1=\"140.0\" y1=\"74.6\" x2=\"100.0\" y2=\"74.6\" opacity=\"1.0\" stroke=\"rgb(0,0,0)\" stroke-width=\"2.0\" />\n",
       "<line x1=\"100.0\" y1=\"74.6\" x2=\"80.0\" y2=\"109.3\" opacity=\"1.0\" stroke=\"rgb(0,0,0)\" stroke-width=\"2.0\" />\n",
       "<line x1=\"103.2\" y1=\"83.4\" x2=\"89.2\" y2=\"107.7\" opacity=\"1.0\" stroke=\"rgb(0,0,0)\" stroke-width=\"2.0\" />\n",
       "<line x1=\"80.0\" y1=\"109.3\" x2=\"100.0\" y2=\"143.9\" opacity=\"1.0\" stroke=\"rgb(0,0,0)\" stroke-width=\"2.0\" />\n",
       "<line x1=\"100.0\" y1=\"143.9\" x2=\"140.0\" y2=\"143.9\" opacity=\"1.0\" stroke=\"rgb(0,0,0)\" stroke-width=\"2.0\" />\n",
       "<line x1=\"106.0\" y1=\"136.7\" x2=\"134.0\" y2=\"136.7\" opacity=\"1.0\" stroke=\"rgb(0,0,0)\" stroke-width=\"2.0\" />\n",
       "<text x=\"274.000000\" y=\"226.564065\" fill=\"rgb(191,191,191)\" stroke-width=\"0\" font-weight=\"bold\" font-size=\"16\">H</text>\n",
       "<text x=\"343.282032\" y=\"77.282032\" fill=\"rgb(191,191,191)\" stroke-width=\"0\" font-weight=\"bold\" font-size=\"16\">H</text>\n",
       "<text x=\"323.282032\" y=\"151.923048\" fill=\"rgb(191,191,191)\" stroke-width=\"0\" font-weight=\"bold\" font-size=\"16\">H</text>\n",
       "<text x=\"268.641016\" y=\"57.282032\" fill=\"rgb(191,191,191)\" stroke-width=\"0\" font-weight=\"bold\" font-size=\"16\">H</text>\n",
       "<text x=\"308.641016\" y=\"57.282032\" fill=\"rgb(191,191,191)\" stroke-width=\"0\" font-weight=\"bold\" font-size=\"16\">H</text>\n",
       "<text x=\"214.000000\" y=\"111.923048\" fill=\"rgb(191,191,191)\" stroke-width=\"0\" font-weight=\"bold\" font-size=\"16\">H</text>\n",
       "<text x=\"234.000000\" y=\"77.282032\" fill=\"rgb(191,191,191)\" stroke-width=\"0\" font-weight=\"bold\" font-size=\"16\">H</text>\n",
       "<text x=\"328.641016\" y=\"131.923048\" fill=\"rgb(191,191,191)\" stroke-width=\"0\" font-weight=\"bold\" font-size=\"16\">H</text>\n",
       "<text x=\"294.000000\" y=\"111.923048\" fill=\"rgb(191,191,191)\" stroke-width=\"0\" font-weight=\"bold\" font-size=\"16\">H</text>\n",
       "<text x=\"414.000000\" y=\"221.205081\" fill=\"rgb(191,191,191)\" stroke-width=\"0\" font-weight=\"bold\" font-size=\"16\">H</text>\n",
       "<text x=\"454.000000\" y=\"290.487113\" fill=\"rgb(191,191,191)\" stroke-width=\"0\" font-weight=\"bold\" font-size=\"16\">H</text>\n",
       "<text x=\"414.000000\" y=\"359.769145\" fill=\"rgb(191,191,191)\" stroke-width=\"0\" font-weight=\"bold\" font-size=\"16\">H</text>\n",
       "<text x=\"334.000000\" y=\"359.769145\" fill=\"rgb(191,191,191)\" stroke-width=\"0\" font-weight=\"bold\" font-size=\"16\">H</text>\n",
       "<text x=\"294.000000\" y=\"290.487113\" fill=\"rgb(191,191,191)\" stroke-width=\"0\" font-weight=\"bold\" font-size=\"16\">H</text>\n",
       "<text x=\"363.282032\" y=\"111.923048\" fill=\"rgb(191,191,191)\" stroke-width=\"0\" font-weight=\"bold\" font-size=\"16\">H</text>\n",
       "<text x=\"294.000000\" y=\"191.923048\" fill=\"rgb(191,191,191)\" stroke-width=\"0\" font-weight=\"bold\" font-size=\"16\">H</text>\n",
       "<text x=\"179.358984\" y=\"211.923048\" fill=\"rgb(191,191,191)\" stroke-width=\"0\" font-weight=\"bold\" font-size=\"16\">H</text>\n",
       "<text x=\"199.358984\" y=\"177.282032\" fill=\"rgb(191,191,191)\" stroke-width=\"0\" font-weight=\"bold\" font-size=\"16\">H</text>\n",
       "<text x=\"199.358984\" y=\"286.564065\" fill=\"rgb(191,191,191)\" stroke-width=\"0\" font-weight=\"bold\" font-size=\"16\">H</text>\n",
       "<text x=\"179.358984\" y=\"251.923048\" fill=\"rgb(191,191,191)\" stroke-width=\"0\" font-weight=\"bold\" font-size=\"16\">H</text>\n",
       "<text x=\"254.000000\" y=\"271.923048\" fill=\"rgb(191,191,191)\" stroke-width=\"0\" font-weight=\"bold\" font-size=\"16\">H</text>\n",
       "<text x=\"179.358984\" y=\"171.923048\" fill=\"rgb(191,191,191)\" stroke-width=\"0\" font-weight=\"bold\" font-size=\"16\">H</text>\n",
       "<text x=\"214.000000\" y=\"191.923048\" fill=\"rgb(191,191,191)\" stroke-width=\"0\" font-weight=\"bold\" font-size=\"16\">H</text>\n",
       "<text x=\"154.000000\" y=\"186.564065\" fill=\"rgb(191,191,191)\" stroke-width=\"0\" font-weight=\"bold\" font-size=\"16\">H</text>\n",
       "<text x=\"74.000000\" y=\"186.564065\" fill=\"rgb(191,191,191)\" stroke-width=\"0\" font-weight=\"bold\" font-size=\"16\">H</text>\n",
       "<text x=\"74.000000\" y=\"48.000000\" fill=\"rgb(191,191,191)\" stroke-width=\"0\" font-weight=\"bold\" font-size=\"16\">H</text>\n",
       "<text x=\"154.000000\" y=\"48.000000\" fill=\"rgb(191,191,191)\" stroke-width=\"0\" font-weight=\"bold\" font-size=\"16\">H</text>\n",
       "<text x=\"264.800000\" y=\"139.891048\" fill=\"rgb(12,12,255)\" stroke-width=\"0\" font-weight=\"bold\" font-size=\"16\">+</text>\n",
       "<text x=\"254.000000\" y=\"151.923048\" fill=\"rgb(12,12,255)\" stroke-width=\"0\" font-weight=\"bold\" font-size=\"16\">N</text>\n",
       "<text x=\"214.000000\" y=\"82.641016\" fill=\"rgb(255,12,12)\" stroke-width=\"0\" font-weight=\"bold\" font-size=\"16\">O</text>\n",
       "<text x=\"22.000000\" y=\"117.282032\" fill=\"rgb(30,239,30)\" stroke-width=\"0\" font-weight=\"bold\" font-size=\"16\">Cl</text>\n",
       "</svg>\n"
      ],
      "text/plain": [
       "<openbabel.pybel.Molecule at 0x7fc7806a3e20>"
      ]
     },
     "execution_count": 23,
     "metadata": {},
     "output_type": "execute_result"
    }
   ],
   "source": [
    "# generate 3D structure \n",
    "obmol.make3D()\n",
    "obmol"
   ]
  },
  {
   "cell_type": "code",
   "execution_count": 24,
   "metadata": {},
   "outputs": [
    {
     "name": "stdout",
     "output_type": "stream",
     "text": [
      "[6, 6, 6, 7, 6, 6, 6, 6, 6, 6, 6, 6, 6, 6, 6, 6, 6, 6, 8, 6, 6, 6, 6, 17, 6, 6, 1, 1, 1, 1, 1, 1, 1, 1, 1, 1, 1, 1, 1, 1, 1, 1, 1, 1, 1, 1, 1, 1, 1, 1, 1, 1, 1]\n",
      "[[0.9823441738856182, -0.39515392753980394, 0.21392883680873484], [0.42073598683371144, 0.6115247151660266, 1.2055389927494309], [0.835746677177922, 2.0424374102806944, 1.0129978166761917], [0.33172794941638273, 2.6282980723781004, -0.314013092889948], [-1.199380131499873, 2.6583692087240016, -0.42407901612053994], [-1.7664316133781197, 4.055935661369218, -0.4595048246932311], [-2.0383675022229903, 5.197632854883514, -0.5370266515120291], [-2.472095922603632, 6.555190619220443, -0.7952375540286765], [-3.641271068837568, 6.660318828039775, -1.5408892048019993], [-4.1780623065292914, 7.907533008114493, -1.822959813878859], [-3.538105037435856, 9.054461862664965, -1.3613577914937143], [-2.3514409173138224, 8.954796090838181, -0.6302588882419004], [-1.8057074006561316, 7.6969666187667105, -0.3470745099777672], [0.6339849160011167, 4.048575571465508, -0.42021953172377535], [2.0193306157399675, 3.983597650192742, -0.40449476234382153], [2.3074205739325615, 3.9460796032195504, -2.255808998036636], [1.15204976066242, 1.9045149397886425, -1.480458932340794], [3.000369667739626, 1.7309386509624223, -1.2522289656936016], [3.421312145490815, 0.5731988648785499, -1.4018974783514078], [4.2808379718393565, 3.0737161576921963, -1.1955842984828062], [4.162488220760212, 4.618448120101636, -0.6924954285580699], [4.589577787904523, 5.863044720950114, -1.1246189672383253], [5.305389117020196, 5.710634616221792, -2.250879025935331], [5.898072747595283, 7.205486799406893, -2.821545340235051], [5.569516660741935, 4.384433458737383, -2.821976641459946], [5.0709359619469225, 3.0750922692528575, -2.340094702745495], [0.5733793287175694, -0.3265981899011159, -0.7834807674747398], [0.695075429384676, -1.4069466170939842, 0.4648595809885078], [2.0702497555282284, -0.3334142512817787, 0.17154306318624424], [-0.6606866684746353, 0.5609188440053459, 1.215781268030774], [0.8097152590672154, 0.3349060908146824, 2.1866735615857142], [0.5441303984299207, 2.747024209912331, 1.8008832766722547], [1.92756166324003, 1.9835975119236344, 1.0471194537709547], [-1.5754300265767545, 2.198242329944813, 0.47990371568722284], [-1.4592372045157331, 2.1306983373073547, -1.3343589268427314], [-4.142807872479201, 5.762488857945999, -1.8940692239627583], [-5.097958037022928, 7.975810876814774, -2.395142795068644], [-3.970919735726898, 10.029089795397613, -1.5735067566734406], [-1.8647641242928188, 9.862958544256136, -0.27866809092551253], [-0.8834818256308373, 7.644663540915172, 0.22602294604389697], [0.38693032631211866, 4.483459483789737, -1.3972493269180544], [0.30192356331821696, 4.687236394407415, 0.4020540677275939], [2.1776176830077882, 4.84035813659421, 0.3182070618874843], [2.624997905828669, 3.32497648291962, 0.2780874390515077], [1.681816175179273, 4.478954072618371, -2.944173040781187], [3.2244227596423, 4.361802234289863, -2.5947201067269603], [2.45656273778112, 2.9530656472950083, -2.7432104478632993], [0.5991285994798458, 1.0112382594257243, -1.7419831363276865], [0.8313358984726613, 2.3992531858773147, -2.411114177807454], [3.1985118085066824, 5.193664455227312, -0.8049468300288193], [3.9704223228411695, 6.781563962167488, -0.8850638617278244], [6.151247328569861, 4.3976992587634784, -3.736600948014445], [5.051183484995748, 2.211111486011313, -3.0226785289970004]]\n"
     ]
    }
   ],
   "source": [
    "ob_mol = obmol.OBMol\n",
    "sp = []\n",
    "coords = []\n",
    "for atom in ob.OBMolAtomIter(ob_mol):\n",
    "    sp.append(atom.GetAtomicNum())\n",
    "    coords.append([atom.GetX(), atom.GetY(), atom.GetZ()])\n",
    "\n",
    "print(sp)\n",
    "print(coords)"
   ]
  },
  {
   "cell_type": "code",
   "execution_count": 25,
   "metadata": {},
   "outputs": [
    {
     "data": {
      "text/plain": [
       "53"
      ]
     },
     "execution_count": 25,
     "metadata": {},
     "output_type": "execute_result"
    }
   ],
   "source": [
    "ob_mol.NumAtoms()"
   ]
  },
  {
   "cell_type": "markdown",
   "metadata": {},
   "source": [
    "### **Using `RDKit`**"
   ]
  },
  {
   "cell_type": "code",
   "execution_count": 26,
   "metadata": {},
   "outputs": [],
   "source": [
    "# import libraries\n",
    "from rdkit.Chem import AllChem\n",
    "from rdkit import Chem"
   ]
  },
  {
   "cell_type": "markdown",
   "metadata": {},
   "source": [
    "**create `RDKit` molecular object**"
   ]
  },
  {
   "cell_type": "code",
   "execution_count": 27,
   "metadata": {},
   "outputs": [
    {
     "data": {
      "image/png": "[encoded data removed]",
      "text/plain": [
       "<rdkit.Chem.rdchem.Mol at 0x7fc7559f4f20>"
      ]
     },
     "execution_count": 27,
     "metadata": {},
     "output_type": "execute_result"
    }
   ],
   "source": [
    "rdmol = Chem.MolFromSmiles(smiles1)\n",
    "rdmol"
   ]
  },
  {
   "cell_type": "markdown",
   "metadata": {},
   "source": [
    "**Add explicit Hydrogen atoms to our molecule for 3D generation**"
   ]
  },
  {
   "cell_type": "code",
   "execution_count": 28,
   "metadata": {},
   "outputs": [
    {
     "data": {
      "image/png": "[encoded data removed]",
      "text/plain": [
       "<rdkit.Chem.rdchem.Mol at 0x7fc7559f5000>"
      ]
     },
     "execution_count": 28,
     "metadata": {},
     "output_type": "execute_result"
    }
   ],
   "source": [
    "rdmol = Chem.AddHs(rdmol)\n",
    "rdmol"
   ]
  },
  {
   "cell_type": "code",
   "execution_count": 29,
   "metadata": {},
   "outputs": [
    {
     "data": {
      "text/plain": [
       "53"
      ]
     },
     "execution_count": 29,
     "metadata": {},
     "output_type": "execute_result"
    }
   ],
   "source": [
    "# check the number of atoms in the molecule\n",
    "rdmol.GetNumAtoms()"
   ]
  },
  {
   "cell_type": "markdown",
   "metadata": {},
   "source": [
    "**Try to generate `conformers` and embed them to the 3D structure**"
   ]
  },
  {
   "cell_type": "code",
   "execution_count": 42,
   "metadata": {},
   "outputs": [
    {
     "data": {
      "image/png": "[encoded data removed]",
      "text/plain": [
       "<rdkit.Chem.rdchem.Mol at 0x7fc7559f5000>"
      ]
     },
     "execution_count": 42,
     "metadata": {},
     "output_type": "execute_result"
    }
   ],
   "source": [
    "confid = AllChem.EmbedMolecule(rdmol)\n",
    "rdmol"
   ]
  },
  {
   "cell_type": "code",
   "execution_count": 34,
   "metadata": {},
   "outputs": [
    {
     "data": {
      "text/plain": [
       "0"
      ]
     },
     "execution_count": 34,
     "metadata": {},
     "output_type": "execute_result"
    }
   ],
   "source": [
    "# returns the id of the generated conformer,\n",
    "# and -1 if no conformers were generated\n",
    "confid"
   ]
  },
  {
   "cell_type": "markdown",
   "metadata": {},
   "source": [
    "**Generate 3D atomic coordinates of the molecule**"
   ]
  },
  {
   "cell_type": "code",
   "execution_count": 21,
   "metadata": {},
   "outputs": [
    {
     "name": "stdout",
     "output_type": "stream",
     "text": [
      "C -1.028131340943831 -4.282208908827857 -1.0468566473063163\n",
      "C -1.876558689353685 -3.1692416350768453 -1.5336271995584714\n",
      "C -1.9817449146341122 -1.9504568061158376 -0.6825408716546919\n",
      "N -0.8307965073688657 -1.196767238145799 -0.4148037366059319\n",
      "C 0.030205696216546906 -1.2952343388875707 -1.635501050105182\n",
      "C 1.3051482138689026 -0.5880404866040065 -1.3400114761416488\n",
      "C 2.330814767868759 0.0005253065201858681 -1.1065672460515559\n",
      "C 3.534602594765519 0.7178800959336887 -0.8334682228604449\n",
      "C 4.5290528965083245 0.15086822776749007 -0.0627046454578239\n",
      "C 5.692041852807918 0.8378264832427833 0.20513018635427113\n",
      "C 5.891963441481194 2.1153023088557013 -0.2928947161638436\n",
      "C 4.911069224296034 2.694019058507135 -1.062295541822523\n",
      "C 3.758175978429987 1.9928577039794149 -1.3183513946928802\n",
      "C 0.015186221485924686 -1.485808357469353 0.6621916149041327\n",
      "C -0.4669426165834004 -2.0644865714041347 1.91679998354642\n",
      "C 0.7173429081579362 -2.2748249722655274 2.885899744954497\n",
      "C -1.1668791943063983 0.22283561313515549 -0.422895574992899\n",
      "C -2.3067451203141993 0.6278478018875142 0.36652290450302616\n",
      "O -3.0045353508820423 -0.1710950540750251 1.0141555228398682\n",
      "C -2.68375877818043 2.0400032117504034 0.42658251340379205\n",
      "C -1.9718257569227793 3.01044299880629 -0.26317061076914805\n",
      "C -2.346571040902971 4.334157807145069 -0.19228808067054\n",
      "C -3.4270855119346804 4.756339285314595 0.5527576072166842\n",
      "Cl -3.878164015073642 6.458603409624592 0.6189749832031777\n",
      "C -4.136769765845988 3.7941141116717167 1.2395803983559865\n",
      "C -3.754889156195203 2.4718922994627404 1.1630431141327295\n",
      "H -0.30993433190165975 -4.6609840054624 -1.8394081875364152\n",
      "H -1.6518730557856338 -5.188597599005832 -0.8274410333940676\n",
      "H -0.3954554483940317 -4.02575311002023 -0.19293898923514977\n",
      "H -2.9242539703661414 -3.578966234622283 -1.6614517480033208\n",
      "H -1.5692287227107868 -2.949091562442029 -2.5793734350338147\n",
      "H -2.5756372583083422 -2.23747839682422 0.22451535617411333\n",
      "H -2.703779695667287 -1.2738918989566437 -1.2379658934712996\n",
      "H 0.25895756008846754 -2.3589522642680776 -1.7531472385221527\n",
      "H -0.4396772198858097 -0.7972937616844468 -2.4784069431718447\n",
      "H 4.3798988407111965 -0.8556101415203271 0.3340063983910172\n",
      "H 6.480494167393944 0.40326917862198086 0.8089894150920068\n",
      "H 6.820829220391727 2.6276390461203856 -0.06162562963655928\n",
      "H 5.098883620914156 3.7018224081629825 -1.4400488928094628\n",
      "H 2.9891102487726884 2.446174351001524 -1.9212395978859491\n",
      "H 0.5429133101211199 -0.5153102221841861 0.9433310448367184\n",
      "H 0.9008523652671948 -2.1044938907239548 0.32341539605286374\n",
      "H -0.9937436485709533 -3.009030316051444 1.8892123447708837\n",
      "H -1.1211326083946864 -1.3672428476064955 2.5249092560525837\n",
      "H 0.512617610733874 -3.0613208618865118 3.6080226764872796\n",
      "H 0.9477834718335896 -1.3340314259514032 3.4236728185135967\n",
      "H 1.612605289437973 -2.55684150615973 2.3057023654100237\n",
      "H -0.26881731216740157 0.8151033110477298 -0.11227452767263806\n",
      "H -1.2818669214603364 0.49486571612119823 -1.5194119761202511\n",
      "H -1.1129316296485148 2.753451392615593 -0.8681228807968536\n",
      "H -1.7576998068757783 5.068382872131197 -0.7509172792373686\n",
      "H -4.974464665153224 4.095473940650879 1.82194390693828\n",
      "H -4.318655446819767 1.721356474164767 1.7067363232055117\n"
     ]
    }
   ],
   "source": [
    "for i, atom in enumerate(rdmol.GetAtoms()):\n",
    "        positions = rdmol.GetConformer().GetAtomPosition(i)\n",
    "        print(atom.GetSymbol(), positions.x, positions.y, positions.z)"
   ]
  },
  {
   "cell_type": "markdown",
   "metadata": {},
   "source": [
    "**`Optimze` the molecular strcuture with `MMFF94` ForceField**"
   ]
  },
  {
   "cell_type": "code",
   "execution_count": null,
   "metadata": {},
   "outputs": [],
   "source": []
  },
  {
   "cell_type": "code",
   "execution_count": 49,
   "metadata": {},
   "outputs": [
    {
     "data": {
      "image/png": "[encoded data removed]",
      "text/plain": [
       "<rdkit.Chem.rdchem.Mol at 0x7fc7559f5000>"
      ]
     },
     "execution_count": 49,
     "metadata": {},
     "output_type": "execute_result"
    }
   ],
   "source": [
    "AllChem.MMFFOptimizeMolecule(rdmol)\n",
    "rdmol"
   ]
  },
  {
   "cell_type": "markdown",
   "metadata": {},
   "source": [
    "**Generate 3D atomic coordinates of the optimized structure**"
   ]
  },
  {
   "cell_type": "code",
   "execution_count": 50,
   "metadata": {},
   "outputs": [
    {
     "name": "stdout",
     "output_type": "stream",
     "text": [
      "C -0.6104183331212564 3.384529259856784 1.9005861405112794\n",
      "C 0.31266999264687323 2.4435982570995085 1.1368872206582126\n",
      "C -0.38616842266309725 1.1102161748340444 0.8611377422631076\n",
      "N 0.45037323384349787 0.12486650001241581 0.006294179926529202\n",
      "C -0.30436871198916776 -1.2422932165526581 -0.13076280098828977\n",
      "C -1.7545758718264663 -1.097169261664286 -0.2700574178270318\n",
      "C -2.94583154808634 -0.9887441641564582 -0.38350011781695037\n",
      "C -4.361439655276625 -0.840282075847442 -0.5210809681703382\n",
      "C -4.892969861392241 -0.24693179943564525 -1.6687920288087645\n",
      "C -6.2747400735899905 -0.09580278804227071 -1.7999027370607983\n",
      "C -7.124307561362467 -0.536910830086628 -0.7858345398930605\n",
      "C -6.595062122467409 -1.1307033845628232 0.35961583901074634\n",
      "C -5.2136272657781655 -1.2830811199386234 0.49323643978743725\n",
      "C 0.810358502415507 0.6753919851546742 -1.39325853724551\n",
      "C -0.38551371341691987 1.1484630270068124 -2.2181279344479177\n",
      "C 0.0761648946627231 1.712904958127379 -3.555962902548493\n",
      "C 1.8098463898051198 -0.16684162264829128 0.7810026892588606\n",
      "C 2.705831558665493 -1.273713425814298 0.22755736770513516\n",
      "O 2.373868902811205 -1.9607188427542115 -0.7355957505002236\n",
      "C 4.023384286965379 -1.5270976487118897 0.8884523326006354\n",
      "C 4.447174103134606 -0.8250426029019993 2.025477985549045\n",
      "C 5.693069417996632 -1.1079523217987186 2.59915008807384\n",
      "C 6.515085964105509 -2.087312607151569 2.0437045560845157\n",
      "Cl 8.041289683598674 -2.4256242842320335 2.7558077913218524\n",
      "C 6.102848846087358 -2.7907414183450583 0.9160539658712429\n",
      "C 4.860067063793462 -2.5120945122495577 0.3396793103344072\n",
      "H -1.5151758364350343 3.6006227665324935 1.323347832845579\n",
      "H -0.10209908030832424 4.332686571159273 2.1021756937010627\n",
      "H -0.9091070173775836 2.94829557293591 2.859184488249538\n",
      "H 1.2150323922251223 2.2971458503344877 1.7381569030769242\n",
      "H 0.6092716660373112 2.9342638621538244 0.20507113979676253\n",
      "H -0.6081202392891984 0.5961278472195831 1.8044598581812683\n",
      "H -1.3292398242979169 1.2978512654607022 0.34130971148383915\n",
      "H -0.08300694441595396 -1.8175566447329328 0.774924412960129\n",
      "H 0.09507147930860296 -1.7661940354160686 -1.002360531371242\n",
      "H -4.243917414317078 0.09697754846390506 -2.469875882705821\n",
      "H -6.6916235990110176 0.36205251969782076 -2.6939863551248013\n",
      "H -8.201037377080366 -0.42183506678343186 -0.8902582492448006\n",
      "H -7.261045322777683 -1.4780200685803153 1.1462135040194352\n",
      "H -4.816475918026742 -1.752241143600967 1.3897063153461704\n",
      "H 1.515130800061451 1.499875115228944 -1.239332512094391\n",
      "H 1.3430651471155322 -0.11263359624230361 -1.9340175841455869\n",
      "H -1.0711636593452485 0.3218991016917289 -2.421444784906049\n",
      "H -0.9452177532531904 1.9302751192296466 -1.6967788344525794\n",
      "H 0.7401556652833616 2.5711817941801454 -3.411327752470717\n",
      "H -0.7851498567688749 2.0451782309324398 -4.144024451234516\n",
      "H 0.612619046300384 0.9560328940531895 -4.13717539208227\n",
      "H 1.517677919618401 -0.4223572932572619 1.8051754002849558\n",
      "H 2.3744328372072943 0.7694915575785293 0.7580969789068835\n",
      "H 3.846633009832789 -0.05553390103187913 2.500513092915549\n",
      "H 6.021583051087353 -0.5627056322217304 3.482407046628154\n",
      "H 6.741929641205247 -3.5564910727553576 0.4807990338779718\n",
      "H 4.556767487866819 -3.0753013974236496 -0.5427269960923009\n"
     ]
    }
   ],
   "source": [
    "for i, atom in enumerate(rdmol.GetAtoms()):\n",
    "        positions = rdmol.GetConformer().GetAtomPosition(i)\n",
    "        print(atom.GetSymbol(), positions.x, positions.y, positions.z)"
   ]
  },
  {
   "cell_type": "markdown",
   "metadata": {},
   "source": [
    "## Save molecular structures"
   ]
  },
  {
   "cell_type": "markdown",
   "metadata": {},
   "source": [
    "**`.xyz` File**"
   ]
  },
  {
   "cell_type": "code",
   "execution_count": 51,
   "metadata": {},
   "outputs": [],
   "source": [
    "Chem.MolToMolFile(rdmol, 'RC1_rdmol.xyz')"
   ]
  },
  {
   "cell_type": "markdown",
   "metadata": {},
   "source": [
    "**`.sdf` File**"
   ]
  },
  {
   "cell_type": "code",
   "execution_count": 52,
   "metadata": {},
   "outputs": [],
   "source": [
    "Chem.MolToMolFile(rdmol, 'RC1_rdmol.sdf')"
   ]
  },
  {
   "cell_type": "markdown",
   "metadata": {},
   "source": [
    "**`.mol` File**"
   ]
  },
  {
   "cell_type": "code",
   "execution_count": 53,
   "metadata": {},
   "outputs": [],
   "source": [
    "Chem.MolToMolFile(rdmol, 'RC1_rdmol.mol')"
   ]
  },
  {
   "cell_type": "markdown",
   "metadata": {
    "tags": []
   },
   "source": [
    "The molecular files generated above only contain information on _spatial atomic coordinates_ and _bond connectivities_. However they are capable of carrying more information than that, such as molecular properties (_internal energy_, _enthalpy_, etc.).\n",
    "\n",
    "We are interested in the fact that all the information contained in each molecular file can be used to infer insights of significant importance when dealing with __structure-property relationships__. Indeed, all of this information leads to several categories of molecular representations which can be useful, each with a _specific level of content_, to molecular description. \n",
    "\n",
    "A deep understanding of quantitative structure-property relationships (QSPR) finds applications in real current global challenges such as **materials discovery**, **drug discovery processes**, **chemical property predictions**, etc.\n",
    "\n",
    "## Molecular Descriptors - Dimensional Representations\n",
    "\n",
    "Molecular descriptors can be classified in two main categories:\n",
    "\n",
    "1. **Experimental descriptors**: Physicochemical properties from __numerical simualtions__ or __experimental measurements__\n",
    "\n",
    "2. **Theoretical descriptors**: Obtained from __symbolic representations__ of the molecules, such as structural formula, empirical formula, or `SMILES`. \n",
    "\n",
    "This category can be divided in **five** classes.\n"
   ]
  },
  {
   "cell_type": "markdown",
   "metadata": {},
   "source": [
    "![](MolecularDimension.png)"
   ]
  },
  {
   "cell_type": "markdown",
   "metadata": {},
   "source": [
    "1. **0D descritors**. Related to `Composition` discriptors, do not provide any information about the molecular structure or connectivity of atoms.\n",
    "\n",
    "1. **1D descritors**. Related to sets of substructures such as functional groups.\n",
    "\n",
    "1. **2D descritors**. Features providing information on molecular topology based on the graph representation of the molecules.\n",
    "\n",
    "1. **3D descritors**. Geometrical features providing information about spatial coordinates of atoms of a molecule.\n",
    "\n",
    "1. **4D descritors**. Also known as **grid-based descriptors**, introduce a fourth dimension characterizing the interactions between the molecules and the active sites of a receptor or the multiple conformational states of the molecules. "
   ]
  },
  {
   "cell_type": "markdown",
   "metadata": {},
   "source": [
    "# `Tartarus` Basic Usage"
   ]
  },
  {
   "cell_type": "markdown",
   "metadata": {},
   "source": [
    "For this first session, we will introduce the basics of `Tartarus`: A benchmark platform for practical inverse molecular design. To this end, after the installation task of the module `tartarus`, we will look at its framework. \n",
    "\n",
    "![](tartarusoverview.png)\n",
    "\n",
    "## In Practice\n",
    "\n",
    "**1. Design of `OPVs` - Framework**\n",
    "\n",
    "![](opv.png)\n",
    "\n",
    "**2. Design of `Organic Emitters` - Framework**\n",
    "\n",
    "![](emitters.png)\n",
    "\n",
    "**3. Design of `Protein Ligands` - Framework**\n",
    "\n",
    "![](docking.png)\n"
   ]
  },
  {
   "cell_type": "markdown",
   "metadata": {},
   "source": [
    "## Practical Coding For `OPV` Design - Use `Tartarus` As A Blackbox"
   ]
  },
  {
   "cell_type": "markdown",
   "metadata": {},
   "source": [
    "**1. Load the data used for this purpose into the original work**"
   ]
  },
  {
   "cell_type": "code",
   "execution_count": 54,
   "metadata": {},
   "outputs": [],
   "source": [
    "# path to the hce.csv data \n",
    "path_to_hce = os.path.join(main_path + '/hce.csv')"
   ]
  },
  {
   "cell_type": "code",
   "execution_count": 55,
   "metadata": {},
   "outputs": [
    {
     "data": {
      "text/html": [
       "<div>\n",
       "<style scoped>\n",
       "    .dataframe tbody tr th:only-of-type {\n",
       "        vertical-align: middle;\n",
       "    }\n",
       "\n",
       "    .dataframe tbody tr th {\n",
       "        vertical-align: top;\n",
       "    }\n",
       "\n",
       "    .dataframe thead th {\n",
       "        text-align: right;\n",
       "    }\n",
       "</style>\n",
       "<table border=\"1\" class=\"dataframe\">\n",
       "  <thead>\n",
       "    <tr style=\"text-align: right;\">\n",
       "      <th></th>\n",
       "      <th>smiles</th>\n",
       "      <th>pce_pcbm_sas</th>\n",
       "      <th>pce_pcdtbt_sas</th>\n",
       "      <th>pce_1</th>\n",
       "      <th>pce_2</th>\n",
       "      <th>sas</th>\n",
       "    </tr>\n",
       "  </thead>\n",
       "  <tbody>\n",
       "    <tr>\n",
       "      <th>0</th>\n",
       "      <td>c1sc(-c2[SiH2]c(cc2)-c2ccc(-c3scc4occc34)c3csc...</td>\n",
       "      <td>-1.061257</td>\n",
       "      <td>-4.382105</td>\n",
       "      <td>3.320848</td>\n",
       "      <td>0.0</td>\n",
       "      <td>4.382105</td>\n",
       "    </tr>\n",
       "    <tr>\n",
       "      <th>1</th>\n",
       "      <td>c1ccc(C2=Cc3oc4c(c3C2)c2c[nH]cc2c2ccc3=CCC=c3c...</td>\n",
       "      <td>-3.188265</td>\n",
       "      <td>-3.607924</td>\n",
       "      <td>0.419659</td>\n",
       "      <td>0.0</td>\n",
       "      <td>3.607924</td>\n",
       "    </tr>\n",
       "    <tr>\n",
       "      <th>2</th>\n",
       "      <td>c1cc2sc3cc4ccc5cscc5c4cc3c2c2cCcc12</td>\n",
       "      <td>-0.767370</td>\n",
       "      <td>-3.361486</td>\n",
       "      <td>2.594116</td>\n",
       "      <td>0.0</td>\n",
       "      <td>3.361486</td>\n",
       "    </tr>\n",
       "    <tr>\n",
       "      <th>3</th>\n",
       "      <td>[nH]1c2cc(-c3ccc[se]3)c3c[nH]cc3c2c2c1c1[se]cc...</td>\n",
       "      <td>-3.572659</td>\n",
       "      <td>-4.618362</td>\n",
       "      <td>1.045703</td>\n",
       "      <td>0.0</td>\n",
       "      <td>4.618362</td>\n",
       "    </tr>\n",
       "    <tr>\n",
       "      <th>4</th>\n",
       "      <td>[SiH2]1C=CC=C1c1cc2sc3c4[se]ccc4c4cocc4c3c2c2c...</td>\n",
       "      <td>-1.675279</td>\n",
       "      <td>-4.853093</td>\n",
       "      <td>3.177815</td>\n",
       "      <td>0.0</td>\n",
       "      <td>4.853093</td>\n",
       "    </tr>\n",
       "    <tr>\n",
       "      <th>...</th>\n",
       "      <td>...</td>\n",
       "      <td>...</td>\n",
       "      <td>...</td>\n",
       "      <td>...</td>\n",
       "      <td>...</td>\n",
       "      <td>...</td>\n",
       "    </tr>\n",
       "    <tr>\n",
       "      <th>24948</th>\n",
       "      <td>[SiH2]1C=CC=C1C1=Cc2cc3ccc4ccc5c[nH]cc5c4c3cc2...</td>\n",
       "      <td>-2.797039</td>\n",
       "      <td>-4.418456</td>\n",
       "      <td>1.621417</td>\n",
       "      <td>0.0</td>\n",
       "      <td>4.418456</td>\n",
       "    </tr>\n",
       "    <tr>\n",
       "      <th>24949</th>\n",
       "      <td>c1cc2ccc3cc4cc(-c5ncncn5)c5=C[SiH2]C=c5c4cc3c2...</td>\n",
       "      <td>1.610517</td>\n",
       "      <td>-3.828723</td>\n",
       "      <td>5.439241</td>\n",
       "      <td>0.0</td>\n",
       "      <td>3.828723</td>\n",
       "    </tr>\n",
       "    <tr>\n",
       "      <th>24950</th>\n",
       "      <td>c1sc(c2C=CCc12)-c1cc2ncc3c4ccccc4c4ccccc4c3c2cn1</td>\n",
       "      <td>-0.239583</td>\n",
       "      <td>-2.952342</td>\n",
       "      <td>2.712759</td>\n",
       "      <td>0.0</td>\n",
       "      <td>2.952342</td>\n",
       "    </tr>\n",
       "    <tr>\n",
       "      <th>24951</th>\n",
       "      <td>c1sc(-c2ccc(s2)-c2Cc(cc2)-c2cncc3nsnc23)c2ccsc12</td>\n",
       "      <td>4.575720</td>\n",
       "      <td>-3.706835</td>\n",
       "      <td>8.282555</td>\n",
       "      <td>0.0</td>\n",
       "      <td>3.706835</td>\n",
       "    </tr>\n",
       "    <tr>\n",
       "      <th>24952</th>\n",
       "      <td>c1[SiH2]c(cc1)-c1sc(-c2sc(-c3cncc4nsnc34)c3[nH...</td>\n",
       "      <td>0.892807</td>\n",
       "      <td>-4.533846</td>\n",
       "      <td>5.426653</td>\n",
       "      <td>0.0</td>\n",
       "      <td>4.533846</td>\n",
       "    </tr>\n",
       "  </tbody>\n",
       "</table>\n",
       "<p>24953 rows × 6 columns</p>\n",
       "</div>"
      ],
      "text/plain": [
       "                                                  smiles  pce_pcbm_sas  \\\n",
       "0      c1sc(-c2[SiH2]c(cc2)-c2ccc(-c3scc4occc34)c3csc...     -1.061257   \n",
       "1      c1ccc(C2=Cc3oc4c(c3C2)c2c[nH]cc2c2ccc3=CCC=c3c...     -3.188265   \n",
       "2                    c1cc2sc3cc4ccc5cscc5c4cc3c2c2cCcc12     -0.767370   \n",
       "3      [nH]1c2cc(-c3ccc[se]3)c3c[nH]cc3c2c2c1c1[se]cc...     -3.572659   \n",
       "4      [SiH2]1C=CC=C1c1cc2sc3c4[se]ccc4c4cocc4c3c2c2c...     -1.675279   \n",
       "...                                                  ...           ...   \n",
       "24948  [SiH2]1C=CC=C1C1=Cc2cc3ccc4ccc5c[nH]cc5c4c3cc2...     -2.797039   \n",
       "24949  c1cc2ccc3cc4cc(-c5ncncn5)c5=C[SiH2]C=c5c4cc3c2...      1.610517   \n",
       "24950   c1sc(c2C=CCc12)-c1cc2ncc3c4ccccc4c4ccccc4c3c2cn1     -0.239583   \n",
       "24951   c1sc(-c2ccc(s2)-c2Cc(cc2)-c2cncc3nsnc23)c2ccsc12      4.575720   \n",
       "24952  c1[SiH2]c(cc1)-c1sc(-c2sc(-c3cncc4nsnc34)c3[nH...      0.892807   \n",
       "\n",
       "       pce_pcdtbt_sas     pce_1  pce_2       sas  \n",
       "0           -4.382105  3.320848    0.0  4.382105  \n",
       "1           -3.607924  0.419659    0.0  3.607924  \n",
       "2           -3.361486  2.594116    0.0  3.361486  \n",
       "3           -4.618362  1.045703    0.0  4.618362  \n",
       "4           -4.853093  3.177815    0.0  4.853093  \n",
       "...               ...       ...    ...       ...  \n",
       "24948       -4.418456  1.621417    0.0  4.418456  \n",
       "24949       -3.828723  5.439241    0.0  3.828723  \n",
       "24950       -2.952342  2.712759    0.0  2.952342  \n",
       "24951       -3.706835  8.282555    0.0  3.706835  \n",
       "24952       -4.533846  5.426653    0.0  4.533846  \n",
       "\n",
       "[24953 rows x 6 columns]"
      ]
     },
     "execution_count": 55,
     "metadata": {},
     "output_type": "execute_result"
    }
   ],
   "source": [
    "# display the .csv file as dataframe\n",
    "import pandas as pd\n",
    "hce = pd.read_csv(path_to_hce)\n",
    "hce"
   ]
  },
  {
   "cell_type": "markdown",
   "metadata": {},
   "source": [
    "**2. Use the `SMILES` from the diversity data loaded above to run `Tartarus`**"
   ]
  },
  {
   "cell_type": "code",
   "execution_count": 29,
   "metadata": {},
   "outputs": [],
   "source": [
    "# creat an empty dictionary\n",
    "from collections import defaultdict\n",
    "data = defaultdict(list)"
   ]
  },
  {
   "cell_type": "markdown",
   "metadata": {},
   "source": [
    "**Get a database similar to the one from the original work**"
   ]
  },
  {
   "cell_type": "code",
   "execution_count": 30,
   "metadata": {},
   "outputs": [
    {
     "data": {
      "text/html": [
       "<div>\n",
       "<style scoped>\n",
       "    .dataframe tbody tr th:only-of-type {\n",
       "        vertical-align: middle;\n",
       "    }\n",
       "\n",
       "    .dataframe tbody tr th {\n",
       "        vertical-align: top;\n",
       "    }\n",
       "\n",
       "    .dataframe thead th {\n",
       "        text-align: right;\n",
       "    }\n",
       "</style>\n",
       "<table border=\"1\" class=\"dataframe\">\n",
       "  <thead>\n",
       "    <tr style=\"text-align: right;\">\n",
       "      <th></th>\n",
       "      <th>smiles</th>\n",
       "    </tr>\n",
       "  </thead>\n",
       "  <tbody>\n",
       "    <tr>\n",
       "      <th>0</th>\n",
       "      <td>CCC[N+](CC#Cc1ccccc1)(CCC)CC(=O)c1ccc(Cl)cc1</td>\n",
       "    </tr>\n",
       "    <tr>\n",
       "      <th>1</th>\n",
       "      <td>NC(=S)NN=Cc1ccc(O)cc1O</td>\n",
       "    </tr>\n",
       "  </tbody>\n",
       "</table>\n",
       "</div>"
      ],
      "text/plain": [
       "                                         smiles\n",
       "0  CCC[N+](CC#Cc1ccccc1)(CCC)CC(=O)c1ccc(Cl)cc1\n",
       "1                        NC(=S)NN=Cc1ccc(O)cc1O"
      ]
     },
     "execution_count": 30,
     "metadata": {},
     "output_type": "execute_result"
    }
   ],
   "source": [
    "for i in range(len(lin)):\n",
    "    smiles = lin[i].split()[0]\n",
    "    if i==2: break\n",
    "    data['smiles'].append(smiles)\n",
    "\n",
    "df = pd.DataFrame(data)\n",
    "df"
   ]
  },
  {
   "cell_type": "code",
   "execution_count": 31,
   "metadata": {},
   "outputs": [],
   "source": [
    "# save the dataframe to `.csv` file\n",
    "df.to_csv('my_hce.csv')"
   ]
  },
  {
   "cell_type": "code",
   "execution_count": 32,
   "metadata": {},
   "outputs": [],
   "source": [
    "smiles = df['smiles'].tolist()\n",
    "smi = smiles[0]"
   ]
  },
  {
   "cell_type": "code",
   "execution_count": 33,
   "metadata": {},
   "outputs": [],
   "source": [
    "#pip install tartarus"
   ]
  },
  {
   "cell_type": "code",
   "execution_count": 34,
   "metadata": {},
   "outputs": [],
   "source": [
    "#pip install pce"
   ]
  },
  {
   "cell_type": "code",
   "execution_count": null,
   "metadata": {},
   "outputs": [],
   "source": []
  },
  {
   "cell_type": "code",
   "execution_count": 35,
   "metadata": {},
   "outputs": [],
   "source": [
    "#pip install --upgrade tartarus\n"
   ]
  },
  {
   "cell_type": "code",
   "execution_count": 36,
   "metadata": {},
   "outputs": [],
   "source": [
    "#conda activate tartarus\n"
   ]
  },
  {
   "cell_type": "code",
   "execution_count": 37,
   "metadata": {},
   "outputs": [],
   "source": [
    "#conda list\n"
   ]
  },
  {
   "cell_type": "code",
   "execution_count": 56,
   "metadata": {},
   "outputs": [
    {
     "name": "stdout",
     "output_type": "stream",
     "text": [
      "Requirement already satisfied: tartarus in /home/mvoto/anaconda3/lib/python3.10/site-packages (0.2.3)\n",
      "Requirement already satisfied: Click in /home/mvoto/anaconda3/lib/python3.10/site-packages (from tartarus) (8.1.7)\n",
      "Requirement already satisfied: colorama in /home/mvoto/anaconda3/lib/python3.10/site-packages (from tartarus) (0.4.6)\n",
      "Requirement already satisfied: hexrec in /home/mvoto/anaconda3/lib/python3.10/site-packages (from tartarus) (0.3.0)\n",
      "Requirement already satisfied: bytesparse>=0.0.6 in /home/mvoto/anaconda3/lib/python3.10/site-packages (from hexrec->tartarus) (0.0.6)\n",
      "Requirement already satisfied: Deprecated in /home/mvoto/anaconda3/lib/python3.10/site-packages (from hexrec->tartarus) (1.2.14)\n",
      "Requirement already satisfied: wrapt<2,>=1.10 in /home/mvoto/anaconda3/lib/python3.10/site-packages (from Deprecated->hexrec->tartarus) (1.14.1)\n",
      "Note: you may need to restart the kernel to use updated packages.\n"
     ]
    }
   ],
   "source": [
    "pip install tartarus\n"
   ]
  },
  {
   "cell_type": "code",
   "execution_count": 57,
   "metadata": {},
   "outputs": [],
   "source": [
    "import tartarus"
   ]
  },
  {
   "cell_type": "code",
   "execution_count": 58,
   "metadata": {},
   "outputs": [],
   "source": [
    "import pce"
   ]
  },
  {
   "cell_type": "code",
   "execution_count": 59,
   "metadata": {},
   "outputs": [],
   "source": [
    "#pip install pce\n"
   ]
  },
  {
   "cell_type": "code",
   "execution_count": 60,
   "metadata": {},
   "outputs": [
    {
     "data": {
      "text/plain": [
       "\u001b[0;31mType:\u001b[0m        module\n",
       "\u001b[0;31mString form:\u001b[0m <module 'pce' from '/home/mvoto/anaconda3/lib/python3.10/site-packages/pce/__init__.py'>\n",
       "\u001b[0;31mFile:\u001b[0m        ~/anaconda3/lib/python3.10/site-packages/pce/__init__.py\n",
       "\u001b[0;31mDocstring:\u001b[0m   <no docstring>"
      ]
     },
     "metadata": {},
     "output_type": "display_data"
    }
   ],
   "source": [
    "pce?"
   ]
  },
  {
   "cell_type": "code",
   "execution_count": null,
   "metadata": {},
   "outputs": [],
   "source": []
  },
  {
   "cell_type": "code",
   "execution_count": null,
   "metadata": {},
   "outputs": [],
   "source": []
  },
  {
   "cell_type": "code",
   "execution_count": 62,
   "metadata": {},
   "outputs": [
    {
     "ename": "ImportError",
     "evalue": "cannot import name 'pce' from 'tartarus' (/home/mvoto/anaconda3/lib/python3.10/site-packages/tartarus.py)",
     "output_type": "error",
     "traceback": [
      "\u001b[0;31m---------------------------------------------------------------------------\u001b[0m",
      "\u001b[0;31mImportError\u001b[0m                               Traceback (most recent call last)",
      "Cell \u001b[0;32mIn[62], line 2\u001b[0m\n\u001b[1;32m      1\u001b[0m \u001b[38;5;66;03m## use full xtb calculation in hce module\u001b[39;00m\n\u001b[0;32m----> 2\u001b[0m \u001b[38;5;28;01mfrom\u001b[39;00m \u001b[38;5;21;01mtartarus\u001b[39;00m \u001b[38;5;28;01mimport\u001b[39;00m pce\n\u001b[1;32m      3\u001b[0m \u001b[38;5;66;03m#from tartarus import docking\u001b[39;00m\n\u001b[1;32m      4\u001b[0m \u001b[38;5;66;03m#from tartarus import tadf\u001b[39;00m\n\u001b[1;32m      5\u001b[0m \u001b[38;5;66;03m#from tartarus import reactivity\u001b[39;00m\n\u001b[1;32m      7\u001b[0m dipm, gap, lumo, combined, pce_pcbm_sas, pce_pcdtbt_sas \u001b[38;5;241m=\u001b[39m pce\u001b[38;5;241m.\u001b[39mget_properties(smi)\n",
      "\u001b[0;31mImportError\u001b[0m: cannot import name 'pce' from 'tartarus' (/home/mvoto/anaconda3/lib/python3.10/site-packages/tartarus.py)"
     ]
    }
   ],
   "source": [
    "## use full xtb calculation in hce module\n",
    "from tartarus import pce\n",
    "#from tartarus import docking\n",
    "#from tartarus import tadf\n",
    "#from tartarus import reactivity\n",
    "\n",
    "dipm, gap, lumo, combined, pce_pcbm_sas, pce_pcdtbt_sas = pce.get_properties(smi)"
   ]
  },
  {
   "cell_type": "code",
   "execution_count": null,
   "metadata": {},
   "outputs": [],
   "source": []
  }
 ],
 "metadata": {
  "kernelspec": {
   "display_name": "Python 3 (ipykernel)",
   "language": "python",
   "name": "python3"
  },
  "language_info": {
   "codemirror_mode": {
    "name": "ipython",
    "version": 3
   },
   "file_extension": ".py",
   "mimetype": "text/x-python",
   "name": "python",
   "nbconvert_exporter": "python",
   "pygments_lexer": "ipython3",
   "version": "3.10.9"
  }
 },
 "nbformat": 4,
 "nbformat_minor": 4
}

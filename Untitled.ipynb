{
 "cells": [
  {
   "cell_type": "code",
   "execution_count": 6,
   "id": "09c7b5c5-2785-4a4d-b484-57a8fd8ed273",
   "metadata": {},
   "outputs": [
    {
     "ename": "ImportError",
     "evalue": "The `scipy` install you are using seems to be broken, (extension modules cannot be imported), please try reinstalling.",
     "output_type": "error",
     "traceback": [
      "\u001b[0;31m---------------------------------------------------------------------------\u001b[0m",
      "\u001b[0;31mImportError\u001b[0m                               Traceback (most recent call last)",
      "File \u001b[0;32m~/anaconda3/envs/tartarus/lib/python3.8/site-packages/scipy/__init__.py:154\u001b[0m\n\u001b[1;32m    153\u001b[0m \u001b[38;5;28;01mtry\u001b[39;00m:\n\u001b[0;32m--> 154\u001b[0m     \u001b[38;5;28;01mfrom\u001b[39;00m \u001b[38;5;21;01mscipy\u001b[39;00m\u001b[38;5;21;01m.\u001b[39;00m\u001b[38;5;21;01m_lib\u001b[39;00m\u001b[38;5;21;01m.\u001b[39;00m\u001b[38;5;21;01m_ccallback\u001b[39;00m \u001b[38;5;28;01mimport\u001b[39;00m LowLevelCallable\n\u001b[1;32m    155\u001b[0m \u001b[38;5;28;01mexcept\u001b[39;00m \u001b[38;5;167;01mImportError\u001b[39;00m \u001b[38;5;28;01mas\u001b[39;00m e:\n",
      "File \u001b[0;32m~/anaconda3/envs/tartarus/lib/python3.8/site-packages/scipy/_lib/_ccallback.py:1\u001b[0m\n\u001b[0;32m----> 1\u001b[0m \u001b[38;5;28;01mfrom\u001b[39;00m \u001b[38;5;21;01m.\u001b[39;00m \u001b[38;5;28;01mimport\u001b[39;00m _ccallback_c\n\u001b[1;32m      3\u001b[0m \u001b[38;5;28;01mimport\u001b[39;00m \u001b[38;5;21;01mctypes\u001b[39;00m\n",
      "\u001b[0;31mImportError\u001b[0m: cannot import name '_ccallback_c' from 'scipy._lib' (/home/mvoto/anaconda3/envs/tartarus/lib/python3.8/site-packages/scipy/_lib/__init__.py)",
      "\nThe above exception was the direct cause of the following exception:\n",
      "\u001b[0;31mImportError\u001b[0m                               Traceback (most recent call last)",
      "Cell \u001b[0;32mIn[6], line 6\u001b[0m\n\u001b[1;32m      4\u001b[0m \u001b[38;5;28;01mfrom\u001b[39;00m \u001b[38;5;21;01mrdkit\u001b[39;00m\u001b[38;5;21;01m.\u001b[39;00m\u001b[38;5;21;01mChem\u001b[39;00m \u001b[38;5;28;01mimport\u001b[39;00m AllChem\n\u001b[1;32m      5\u001b[0m \u001b[38;5;66;03m#from tartarus.clients import TartarusClient\u001b[39;00m\n\u001b[0;32m----> 6\u001b[0m \u001b[38;5;28;01mfrom\u001b[39;00m \u001b[38;5;21;01mpyscf\u001b[39;00m \u001b[38;5;28;01mimport\u001b[39;00m gto, dft\n\u001b[1;32m      7\u001b[0m \u001b[38;5;28;01mimport\u001b[39;00m \u001b[38;5;21;01mpybel\u001b[39;00m\n\u001b[1;32m      9\u001b[0m \u001b[38;5;66;03m# 2-3. Parcours des fichiers et récupération des deux premiers SMILES de chaque fichier\u001b[39;00m\n",
      "File \u001b[0;32m~/anaconda3/envs/tartarus/lib/python3.8/site-packages/pyscf/__init__.py:97\u001b[0m\n\u001b[1;32m     94\u001b[0m     _internal\u001b[38;5;241m.\u001b[39m_get_void_ptr \u001b[38;5;241m=\u001b[39m _get_void_ptr\n\u001b[1;32m     96\u001b[0m \u001b[38;5;28;01mfrom\u001b[39;00m \u001b[38;5;21;01mpyscf\u001b[39;00m \u001b[38;5;28;01mimport\u001b[39;00m __config__\n\u001b[0;32m---> 97\u001b[0m \u001b[38;5;28;01mfrom\u001b[39;00m \u001b[38;5;21;01mpyscf\u001b[39;00m \u001b[38;5;28;01mimport\u001b[39;00m lib\n\u001b[1;32m     98\u001b[0m \u001b[38;5;28;01mfrom\u001b[39;00m \u001b[38;5;21;01mpyscf\u001b[39;00m \u001b[38;5;28;01mimport\u001b[39;00m gto\n\u001b[1;32m     99\u001b[0m \u001b[38;5;28;01mfrom\u001b[39;00m \u001b[38;5;21;01mpyscf\u001b[39;00m \u001b[38;5;28;01mimport\u001b[39;00m scf\n",
      "File \u001b[0;32m~/anaconda3/envs/tartarus/lib/python3.8/site-packages/pyscf/lib/__init__.py:25\u001b[0m\n\u001b[1;32m     23\u001b[0m param \u001b[38;5;241m=\u001b[39m parameters\n\u001b[1;32m     24\u001b[0m \u001b[38;5;28;01mfrom\u001b[39;00m \u001b[38;5;21;01mpyscf\u001b[39;00m\u001b[38;5;21;01m.\u001b[39;00m\u001b[38;5;21;01mlib\u001b[39;00m \u001b[38;5;28;01mimport\u001b[39;00m numpy_helper\n\u001b[0;32m---> 25\u001b[0m \u001b[38;5;28;01mfrom\u001b[39;00m \u001b[38;5;21;01mpyscf\u001b[39;00m\u001b[38;5;21;01m.\u001b[39;00m\u001b[38;5;21;01mlib\u001b[39;00m \u001b[38;5;28;01mimport\u001b[39;00m linalg_helper\n\u001b[1;32m     26\u001b[0m \u001b[38;5;28;01mfrom\u001b[39;00m \u001b[38;5;21;01mpyscf\u001b[39;00m\u001b[38;5;21;01m.\u001b[39;00m\u001b[38;5;21;01mlib\u001b[39;00m \u001b[38;5;28;01mimport\u001b[39;00m scipy_helper\n\u001b[1;32m     27\u001b[0m \u001b[38;5;28;01mfrom\u001b[39;00m \u001b[38;5;21;01mpyscf\u001b[39;00m\u001b[38;5;21;01m.\u001b[39;00m\u001b[38;5;21;01mlib\u001b[39;00m \u001b[38;5;28;01mimport\u001b[39;00m logger\n",
      "File \u001b[0;32m~/anaconda3/envs/tartarus/lib/python3.8/site-packages/pyscf/lib/linalg_helper.py:28\u001b[0m\n\u001b[1;32m     26\u001b[0m \u001b[38;5;28;01mfrom\u001b[39;00m \u001b[38;5;21;01mfunctools\u001b[39;00m \u001b[38;5;28;01mimport\u001b[39;00m reduce\n\u001b[1;32m     27\u001b[0m \u001b[38;5;28;01mimport\u001b[39;00m \u001b[38;5;21;01mnumpy\u001b[39;00m\n\u001b[0;32m---> 28\u001b[0m \u001b[38;5;28;01mimport\u001b[39;00m \u001b[38;5;21;01mscipy\u001b[39;00m\u001b[38;5;21;01m.\u001b[39;00m\u001b[38;5;21;01mlinalg\u001b[39;00m\n\u001b[1;32m     29\u001b[0m \u001b[38;5;28;01mfrom\u001b[39;00m \u001b[38;5;21;01mpyscf\u001b[39;00m\u001b[38;5;21;01m.\u001b[39;00m\u001b[38;5;21;01mlib\u001b[39;00m \u001b[38;5;28;01mimport\u001b[39;00m logger\n\u001b[1;32m     30\u001b[0m \u001b[38;5;28;01mfrom\u001b[39;00m \u001b[38;5;21;01mpyscf\u001b[39;00m\u001b[38;5;21;01m.\u001b[39;00m\u001b[38;5;21;01mlib\u001b[39;00m \u001b[38;5;28;01mimport\u001b[39;00m numpy_helper\n",
      "File \u001b[0;32m~/anaconda3/envs/tartarus/lib/python3.8/site-packages/scipy/__init__.py:159\u001b[0m\n\u001b[1;32m    155\u001b[0m \u001b[38;5;28;01mexcept\u001b[39;00m \u001b[38;5;167;01mImportError\u001b[39;00m \u001b[38;5;28;01mas\u001b[39;00m e:\n\u001b[1;32m    156\u001b[0m     msg \u001b[38;5;241m=\u001b[39m \u001b[38;5;124m\"\u001b[39m\u001b[38;5;124mThe `scipy` install you are using seems to be broken, \u001b[39m\u001b[38;5;124m\"\u001b[39m \u001b[38;5;241m+\u001b[39m \\\n\u001b[1;32m    157\u001b[0m           \u001b[38;5;124m\"\u001b[39m\u001b[38;5;124m(extension modules cannot be imported), \u001b[39m\u001b[38;5;124m\"\u001b[39m \u001b[38;5;241m+\u001b[39m \\\n\u001b[1;32m    158\u001b[0m           \u001b[38;5;124m\"\u001b[39m\u001b[38;5;124mplease try reinstalling.\u001b[39m\u001b[38;5;124m\"\u001b[39m\n\u001b[0;32m--> 159\u001b[0m     \u001b[38;5;28;01mraise\u001b[39;00m \u001b[38;5;167;01mImportError\u001b[39;00m(msg) \u001b[38;5;28;01mfrom\u001b[39;00m \u001b[38;5;21;01me\u001b[39;00m\n\u001b[1;32m    161\u001b[0m \u001b[38;5;28;01mfrom\u001b[39;00m \u001b[38;5;21;01mscipy\u001b[39;00m\u001b[38;5;21;01m.\u001b[39;00m\u001b[38;5;21;01m_lib\u001b[39;00m\u001b[38;5;21;01m.\u001b[39;00m\u001b[38;5;21;01m_testutils\u001b[39;00m \u001b[38;5;28;01mimport\u001b[39;00m PytestTester\n\u001b[1;32m    162\u001b[0m test \u001b[38;5;241m=\u001b[39m PytestTester(\u001b[38;5;18m__name__\u001b[39m)\n",
      "\u001b[0;31mImportError\u001b[0m: The `scipy` install you are using seems to be broken, (extension modules cannot be imported), please try reinstalling."
     ]
    }
   ],
   "source": [
    "import pandas as pd\n",
    "import glob\n",
    "from rdkit import Chem\n",
    "from rdkit.Chem import AllChem\n",
    "#from tartarus.clients import TartarusClient\n",
    "from pyscf import gto, dft\n",
    "import pybel\n",
    "\n",
    "# 2-3. Parcours des fichiers et récupération des deux premiers SMILES de chaque fichier\n",
    "smiles_list = []\n",
    "for filename in glob.glob(\"Diversity/*.txt\"):\n",
    "    with open(filename, \"r\") as file:\n",
    "        lines = file.readlines()\n",
    "        for line in lines:\n",
    "            line = line.strip()\n",
    "            if line != \"\":\n",
    "                smiles_list.append(line)\n",
    "                if len(smiles_list) >= 2:\n",
    "                    break\n",
    "\n",
    "# 3. Création du DataFrame\n",
    "data = pd.DataFrame({\"SMILES\": smiles_list})\n",
    "data[\"homo\"] = None\n",
    "data[\"lumo\"] = None\n",
    "data[\"gap\"] = None\n",
    "\n",
    "# 4. Génération des objets moléculaires RDKit en utilisant Open Babel pour contourner les erreurs\n",
    "for i, smiles in enumerate(data[\"SMILES\"]):\n",
    "    try:\n",
    "        obmol = pybel.readstring(\"smi\", smiles)\n",
    "        mol = Chem.MolFromSmiles(obmol.write(\"smi\"))\n",
    "        if mol is not None:\n",
    "            mol = Chem.AddHs(mol)\n",
    "            AllChem.EmbedMolecule(mol)\n",
    "            AllChem.MMFFOptimizeMolecule(mol)\n",
    "            writer = Chem.SDWriter(f\"molecule_{i}.sdf\")\n",
    "            writer.write(mol)\n",
    "            writer.close()\n",
    "    except Exception as e:\n",
    "        print(f\"Error processing SMILES: {smiles}\")\n",
    "        print(f\"Error message: {str(e)}\")\n",
    "\n",
    "# Vérification de la longueur du DataFrame\n",
    "assert len(data) == (2 * len(glob.glob(\"Diversity/*.txt\")))\n",
    "\n",
    "# 5. Utilisation de Tartarus pour calculer les énergies LUMO et gap\n",
    "client = TartarusClient()\n",
    "for i, smiles in enumerate(data[\"SMILES\"]):\n",
    "    result = client.query_property(smiles, \"LUMO\")\n",
    "    data.at[i, \"lumo\"] = result[\"result\"]\n",
    "    result = client.query_property(smiles, \"gap\")\n",
    "    data.at[i, \"gap\"] = result[\"result\"]\n",
    "\n",
    "# 6. Utilisation de PySCF pour calculer les énergies LUMO, HOMO et gap\n",
    "for i, smiles in enumerate(data[\"SMILES\"]):\n",
    "    mol = gto.Mole()\n",
    "    mol.atom = smiles\n",
    "    mol.basis = \"sto-3g\"\n",
    "    mol.build()\n",
    "    mf = dft.RKS(mol)\n",
    "    mf.xc = \"lda,vwn\"\n",
    "    mf.kernel()\n",
    "    homo = mf.mo_energy[mol.nelectron // 2 - 1]\n",
    "    lumo = mf.mo_energy[mol.nelectron // 2]\n",
    "    gap = lumo - homo\n",
    "    data.at[i, \"homo\"] = homo\n",
    "    data.at[i, \"lumo\"] = lumo\n",
    "    data.at[i, \"gap\"] = gap\n",
    "\n",
    "# Affichage du DataFrame final\n",
    "print(data)"
   ]
  },
  {
   "cell_type": "code",
   "execution_count": null,
   "id": "d309213b-a2c9-4e31-a627-95310346ebaf",
   "metadata": {},
   "outputs": [
    {
     "name": "stdout",
     "output_type": "stream",
     "text": [
      "Requirement already satisfied: scipy in /home/mvoto/anaconda3/envs/tartarus/lib/python3.8/site-packages (0.1)\n",
      "Collecting scipy\n",
      "  Downloading scipy-1.10.1-cp38-cp38-manylinux_2_17_x86_64.manylinux2014_x86_64.whl (34.5 MB)\n",
      "\u001b[2K     \u001b[38;2;249;38;114m━━━━━━━━━━━━━━━━━━━━━━━━━━━━━━━━━━━━━━━\u001b[0m\u001b[38;2;249;38;114m╸\u001b[0m \u001b[32m34.3/34.5 MB\u001b[0m \u001b[31m35.4 kB/s\u001b[0m eta \u001b[36m0:00:07\u001b[0m[36m0:00:19\u001b[0m9:33\u001b[0m"
     ]
    }
   ],
   "source": [
    "pip install --upgrade scipy\n"
   ]
  },
  {
   "cell_type": "code",
   "execution_count": null,
   "id": "ffd49ef8-d467-476b-8723-93b225518183",
   "metadata": {},
   "outputs": [],
   "source": []
  }
 ],
 "metadata": {
  "kernelspec": {
   "display_name": "Python [conda env:tartarus]",
   "language": "python",
   "name": "conda-env-tartarus-py"
  },
  "language_info": {
   "codemirror_mode": {
    "name": "ipython",
    "version": 3
   },
   "file_extension": ".py",
   "mimetype": "text/x-python",
   "name": "python",
   "nbconvert_exporter": "python",
   "pygments_lexer": "ipython3",
   "version": "3.8.17"
  }
 },
 "nbformat": 4,
 "nbformat_minor": 5
}

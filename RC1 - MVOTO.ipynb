{
 "cells": [
  {
   "cell_type": "markdown",
   "metadata": {},
   "source": [
    "# Basics For Molecular Data Handling\n",
    "\n",
    "1. S. C. Teguia Kouam, steve.teguia@facsciences-uy1.cm\n",
    "    * Department of Physics, Faculty of Science, University of Douala\n",
    "1. J-P. Tchapet Njafa, jean-pierre.tchapet@facsciences-uy1.cm\n",
    "    * Department of Physics, Faculty of Science, University of Maroua\n",
    "1. S. G. Nana Engo, serge.nana-engo@facsciences-uy1.cm\n",
    "    * Department of Physics, Faculty of Science, University of Yaounde I\n",
    "       \n",
    "*September 2023*"
   ]
  },
  {
   "cell_type": "markdown",
   "metadata": {},
   "source": [
    "This Tutorial aims to aid in the process of handling molecular data to be used for **cheminformatics works**. For this purpose, as first step, we will learn how to deal with molecular **SMILES** (Simplified Molecular Input Line Entry System), being one of the most common practice to represent molecules as raw input for computer algorithms.\n",
    "\n",
    "## Download Our DataBase\n",
    "\n",
    "To move forward, we suggest downloading first a dataset containing molecular files. We choose an arbitrary dataset from the `Zenodo` repository (https://zenodo.org/record/4641960/files/Diversity.zip?download=1). This dataset is composed of several molecular files (with `.txt` extensions) each of them containing a list of SMILES.\n",
    "\n",
    "\n",
    "## Read Molecular Files "
   ]
  },
  {
   "cell_type": "code",
   "execution_count": 1,
   "metadata": {},
   "outputs": [],
   "source": [
    "# import libraries\n",
    "import os"
   ]
  },
  {
   "cell_type": "code",
   "execution_count": 4,
   "metadata": {},
   "outputs": [],
   "source": [
    "# path to the current work directory\n",
    "main_path = os.getcwd()\n",
    "# path to the database\n",
    "#path_to_db = os.path.join(main_path + '/../Datasets/Diversity/diversity/')\n",
    "# path to a specific molecular file: first file containing 1000 SMILES\n",
    "mol_file = main_path  + '/chembl_24.1_smiles-n=1000-min_tc=0.0-sample_idx=1.txt'"
   ]
  },
  {
   "cell_type": "markdown",
   "metadata": {},
   "source": [
    "**1. First Method**"
   ]
  },
  {
   "cell_type": "code",
   "execution_count": 5,
   "metadata": {},
   "outputs": [
    {
     "ename": "FileNotFoundError",
     "evalue": "[Errno 2] No such file or directory: '/workspaces/GitNindjapatrick/chembl_24.1_smiles-n=1000-min_tc=0.0-sample_idx=1.txt'",
     "output_type": "error",
     "traceback": [
      "\u001b[0;31m---------------------------------------------------------------------------\u001b[0m",
      "\u001b[0;31mFileNotFoundError\u001b[0m                         Traceback (most recent call last)",
      "Cell \u001b[0;32mIn[5], line 1\u001b[0m\n\u001b[0;32m----> 1\u001b[0m \u001b[39mwith\u001b[39;00m \u001b[39mopen\u001b[39;49m(mol_file, \u001b[39m'\u001b[39;49m\u001b[39mr\u001b[39;49m\u001b[39m'\u001b[39;49m) \u001b[39mas\u001b[39;00m file:\n\u001b[1;32m      2\u001b[0m     file1 \u001b[39m=\u001b[39m file\u001b[39m.\u001b[39mread()\u001b[39m.\u001b[39msplit(\u001b[39m'\u001b[39m\u001b[39m\\n\u001b[39;00m\u001b[39m'\u001b[39m)\n\u001b[1;32m      4\u001b[0m \u001b[39mtype\u001b[39m(file1)\n",
      "File \u001b[0;32m~/.local/lib/python3.10/site-packages/IPython/core/interactiveshell.py:284\u001b[0m, in \u001b[0;36m_modified_open\u001b[0;34m(file, *args, **kwargs)\u001b[0m\n\u001b[1;32m    277\u001b[0m \u001b[39mif\u001b[39;00m file \u001b[39min\u001b[39;00m {\u001b[39m0\u001b[39m, \u001b[39m1\u001b[39m, \u001b[39m2\u001b[39m}:\n\u001b[1;32m    278\u001b[0m     \u001b[39mraise\u001b[39;00m \u001b[39mValueError\u001b[39;00m(\n\u001b[1;32m    279\u001b[0m         \u001b[39mf\u001b[39m\u001b[39m\"\u001b[39m\u001b[39mIPython won\u001b[39m\u001b[39m'\u001b[39m\u001b[39mt let you open fd=\u001b[39m\u001b[39m{\u001b[39;00mfile\u001b[39m}\u001b[39;00m\u001b[39m by default \u001b[39m\u001b[39m\"\u001b[39m\n\u001b[1;32m    280\u001b[0m         \u001b[39m\"\u001b[39m\u001b[39mas it is likely to crash IPython. If you know what you are doing, \u001b[39m\u001b[39m\"\u001b[39m\n\u001b[1;32m    281\u001b[0m         \u001b[39m\"\u001b[39m\u001b[39myou can use builtins\u001b[39m\u001b[39m'\u001b[39m\u001b[39m open.\u001b[39m\u001b[39m\"\u001b[39m\n\u001b[1;32m    282\u001b[0m     )\n\u001b[0;32m--> 284\u001b[0m \u001b[39mreturn\u001b[39;00m io_open(file, \u001b[39m*\u001b[39;49margs, \u001b[39m*\u001b[39;49m\u001b[39m*\u001b[39;49mkwargs)\n",
      "\u001b[0;31mFileNotFoundError\u001b[0m: [Errno 2] No such file or directory: '/workspaces/GitNindjapatrick/chembl_24.1_smiles-n=1000-min_tc=0.0-sample_idx=1.txt'"
     ]
    }
   ],
   "source": [
    "with open(mol_file, 'r') as file:\n",
    "    file1 = file.read().split('\\n')\n",
    "\n",
    "type(file1)"
   ]
  },
  {
   "cell_type": "markdown",
   "metadata": {},
   "source": [
    "**Select the first molecular smiles of the file**"
   ]
  },
  {
   "cell_type": "code",
   "execution_count": 4,
   "metadata": {},
   "outputs": [
    {
     "data": {
      "text/plain": [
       "'CCC[N+](CC#Cc1ccccc1)(CCC)CC(=O)c1ccc(Cl)cc1'"
      ]
     },
     "execution_count": 4,
     "metadata": {},
     "output_type": "execute_result"
    }
   ],
   "source": [
    "smiles1 = file1[0]\n",
    "smiles1"
   ]
  },
  {
   "cell_type": "markdown",
   "metadata": {},
   "source": [
    "**2. Second Method**"
   ]
  },
  {
   "cell_type": "code",
   "execution_count": null,
   "metadata": {},
   "outputs": [],
   "source": []
  },
  {
   "cell_type": "code",
   "execution_count": 5,
   "metadata": {},
   "outputs": [
    {
     "data": {
      "text/plain": [
       "<_io.TextIOWrapper name='/home/mvoto/Téléchargements/RC1/chembl_24.1_smiles-n=1000-min_tc=0.0-sample_idx=1.txt' mode='r' encoding='utf-8'>"
      ]
     },
     "execution_count": 5,
     "metadata": {},
     "output_type": "execute_result"
    }
   ],
   "source": [
    "# open the file while changing the encoding to 'utf-8'\n",
    "file2 = open(mol_file, encoding='utf-8')\n",
    "\n",
    "file2"
   ]
  },
  {
   "cell_type": "code",
   "execution_count": 6,
   "metadata": {},
   "outputs": [],
   "source": [
    "# read the lines of the molecular file\n",
    "lin = file2.readlines()"
   ]
  },
  {
   "cell_type": "code",
   "execution_count": 7,
   "metadata": {},
   "outputs": [
    {
     "data": {
      "text/plain": [
       "1000"
      ]
     },
     "execution_count": 7,
     "metadata": {},
     "output_type": "execute_result"
    }
   ],
   "source": [
    "len(lin)"
   ]
  },
  {
   "cell_type": "markdown",
   "metadata": {},
   "source": [
    "**Select the first molecular smiles of the file**"
   ]
  },
  {
   "cell_type": "code",
   "execution_count": 8,
   "metadata": {},
   "outputs": [
    {
     "data": {
      "text/plain": [
       "'CCC[N+](CC#Cc1ccccc1)(CCC)CC(=O)c1ccc(Cl)cc1'"
      ]
     },
     "execution_count": 8,
     "metadata": {},
     "output_type": "execute_result"
    }
   ],
   "source": [
    "smiles1 = lin[0].split()[0]\n",
    "smiles1"
   ]
  },
  {
   "cell_type": "markdown",
   "metadata": {},
   "source": [
    "## Create Molecular Objects\n",
    "\n",
    "### **Using `OpenBabel`**"
   ]
  },
  {
   "cell_type": "code",
   "execution_count": null,
   "metadata": {},
   "outputs": [],
   "source": []
  },
  {
   "cell_type": "code",
   "execution_count": 9,
   "metadata": {},
   "outputs": [],
   "source": [
    "# import libraries \n",
    "from openbabel import pybel as pb  \n",
    "from openbabel import openbabel as ob "
   ]
  },
  {
   "cell_type": "markdown",
   "metadata": {},
   "source": [
    "**create an `openbabel` molecular object**"
   ]
  },
  {
   "cell_type": "code",
   "execution_count": 10,
   "metadata": {},
   "outputs": [
    {
     "data": {
      "image/svg+xml": [
       "<svg xmlns=\"http://www.w3.org/2000/svg\" width=\"100\" height=\"100\" x=\"0\" y=\"0\" viewBox=\"0 0 460 313.205\" font-family=\"sans-serif\" stroke=\"rgb(0,0,0)\" stroke-width=\"2\" stroke-linecap=\"round\">\n",
       "<line x1=\"202.0\" y1=\"259.7\" x2=\"225.4\" y2=\"273.2\" opacity=\"1.0\" stroke=\"rgb(0,0,0)\" stroke-width=\"2.0\" />\n",
       "<line x1=\"225.4\" y1=\"273.2\" x2=\"260.0\" y2=\"253.2\" opacity=\"1.0\" stroke=\"rgb(0,0,0)\" stroke-width=\"2.0\" />\n",
       "<line x1=\"260.0\" y1=\"253.2\" x2=\"260.0\" y2=\"226.2\" opacity=\"1.0\" stroke=\"rgb(0,0,0)\" stroke-width=\"2.0\" />\n",
       "<line x1=\"273.0\" y1=\"213.2\" x2=\"300.0\" y2=\"213.2\" opacity=\"1.0\" stroke=\"rgb(0,0,0)\" stroke-width=\"2.0\" />\n",
       "<line x1=\"300.0\" y1=\"213.2\" x2=\"320.0\" y2=\"178.6\" opacity=\"1.0\" stroke=\"rgb(0,0,0)\" stroke-width=\"2.0\" />\n",
       "<line x1=\"320.0\" y1=\"178.6\" x2=\"340.0\" y2=\"143.9\" opacity=\"1.0\" stroke=\"rgb(0,0,0)\" stroke-width=\"2.0\" />\n",
       "<line x1=\"316.4\" y1=\"176.5\" x2=\"336.4\" y2=\"141.8\" opacity=\"1.0\" stroke=\"rgb(0,0,0)\" stroke-width=\"2.0\" />\n",
       "<line x1=\"323.6\" y1=\"180.7\" x2=\"343.6\" y2=\"146.0\" opacity=\"1.0\" stroke=\"rgb(0,0,0)\" stroke-width=\"2.0\" />\n",
       "<line x1=\"340.0\" y1=\"143.9\" x2=\"360.0\" y2=\"109.3\" opacity=\"1.0\" stroke=\"rgb(0,0,0)\" stroke-width=\"2.0\" />\n",
       "<line x1=\"260.0\" y1=\"200.2\" x2=\"260.0\" y2=\"173.2\" opacity=\"1.0\" stroke=\"rgb(0,0,0)\" stroke-width=\"2.0\" />\n",
       "<line x1=\"260.0\" y1=\"173.2\" x2=\"294.6\" y2=\"153.2\" opacity=\"1.0\" stroke=\"rgb(0,0,0)\" stroke-width=\"2.0\" />\n",
       "<line x1=\"294.6\" y1=\"153.2\" x2=\"294.6\" y2=\"126.2\" opacity=\"1.0\" stroke=\"rgb(0,0,0)\" stroke-width=\"2.0\" />\n",
       "<line x1=\"247.0\" y1=\"213.2\" x2=\"220.0\" y2=\"213.2\" opacity=\"1.0\" stroke=\"rgb(0,0,0)\" stroke-width=\"2.0\" />\n",
       "<line x1=\"220.0\" y1=\"213.2\" x2=\"200.0\" y2=\"178.6\" opacity=\"1.0\" stroke=\"rgb(0,0,0)\" stroke-width=\"2.0\" />\n",
       "<line x1=\"197.4\" y1=\"177.1\" x2=\"210.9\" y2=\"153.7\" opacity=\"1.0\" stroke=\"rgb(0,0,0)\" stroke-width=\"2.0\" />\n",
       "<line x1=\"202.6\" y1=\"180.1\" x2=\"216.1\" y2=\"156.7\" opacity=\"1.0\" stroke=\"rgb(0,0,0)\" stroke-width=\"2.0\" />\n",
       "<line x1=\"200.0\" y1=\"178.6\" x2=\"160.0\" y2=\"178.6\" opacity=\"1.0\" stroke=\"rgb(0,0,0)\" stroke-width=\"2.0\" />\n",
       "<line x1=\"80.0\" y1=\"178.6\" x2=\"53.0\" y2=\"178.6\" opacity=\"1.0\" stroke=\"rgb(0,0,0)\" stroke-width=\"2.0\" />\n",
       "<line x1=\"340.0\" y1=\"74.6\" x2=\"360.0\" y2=\"109.3\" opacity=\"1.0\" stroke=\"rgb(0,0,0)\" stroke-width=\"2.0\" />\n",
       "<line x1=\"360.0\" y1=\"109.3\" x2=\"400.0\" y2=\"109.3\" opacity=\"1.0\" stroke=\"rgb(0,0,0)\" stroke-width=\"2.0\" />\n",
       "<line x1=\"366.0\" y1=\"102.1\" x2=\"394.0\" y2=\"102.1\" opacity=\"1.0\" stroke=\"rgb(0,0,0)\" stroke-width=\"2.0\" />\n",
       "<line x1=\"400.0\" y1=\"109.3\" x2=\"420.0\" y2=\"74.6\" opacity=\"1.0\" stroke=\"rgb(0,0,0)\" stroke-width=\"2.0\" />\n",
       "<line x1=\"420.0\" y1=\"74.6\" x2=\"400.0\" y2=\"40.0\" opacity=\"1.0\" stroke=\"rgb(0,0,0)\" stroke-width=\"2.0\" />\n",
       "<line x1=\"410.8\" y1=\"73.0\" x2=\"396.8\" y2=\"48.8\" opacity=\"1.0\" stroke=\"rgb(0,0,0)\" stroke-width=\"2.0\" />\n",
       "<line x1=\"400.0\" y1=\"40.0\" x2=\"360.0\" y2=\"40.0\" opacity=\"1.0\" stroke=\"rgb(0,0,0)\" stroke-width=\"2.0\" />\n",
       "<line x1=\"360.0\" y1=\"40.0\" x2=\"340.0\" y2=\"74.6\" opacity=\"1.0\" stroke=\"rgb(0,0,0)\" stroke-width=\"2.0\" />\n",
       "<line x1=\"363.2\" y1=\"48.8\" x2=\"349.2\" y2=\"73.0\" opacity=\"1.0\" stroke=\"rgb(0,0,0)\" stroke-width=\"2.0\" />\n",
       "<line x1=\"140.0\" y1=\"213.2\" x2=\"160.0\" y2=\"178.6\" opacity=\"1.0\" stroke=\"rgb(0,0,0)\" stroke-width=\"2.0\" />\n",
       "<line x1=\"160.0\" y1=\"178.6\" x2=\"140.0\" y2=\"143.9\" opacity=\"1.0\" stroke=\"rgb(0,0,0)\" stroke-width=\"2.0\" />\n",
       "<line x1=\"150.8\" y1=\"177.0\" x2=\"136.8\" y2=\"152.7\" opacity=\"1.0\" stroke=\"rgb(0,0,0)\" stroke-width=\"2.0\" />\n",
       "<line x1=\"140.0\" y1=\"143.9\" x2=\"100.0\" y2=\"143.9\" opacity=\"1.0\" stroke=\"rgb(0,0,0)\" stroke-width=\"2.0\" />\n",
       "<line x1=\"100.0\" y1=\"143.9\" x2=\"80.0\" y2=\"178.6\" opacity=\"1.0\" stroke=\"rgb(0,0,0)\" stroke-width=\"2.0\" />\n",
       "<line x1=\"103.2\" y1=\"152.7\" x2=\"89.2\" y2=\"177.0\" opacity=\"1.0\" stroke=\"rgb(0,0,0)\" stroke-width=\"2.0\" />\n",
       "<line x1=\"80.0\" y1=\"178.6\" x2=\"100.0\" y2=\"213.2\" opacity=\"1.0\" stroke=\"rgb(0,0,0)\" stroke-width=\"2.0\" />\n",
       "<line x1=\"100.0\" y1=\"213.2\" x2=\"140.0\" y2=\"213.2\" opacity=\"1.0\" stroke=\"rgb(0,0,0)\" stroke-width=\"2.0\" />\n",
       "<line x1=\"106.0\" y1=\"206.0\" x2=\"134.0\" y2=\"206.0\" opacity=\"1.0\" stroke=\"rgb(0,0,0)\" stroke-width=\"2.0\" />\n",
       "<text x=\"22.000000\" y=\"186.564065\" fill=\"rgb(30,239,30)\" stroke-width=\"0\" font-weight=\"bold\" font-size=\"16\">Cl</text>\n",
       "<text x=\"214.000000\" y=\"151.923048\" fill=\"rgb(255,12,12)\" stroke-width=\"0\" font-weight=\"bold\" font-size=\"16\">O</text>\n",
       "<text x=\"290.641016\" y=\"121.205081\" fill=\"rgb(102,102,102)\" stroke-width=\"0\" font-weight=\"bold\" font-size=\"16\">CH</text>\n",
       "<text x=\"314.641016\" y=\"124.885081\" fill=\"rgb(102,102,102)\" stroke-width=\"0\" font-weight=\"bold\" font-size=\"13\">3</text>\n",
       "<text x=\"164.717968\" y=\"261.205081\" fill=\"rgb(102,102,102)\" stroke-width=\"0\" font-weight=\"bold\" font-size=\"16\">H</text>\n",
       "<text x=\"176.717968\" y=\"264.885081\" fill=\"rgb(102,102,102)\" stroke-width=\"0\" font-weight=\"bold\" font-size=\"13\">3</text>\n",
       "<text x=\"183.217968\" y=\"261.205081\" fill=\"rgb(102,102,102)\" stroke-width=\"0\" font-weight=\"bold\" font-size=\"16\">C</text>\n",
       "<text x=\"264.800000\" y=\"209.173081\" fill=\"rgb(12,12,255)\" stroke-width=\"0\" font-weight=\"bold\" font-size=\"16\">+</text>\n",
       "<text x=\"254.000000\" y=\"221.205081\" fill=\"rgb(12,12,255)\" stroke-width=\"0\" font-weight=\"bold\" font-size=\"16\">N</text>\n",
       "</svg>\n"
      ],
      "text/plain": [
       "<openbabel.pybel.Molecule at 0x7f98405dbbe0>"
      ]
     },
     "execution_count": 10,
     "metadata": {},
     "output_type": "execute_result"
    }
   ],
   "source": [
    "# create an openbabel molecular object\n",
    "obmol = pb.readstring('smiles', smiles1)\n",
    "obmol    renvoie  mf\n"
   ]
  },
  {
   "cell_type": "markdown",
   "metadata": {},
   "source": [
    "**Add Hydrogen atoms to our molecule for 3D**"
   ]
  },
  {
   "cell_type": "code",
   "execution_count": 14,
   "metadata": {},
   "outputs": [
    {
     "data": {
      "image/svg+xml": [
       "<svg xmlns=\"http://www.w3.org/2000/svg\" width=\"100\" height=\"100\" x=\"0\" y=\"0\" viewBox=\"0 0 500 391.769\" font-family=\"sans-serif\" stroke=\"rgb(0,0,0)\" stroke-width=\"2\" stroke-linecap=\"round\">\n",
       "<line x1=\"329.3\" y1=\"103.9\" x2=\"294.6\" y2=\"83.9\" opacity=\"1.0\" stroke=\"rgb(0,0,0)\" stroke-width=\"2.0\" />\n",
       "<line x1=\"294.6\" y1=\"83.9\" x2=\"260.0\" y2=\"103.9\" opacity=\"1.0\" stroke=\"rgb(0,0,0)\" stroke-width=\"2.0\" />\n",
       "<line x1=\"260.0\" y1=\"103.9\" x2=\"260.0\" y2=\"130.9\" opacity=\"1.0\" stroke=\"rgb(0,0,0)\" stroke-width=\"2.0\" />\n",
       "<line x1=\"273.0\" y1=\"143.9\" x2=\"300.0\" y2=\"143.9\" opacity=\"1.0\" stroke=\"rgb(0,0,0)\" stroke-width=\"2.0\" />\n",
       "<line x1=\"300.0\" y1=\"143.9\" x2=\"320.0\" y2=\"178.6\" opacity=\"1.0\" stroke=\"rgb(0,0,0)\" stroke-width=\"2.0\" />\n",
       "<line x1=\"320.0\" y1=\"178.6\" x2=\"340.0\" y2=\"213.2\" opacity=\"1.0\" stroke=\"rgb(0,0,0)\" stroke-width=\"2.0\" />\n",
       "<line x1=\"323.6\" y1=\"176.5\" x2=\"343.6\" y2=\"211.1\" opacity=\"1.0\" stroke=\"rgb(0,0,0)\" stroke-width=\"2.0\" />\n",
       "<line x1=\"316.4\" y1=\"180.7\" x2=\"336.4\" y2=\"215.3\" opacity=\"1.0\" stroke=\"rgb(0,0,0)\" stroke-width=\"2.0\" />\n",
       "<line x1=\"340.0\" y1=\"213.2\" x2=\"360.0\" y2=\"247.8\" opacity=\"1.0\" stroke=\"rgb(0,0,0)\" stroke-width=\"2.0\" />\n",
       "<line x1=\"260.0\" y1=\"156.9\" x2=\"260.0\" y2=\"183.9\" opacity=\"1.0\" stroke=\"rgb(0,0,0)\" stroke-width=\"2.0\" />\n",
       "<line x1=\"260.0\" y1=\"183.9\" x2=\"225.4\" y2=\"203.9\" opacity=\"1.0\" stroke=\"rgb(0,0,0)\" stroke-width=\"2.0\" />\n",
       "<line x1=\"225.4\" y1=\"203.9\" x2=\"225.4\" y2=\"243.9\" opacity=\"1.0\" stroke=\"rgb(0,0,0)\" stroke-width=\"2.0\" />\n",
       "<line x1=\"247.0\" y1=\"143.9\" x2=\"220.0\" y2=\"143.9\" opacity=\"1.0\" stroke=\"rgb(0,0,0)\" stroke-width=\"2.0\" />\n",
       "<line x1=\"220.0\" y1=\"143.9\" x2=\"200.0\" y2=\"109.3\" opacity=\"1.0\" stroke=\"rgb(0,0,0)\" stroke-width=\"2.0\" />\n",
       "<line x1=\"197.4\" y1=\"107.8\" x2=\"210.9\" y2=\"84.4\" opacity=\"1.0\" stroke=\"rgb(0,0,0)\" stroke-width=\"2.0\" />\n",
       "<line x1=\"202.6\" y1=\"110.8\" x2=\"216.1\" y2=\"87.4\" opacity=\"1.0\" stroke=\"rgb(0,0,0)\" stroke-width=\"2.0\" />\n",
       "<line x1=\"200.0\" y1=\"109.3\" x2=\"160.0\" y2=\"109.3\" opacity=\"1.0\" stroke=\"rgb(0,0,0)\" stroke-width=\"2.0\" />\n",
       "<line x1=\"80.0\" y1=\"109.3\" x2=\"53.0\" y2=\"109.3\" opacity=\"1.0\" stroke=\"rgb(0,0,0)\" stroke-width=\"2.0\" />\n",
       "<line x1=\"329.3\" y1=\"103.9\" x2=\"356.3\" y2=\"103.9\" opacity=\"1.0\" stroke=\"rgb(0,0,0)\" stroke-width=\"2.0\" />\n",
       "<line x1=\"329.3\" y1=\"103.9\" x2=\"342.8\" y2=\"80.5\" opacity=\"1.0\" stroke=\"rgb(0,0,0)\" stroke-width=\"2.0\" />\n",
       "<line x1=\"329.3\" y1=\"103.9\" x2=\"329.3\" y2=\"130.9\" opacity=\"1.0\" stroke=\"rgb(0,0,0)\" stroke-width=\"2.0\" />\n",
       "<line x1=\"294.6\" y1=\"83.9\" x2=\"281.1\" y2=\"60.5\" opacity=\"1.0\" stroke=\"rgb(0,0,0)\" stroke-width=\"2.0\" />\n",
       "<line x1=\"294.6\" y1=\"83.9\" x2=\"308.1\" y2=\"60.5\" opacity=\"1.0\" stroke=\"rgb(0,0,0)\" stroke-width=\"2.0\" />\n",
       "<line x1=\"260.0\" y1=\"103.9\" x2=\"233.0\" y2=\"103.9\" opacity=\"1.0\" stroke=\"rgb(0,0,0)\" stroke-width=\"2.0\" />\n",
       "<line x1=\"260.0\" y1=\"103.9\" x2=\"246.5\" y2=\"80.5\" opacity=\"1.0\" stroke=\"rgb(0,0,0)\" stroke-width=\"2.0\" />\n",
       "<line x1=\"300.0\" y1=\"143.9\" x2=\"323.4\" y2=\"130.4\" opacity=\"1.0\" stroke=\"rgb(0,0,0)\" stroke-width=\"2.0\" />\n",
       "<line x1=\"300.0\" y1=\"143.9\" x2=\"300.0\" y2=\"116.9\" opacity=\"1.0\" stroke=\"rgb(0,0,0)\" stroke-width=\"2.0\" />\n",
       "<line x1=\"400.0\" y1=\"247.8\" x2=\"413.5\" y2=\"224.5\" opacity=\"1.0\" stroke=\"rgb(0,0,0)\" stroke-width=\"2.0\" />\n",
       "<line x1=\"420.0\" y1=\"282.5\" x2=\"447.0\" y2=\"282.5\" opacity=\"1.0\" stroke=\"rgb(0,0,0)\" stroke-width=\"2.0\" />\n",
       "<line x1=\"400.0\" y1=\"317.1\" x2=\"413.5\" y2=\"340.5\" opacity=\"1.0\" stroke=\"rgb(0,0,0)\" stroke-width=\"2.0\" />\n",
       "<line x1=\"360.0\" y1=\"317.1\" x2=\"346.5\" y2=\"340.5\" opacity=\"1.0\" stroke=\"rgb(0,0,0)\" stroke-width=\"2.0\" />\n",
       "<line x1=\"340.0\" y1=\"282.5\" x2=\"313.0\" y2=\"282.5\" opacity=\"1.0\" stroke=\"rgb(0,0,0)\" stroke-width=\"2.0\" />\n",
       "<line x1=\"260.0\" y1=\"183.9\" x2=\"273.5\" y2=\"207.3\" opacity=\"1.0\" stroke=\"rgb(0,0,0)\" stroke-width=\"2.0\" />\n",
       "<line x1=\"260.0\" y1=\"183.9\" x2=\"287.0\" y2=\"183.9\" opacity=\"1.0\" stroke=\"rgb(0,0,0)\" stroke-width=\"2.0\" />\n",
       "<line x1=\"225.4\" y1=\"203.9\" x2=\"198.4\" y2=\"203.9\" opacity=\"1.0\" stroke=\"rgb(0,0,0)\" stroke-width=\"2.0\" />\n",
       "<line x1=\"225.4\" y1=\"203.9\" x2=\"211.9\" y2=\"180.5\" opacity=\"1.0\" stroke=\"rgb(0,0,0)\" stroke-width=\"2.0\" />\n",
       "<line x1=\"225.4\" y1=\"243.9\" x2=\"211.9\" y2=\"267.3\" opacity=\"1.0\" stroke=\"rgb(0,0,0)\" stroke-width=\"2.0\" />\n",
       "<line x1=\"225.4\" y1=\"243.9\" x2=\"198.4\" y2=\"243.9\" opacity=\"1.0\" stroke=\"rgb(0,0,0)\" stroke-width=\"2.0\" />\n",
       "<line x1=\"225.4\" y1=\"243.9\" x2=\"248.7\" y2=\"257.4\" opacity=\"1.0\" stroke=\"rgb(0,0,0)\" stroke-width=\"2.0\" />\n",
       "<line x1=\"220.0\" y1=\"143.9\" x2=\"196.6\" y2=\"157.4\" opacity=\"1.0\" stroke=\"rgb(0,0,0)\" stroke-width=\"2.0\" />\n",
       "<line x1=\"220.0\" y1=\"143.9\" x2=\"220.0\" y2=\"170.9\" opacity=\"1.0\" stroke=\"rgb(0,0,0)\" stroke-width=\"2.0\" />\n",
       "<line x1=\"140.0\" y1=\"143.9\" x2=\"153.5\" y2=\"167.3\" opacity=\"1.0\" stroke=\"rgb(0,0,0)\" stroke-width=\"2.0\" />\n",
       "<line x1=\"100.0\" y1=\"143.9\" x2=\"86.5\" y2=\"167.3\" opacity=\"1.0\" stroke=\"rgb(0,0,0)\" stroke-width=\"2.0\" />\n",
       "<line x1=\"100.0\" y1=\"74.6\" x2=\"86.5\" y2=\"51.3\" opacity=\"1.0\" stroke=\"rgb(0,0,0)\" stroke-width=\"2.0\" />\n",
       "<line x1=\"140.0\" y1=\"74.6\" x2=\"153.5\" y2=\"51.3\" opacity=\"1.0\" stroke=\"rgb(0,0,0)\" stroke-width=\"2.0\" />\n",
       "<line x1=\"400.0\" y1=\"247.8\" x2=\"360.0\" y2=\"247.8\" opacity=\"1.0\" stroke=\"rgb(0,0,0)\" stroke-width=\"2.0\" />\n",
       "<line x1=\"360.0\" y1=\"247.8\" x2=\"340.0\" y2=\"282.5\" opacity=\"1.0\" stroke=\"rgb(0,0,0)\" stroke-width=\"2.0\" />\n",
       "<line x1=\"363.2\" y1=\"256.6\" x2=\"349.2\" y2=\"280.9\" opacity=\"1.0\" stroke=\"rgb(0,0,0)\" stroke-width=\"2.0\" />\n",
       "<line x1=\"340.0\" y1=\"282.5\" x2=\"360.0\" y2=\"317.1\" opacity=\"1.0\" stroke=\"rgb(0,0,0)\" stroke-width=\"2.0\" />\n",
       "<line x1=\"360.0\" y1=\"317.1\" x2=\"400.0\" y2=\"317.1\" opacity=\"1.0\" stroke=\"rgb(0,0,0)\" stroke-width=\"2.0\" />\n",
       "<line x1=\"366.0\" y1=\"309.9\" x2=\"394.0\" y2=\"309.9\" opacity=\"1.0\" stroke=\"rgb(0,0,0)\" stroke-width=\"2.0\" />\n",
       "<line x1=\"400.0\" y1=\"317.1\" x2=\"420.0\" y2=\"282.5\" opacity=\"1.0\" stroke=\"rgb(0,0,0)\" stroke-width=\"2.0\" />\n",
       "<line x1=\"420.0\" y1=\"282.5\" x2=\"400.0\" y2=\"247.8\" opacity=\"1.0\" stroke=\"rgb(0,0,0)\" stroke-width=\"2.0\" />\n",
       "<line x1=\"410.8\" y1=\"280.9\" x2=\"396.8\" y2=\"256.6\" opacity=\"1.0\" stroke=\"rgb(0,0,0)\" stroke-width=\"2.0\" />\n",
       "<line x1=\"140.0\" y1=\"143.9\" x2=\"160.0\" y2=\"109.3\" opacity=\"1.0\" stroke=\"rgb(0,0,0)\" stroke-width=\"2.0\" />\n",
       "<line x1=\"160.0\" y1=\"109.3\" x2=\"140.0\" y2=\"74.6\" opacity=\"1.0\" stroke=\"rgb(0,0,0)\" stroke-width=\"2.0\" />\n",
       "<line x1=\"150.8\" y1=\"107.7\" x2=\"136.8\" y2=\"83.4\" opacity=\"1.0\" stroke=\"rgb(0,0,0)\" stroke-width=\"2.0\" />\n",
       "<line x1=\"140.0\" y1=\"74.6\" x2=\"100.0\" y2=\"74.6\" opacity=\"1.0\" stroke=\"rgb(0,0,0)\" stroke-width=\"2.0\" />\n",
       "<line x1=\"100.0\" y1=\"74.6\" x2=\"80.0\" y2=\"109.3\" opacity=\"1.0\" stroke=\"rgb(0,0,0)\" stroke-width=\"2.0\" />\n",
       "<line x1=\"103.2\" y1=\"83.4\" x2=\"89.2\" y2=\"107.7\" opacity=\"1.0\" stroke=\"rgb(0,0,0)\" stroke-width=\"2.0\" />\n",
       "<line x1=\"80.0\" y1=\"109.3\" x2=\"100.0\" y2=\"143.9\" opacity=\"1.0\" stroke=\"rgb(0,0,0)\" stroke-width=\"2.0\" />\n",
       "<line x1=\"100.0\" y1=\"143.9\" x2=\"140.0\" y2=\"143.9\" opacity=\"1.0\" stroke=\"rgb(0,0,0)\" stroke-width=\"2.0\" />\n",
       "<line x1=\"106.0\" y1=\"136.7\" x2=\"134.0\" y2=\"136.7\" opacity=\"1.0\" stroke=\"rgb(0,0,0)\" stroke-width=\"2.0\" />\n",
       "<text x=\"274.000000\" y=\"226.564065\" fill=\"rgb(191,191,191)\" stroke-width=\"0\" font-weight=\"bold\" font-size=\"16\">H</text>\n",
       "<text x=\"343.282032\" y=\"77.282032\" fill=\"rgb(191,191,191)\" stroke-width=\"0\" font-weight=\"bold\" font-size=\"16\">H</text>\n",
       "<text x=\"323.282032\" y=\"151.923048\" fill=\"rgb(191,191,191)\" stroke-width=\"0\" font-weight=\"bold\" font-size=\"16\">H</text>\n",
       "<text x=\"268.641016\" y=\"57.282032\" fill=\"rgb(191,191,191)\" stroke-width=\"0\" font-weight=\"bold\" font-size=\"16\">H</text>\n",
       "<text x=\"308.641016\" y=\"57.282032\" fill=\"rgb(191,191,191)\" stroke-width=\"0\" font-weight=\"bold\" font-size=\"16\">H</text>\n",
       "<text x=\"214.000000\" y=\"111.923048\" fill=\"rgb(191,191,191)\" stroke-width=\"0\" font-weight=\"bold\" font-size=\"16\">H</text>\n",
       "<text x=\"234.000000\" y=\"77.282032\" fill=\"rgb(191,191,191)\" stroke-width=\"0\" font-weight=\"bold\" font-size=\"16\">H</text>\n",
       "<text x=\"328.641016\" y=\"131.923048\" fill=\"rgb(191,191,191)\" stroke-width=\"0\" font-weight=\"bold\" font-size=\"16\">H</text>\n",
       "<text x=\"294.000000\" y=\"111.923048\" fill=\"rgb(191,191,191)\" stroke-width=\"0\" font-weight=\"bold\" font-size=\"16\">H</text>\n",
       "<text x=\"414.000000\" y=\"221.205081\" fill=\"rgb(191,191,191)\" stroke-width=\"0\" font-weight=\"bold\" font-size=\"16\">H</text>\n",
       "<text x=\"454.000000\" y=\"290.487113\" fill=\"rgb(191,191,191)\" stroke-width=\"0\" font-weight=\"bold\" font-size=\"16\">H</text>\n",
       "<text x=\"414.000000\" y=\"359.769145\" fill=\"rgb(191,191,191)\" stroke-width=\"0\" font-weight=\"bold\" font-size=\"16\">H</text>\n",
       "<text x=\"334.000000\" y=\"359.769145\" fill=\"rgb(191,191,191)\" stroke-width=\"0\" font-weight=\"bold\" font-size=\"16\">H</text>\n",
       "<text x=\"294.000000\" y=\"290.487113\" fill=\"rgb(191,191,191)\" stroke-width=\"0\" font-weight=\"bold\" font-size=\"16\">H</text>\n",
       "<text x=\"363.282032\" y=\"111.923048\" fill=\"rgb(191,191,191)\" stroke-width=\"0\" font-weight=\"bold\" font-size=\"16\">H</text>\n",
       "<text x=\"294.000000\" y=\"191.923048\" fill=\"rgb(191,191,191)\" stroke-width=\"0\" font-weight=\"bold\" font-size=\"16\">H</text>\n",
       "<text x=\"179.358984\" y=\"211.923048\" fill=\"rgb(191,191,191)\" stroke-width=\"0\" font-weight=\"bold\" font-size=\"16\">H</text>\n",
       "<text x=\"199.358984\" y=\"177.282032\" fill=\"rgb(191,191,191)\" stroke-width=\"0\" font-weight=\"bold\" font-size=\"16\">H</text>\n",
       "<text x=\"199.358984\" y=\"286.564065\" fill=\"rgb(191,191,191)\" stroke-width=\"0\" font-weight=\"bold\" font-size=\"16\">H</text>\n",
       "<text x=\"179.358984\" y=\"251.923048\" fill=\"rgb(191,191,191)\" stroke-width=\"0\" font-weight=\"bold\" font-size=\"16\">H</text>\n",
       "<text x=\"254.000000\" y=\"271.923048\" fill=\"rgb(191,191,191)\" stroke-width=\"0\" font-weight=\"bold\" font-size=\"16\">H</text>\n",
       "<text x=\"179.358984\" y=\"171.923048\" fill=\"rgb(191,191,191)\" stroke-width=\"0\" font-weight=\"bold\" font-size=\"16\">H</text>\n",
       "<text x=\"214.000000\" y=\"191.923048\" fill=\"rgb(191,191,191)\" stroke-width=\"0\" font-weight=\"bold\" font-size=\"16\">H</text>\n",
       "<text x=\"154.000000\" y=\"186.564065\" fill=\"rgb(191,191,191)\" stroke-width=\"0\" font-weight=\"bold\" font-size=\"16\">H</text>\n",
       "<text x=\"74.000000\" y=\"186.564065\" fill=\"rgb(191,191,191)\" stroke-width=\"0\" font-weight=\"bold\" font-size=\"16\">H</text>\n",
       "<text x=\"74.000000\" y=\"48.000000\" fill=\"rgb(191,191,191)\" stroke-width=\"0\" font-weight=\"bold\" font-size=\"16\">H</text>\n",
       "<text x=\"154.000000\" y=\"48.000000\" fill=\"rgb(191,191,191)\" stroke-width=\"0\" font-weight=\"bold\" font-size=\"16\">H</text>\n",
       "<text x=\"264.800000\" y=\"139.891048\" fill=\"rgb(12,12,255)\" stroke-width=\"0\" font-weight=\"bold\" font-size=\"16\">+</text>\n",
       "<text x=\"254.000000\" y=\"151.923048\" fill=\"rgb(12,12,255)\" stroke-width=\"0\" font-weight=\"bold\" font-size=\"16\">N</text>\n",
       "<text x=\"214.000000\" y=\"82.641016\" fill=\"rgb(255,12,12)\" stroke-width=\"0\" font-weight=\"bold\" font-size=\"16\">O</text>\n",
       "<text x=\"22.000000\" y=\"117.282032\" fill=\"rgb(30,239,30)\" stroke-width=\"0\" font-weight=\"bold\" font-size=\"16\">Cl</text>\n",
       "</svg>\n"
      ],
      "text/plain": [
       "<openbabel.pybel.Molecule at 0x7faf0c2c4670>"
      ]
     },
     "execution_count": 14,
     "metadata": {},
     "output_type": "execute_result"
    }
   ],
   "source": [
    "# add Hs to our Molecule\n",
    "obmol.addh()\n",
    "obmol"
   ]
  },
  {
   "cell_type": "markdown",
   "metadata": {},
   "source": [
    "**Generate 3D Structure-Coordinates of every atoms in the molecule**"
   ]
  },
  {
   "cell_type": "code",
   "execution_count": 15,
   "metadata": {},
   "outputs": [
    {
     "data": {
      "image/svg+xml": [
       "<svg xmlns=\"http://www.w3.org/2000/svg\" width=\"100\" height=\"100\" x=\"0\" y=\"0\" viewBox=\"0 0 500 391.769\" font-family=\"sans-serif\" stroke=\"rgb(0,0,0)\" stroke-width=\"2\" stroke-linecap=\"round\">\n",
       "<line x1=\"329.3\" y1=\"103.9\" x2=\"294.6\" y2=\"83.9\" opacity=\"1.0\" stroke=\"rgb(0,0,0)\" stroke-width=\"2.0\" />\n",
       "<line x1=\"294.6\" y1=\"83.9\" x2=\"260.0\" y2=\"103.9\" opacity=\"1.0\" stroke=\"rgb(0,0,0)\" stroke-width=\"2.0\" />\n",
       "<line x1=\"260.0\" y1=\"103.9\" x2=\"260.0\" y2=\"130.9\" opacity=\"1.0\" stroke=\"rgb(0,0,0)\" stroke-width=\"2.0\" />\n",
       "<line x1=\"273.0\" y1=\"143.9\" x2=\"300.0\" y2=\"143.9\" opacity=\"1.0\" stroke=\"rgb(0,0,0)\" stroke-width=\"2.0\" />\n",
       "<line x1=\"300.0\" y1=\"143.9\" x2=\"320.0\" y2=\"178.6\" opacity=\"1.0\" stroke=\"rgb(0,0,0)\" stroke-width=\"2.0\" />\n",
       "<line x1=\"320.0\" y1=\"178.6\" x2=\"340.0\" y2=\"213.2\" opacity=\"1.0\" stroke=\"rgb(0,0,0)\" stroke-width=\"2.0\" />\n",
       "<line x1=\"323.6\" y1=\"176.5\" x2=\"343.6\" y2=\"211.1\" opacity=\"1.0\" stroke=\"rgb(0,0,0)\" stroke-width=\"2.0\" />\n",
       "<line x1=\"316.4\" y1=\"180.7\" x2=\"336.4\" y2=\"215.3\" opacity=\"1.0\" stroke=\"rgb(0,0,0)\" stroke-width=\"2.0\" />\n",
       "<line x1=\"340.0\" y1=\"213.2\" x2=\"360.0\" y2=\"247.8\" opacity=\"1.0\" stroke=\"rgb(0,0,0)\" stroke-width=\"2.0\" />\n",
       "<line x1=\"260.0\" y1=\"156.9\" x2=\"260.0\" y2=\"183.9\" opacity=\"1.0\" stroke=\"rgb(0,0,0)\" stroke-width=\"2.0\" />\n",
       "<line x1=\"260.0\" y1=\"183.9\" x2=\"225.4\" y2=\"203.9\" opacity=\"1.0\" stroke=\"rgb(0,0,0)\" stroke-width=\"2.0\" />\n",
       "<line x1=\"225.4\" y1=\"203.9\" x2=\"225.4\" y2=\"243.9\" opacity=\"1.0\" stroke=\"rgb(0,0,0)\" stroke-width=\"2.0\" />\n",
       "<line x1=\"247.0\" y1=\"143.9\" x2=\"220.0\" y2=\"143.9\" opacity=\"1.0\" stroke=\"rgb(0,0,0)\" stroke-width=\"2.0\" />\n",
       "<line x1=\"220.0\" y1=\"143.9\" x2=\"200.0\" y2=\"109.3\" opacity=\"1.0\" stroke=\"rgb(0,0,0)\" stroke-width=\"2.0\" />\n",
       "<line x1=\"197.4\" y1=\"107.8\" x2=\"210.9\" y2=\"84.4\" opacity=\"1.0\" stroke=\"rgb(0,0,0)\" stroke-width=\"2.0\" />\n",
       "<line x1=\"202.6\" y1=\"110.8\" x2=\"216.1\" y2=\"87.4\" opacity=\"1.0\" stroke=\"rgb(0,0,0)\" stroke-width=\"2.0\" />\n",
       "<line x1=\"200.0\" y1=\"109.3\" x2=\"160.0\" y2=\"109.3\" opacity=\"1.0\" stroke=\"rgb(0,0,0)\" stroke-width=\"2.0\" />\n",
       "<line x1=\"80.0\" y1=\"109.3\" x2=\"53.0\" y2=\"109.3\" opacity=\"1.0\" stroke=\"rgb(0,0,0)\" stroke-width=\"2.0\" />\n",
       "<line x1=\"329.3\" y1=\"103.9\" x2=\"356.3\" y2=\"103.9\" opacity=\"1.0\" stroke=\"rgb(0,0,0)\" stroke-width=\"2.0\" />\n",
       "<line x1=\"329.3\" y1=\"103.9\" x2=\"342.8\" y2=\"80.5\" opacity=\"1.0\" stroke=\"rgb(0,0,0)\" stroke-width=\"2.0\" />\n",
       "<line x1=\"329.3\" y1=\"103.9\" x2=\"329.3\" y2=\"130.9\" opacity=\"1.0\" stroke=\"rgb(0,0,0)\" stroke-width=\"2.0\" />\n",
       "<line x1=\"294.6\" y1=\"83.9\" x2=\"281.1\" y2=\"60.5\" opacity=\"1.0\" stroke=\"rgb(0,0,0)\" stroke-width=\"2.0\" />\n",
       "<line x1=\"294.6\" y1=\"83.9\" x2=\"308.1\" y2=\"60.5\" opacity=\"1.0\" stroke=\"rgb(0,0,0)\" stroke-width=\"2.0\" />\n",
       "<line x1=\"260.0\" y1=\"103.9\" x2=\"233.0\" y2=\"103.9\" opacity=\"1.0\" stroke=\"rgb(0,0,0)\" stroke-width=\"2.0\" />\n",
       "<line x1=\"260.0\" y1=\"103.9\" x2=\"246.5\" y2=\"80.5\" opacity=\"1.0\" stroke=\"rgb(0,0,0)\" stroke-width=\"2.0\" />\n",
       "<line x1=\"300.0\" y1=\"143.9\" x2=\"323.4\" y2=\"130.4\" opacity=\"1.0\" stroke=\"rgb(0,0,0)\" stroke-width=\"2.0\" />\n",
       "<line x1=\"300.0\" y1=\"143.9\" x2=\"300.0\" y2=\"116.9\" opacity=\"1.0\" stroke=\"rgb(0,0,0)\" stroke-width=\"2.0\" />\n",
       "<line x1=\"400.0\" y1=\"247.8\" x2=\"413.5\" y2=\"224.5\" opacity=\"1.0\" stroke=\"rgb(0,0,0)\" stroke-width=\"2.0\" />\n",
       "<line x1=\"420.0\" y1=\"282.5\" x2=\"447.0\" y2=\"282.5\" opacity=\"1.0\" stroke=\"rgb(0,0,0)\" stroke-width=\"2.0\" />\n",
       "<line x1=\"400.0\" y1=\"317.1\" x2=\"413.5\" y2=\"340.5\" opacity=\"1.0\" stroke=\"rgb(0,0,0)\" stroke-width=\"2.0\" />\n",
       "<line x1=\"360.0\" y1=\"317.1\" x2=\"346.5\" y2=\"340.5\" opacity=\"1.0\" stroke=\"rgb(0,0,0)\" stroke-width=\"2.0\" />\n",
       "<line x1=\"340.0\" y1=\"282.5\" x2=\"313.0\" y2=\"282.5\" opacity=\"1.0\" stroke=\"rgb(0,0,0)\" stroke-width=\"2.0\" />\n",
       "<line x1=\"260.0\" y1=\"183.9\" x2=\"273.5\" y2=\"207.3\" opacity=\"1.0\" stroke=\"rgb(0,0,0)\" stroke-width=\"2.0\" />\n",
       "<line x1=\"260.0\" y1=\"183.9\" x2=\"287.0\" y2=\"183.9\" opacity=\"1.0\" stroke=\"rgb(0,0,0)\" stroke-width=\"2.0\" />\n",
       "<line x1=\"225.4\" y1=\"203.9\" x2=\"198.4\" y2=\"203.9\" opacity=\"1.0\" stroke=\"rgb(0,0,0)\" stroke-width=\"2.0\" />\n",
       "<line x1=\"225.4\" y1=\"203.9\" x2=\"211.9\" y2=\"180.5\" opacity=\"1.0\" stroke=\"rgb(0,0,0)\" stroke-width=\"2.0\" />\n",
       "<line x1=\"225.4\" y1=\"243.9\" x2=\"211.9\" y2=\"267.3\" opacity=\"1.0\" stroke=\"rgb(0,0,0)\" stroke-width=\"2.0\" />\n",
       "<line x1=\"225.4\" y1=\"243.9\" x2=\"198.4\" y2=\"243.9\" opacity=\"1.0\" stroke=\"rgb(0,0,0)\" stroke-width=\"2.0\" />\n",
       "<line x1=\"225.4\" y1=\"243.9\" x2=\"248.7\" y2=\"257.4\" opacity=\"1.0\" stroke=\"rgb(0,0,0)\" stroke-width=\"2.0\" />\n",
       "<line x1=\"220.0\" y1=\"143.9\" x2=\"196.6\" y2=\"157.4\" opacity=\"1.0\" stroke=\"rgb(0,0,0)\" stroke-width=\"2.0\" />\n",
       "<line x1=\"220.0\" y1=\"143.9\" x2=\"220.0\" y2=\"170.9\" opacity=\"1.0\" stroke=\"rgb(0,0,0)\" stroke-width=\"2.0\" />\n",
       "<line x1=\"140.0\" y1=\"143.9\" x2=\"153.5\" y2=\"167.3\" opacity=\"1.0\" stroke=\"rgb(0,0,0)\" stroke-width=\"2.0\" />\n",
       "<line x1=\"100.0\" y1=\"143.9\" x2=\"86.5\" y2=\"167.3\" opacity=\"1.0\" stroke=\"rgb(0,0,0)\" stroke-width=\"2.0\" />\n",
       "<line x1=\"100.0\" y1=\"74.6\" x2=\"86.5\" y2=\"51.3\" opacity=\"1.0\" stroke=\"rgb(0,0,0)\" stroke-width=\"2.0\" />\n",
       "<line x1=\"140.0\" y1=\"74.6\" x2=\"153.5\" y2=\"51.3\" opacity=\"1.0\" stroke=\"rgb(0,0,0)\" stroke-width=\"2.0\" />\n",
       "<line x1=\"400.0\" y1=\"247.8\" x2=\"360.0\" y2=\"247.8\" opacity=\"1.0\" stroke=\"rgb(0,0,0)\" stroke-width=\"2.0\" />\n",
       "<line x1=\"360.0\" y1=\"247.8\" x2=\"340.0\" y2=\"282.5\" opacity=\"1.0\" stroke=\"rgb(0,0,0)\" stroke-width=\"2.0\" />\n",
       "<line x1=\"363.2\" y1=\"256.6\" x2=\"349.2\" y2=\"280.9\" opacity=\"1.0\" stroke=\"rgb(0,0,0)\" stroke-width=\"2.0\" />\n",
       "<line x1=\"340.0\" y1=\"282.5\" x2=\"360.0\" y2=\"317.1\" opacity=\"1.0\" stroke=\"rgb(0,0,0)\" stroke-width=\"2.0\" />\n",
       "<line x1=\"360.0\" y1=\"317.1\" x2=\"400.0\" y2=\"317.1\" opacity=\"1.0\" stroke=\"rgb(0,0,0)\" stroke-width=\"2.0\" />\n",
       "<line x1=\"366.0\" y1=\"309.9\" x2=\"394.0\" y2=\"309.9\" opacity=\"1.0\" stroke=\"rgb(0,0,0)\" stroke-width=\"2.0\" />\n",
       "<line x1=\"400.0\" y1=\"317.1\" x2=\"420.0\" y2=\"282.5\" opacity=\"1.0\" stroke=\"rgb(0,0,0)\" stroke-width=\"2.0\" />\n",
       "<line x1=\"420.0\" y1=\"282.5\" x2=\"400.0\" y2=\"247.8\" opacity=\"1.0\" stroke=\"rgb(0,0,0)\" stroke-width=\"2.0\" />\n",
       "<line x1=\"410.8\" y1=\"280.9\" x2=\"396.8\" y2=\"256.6\" opacity=\"1.0\" stroke=\"rgb(0,0,0)\" stroke-width=\"2.0\" />\n",
       "<line x1=\"140.0\" y1=\"143.9\" x2=\"160.0\" y2=\"109.3\" opacity=\"1.0\" stroke=\"rgb(0,0,0)\" stroke-width=\"2.0\" />\n",
       "<line x1=\"160.0\" y1=\"109.3\" x2=\"140.0\" y2=\"74.6\" opacity=\"1.0\" stroke=\"rgb(0,0,0)\" stroke-width=\"2.0\" />\n",
       "<line x1=\"150.8\" y1=\"107.7\" x2=\"136.8\" y2=\"83.4\" opacity=\"1.0\" stroke=\"rgb(0,0,0)\" stroke-width=\"2.0\" />\n",
       "<line x1=\"140.0\" y1=\"74.6\" x2=\"100.0\" y2=\"74.6\" opacity=\"1.0\" stroke=\"rgb(0,0,0)\" stroke-width=\"2.0\" />\n",
       "<line x1=\"100.0\" y1=\"74.6\" x2=\"80.0\" y2=\"109.3\" opacity=\"1.0\" stroke=\"rgb(0,0,0)\" stroke-width=\"2.0\" />\n",
       "<line x1=\"103.2\" y1=\"83.4\" x2=\"89.2\" y2=\"107.7\" opacity=\"1.0\" stroke=\"rgb(0,0,0)\" stroke-width=\"2.0\" />\n",
       "<line x1=\"80.0\" y1=\"109.3\" x2=\"100.0\" y2=\"143.9\" opacity=\"1.0\" stroke=\"rgb(0,0,0)\" stroke-width=\"2.0\" />\n",
       "<line x1=\"100.0\" y1=\"143.9\" x2=\"140.0\" y2=\"143.9\" opacity=\"1.0\" stroke=\"rgb(0,0,0)\" stroke-width=\"2.0\" />\n",
       "<line x1=\"106.0\" y1=\"136.7\" x2=\"134.0\" y2=\"136.7\" opacity=\"1.0\" stroke=\"rgb(0,0,0)\" stroke-width=\"2.0\" />\n",
       "<text x=\"274.000000\" y=\"226.564065\" fill=\"rgb(191,191,191)\" stroke-width=\"0\" font-weight=\"bold\" font-size=\"16\">H</text>\n",
       "<text x=\"343.282032\" y=\"77.282032\" fill=\"rgb(191,191,191)\" stroke-width=\"0\" font-weight=\"bold\" font-size=\"16\">H</text>\n",
       "<text x=\"323.282032\" y=\"151.923048\" fill=\"rgb(191,191,191)\" stroke-width=\"0\" font-weight=\"bold\" font-size=\"16\">H</text>\n",
       "<text x=\"268.641016\" y=\"57.282032\" fill=\"rgb(191,191,191)\" stroke-width=\"0\" font-weight=\"bold\" font-size=\"16\">H</text>\n",
       "<text x=\"308.641016\" y=\"57.282032\" fill=\"rgb(191,191,191)\" stroke-width=\"0\" font-weight=\"bold\" font-size=\"16\">H</text>\n",
       "<text x=\"214.000000\" y=\"111.923048\" fill=\"rgb(191,191,191)\" stroke-width=\"0\" font-weight=\"bold\" font-size=\"16\">H</text>\n",
       "<text x=\"234.000000\" y=\"77.282032\" fill=\"rgb(191,191,191)\" stroke-width=\"0\" font-weight=\"bold\" font-size=\"16\">H</text>\n",
       "<text x=\"328.641016\" y=\"131.923048\" fill=\"rgb(191,191,191)\" stroke-width=\"0\" font-weight=\"bold\" font-size=\"16\">H</text>\n",
       "<text x=\"294.000000\" y=\"111.923048\" fill=\"rgb(191,191,191)\" stroke-width=\"0\" font-weight=\"bold\" font-size=\"16\">H</text>\n",
       "<text x=\"414.000000\" y=\"221.205081\" fill=\"rgb(191,191,191)\" stroke-width=\"0\" font-weight=\"bold\" font-size=\"16\">H</text>\n",
       "<text x=\"454.000000\" y=\"290.487113\" fill=\"rgb(191,191,191)\" stroke-width=\"0\" font-weight=\"bold\" font-size=\"16\">H</text>\n",
       "<text x=\"414.000000\" y=\"359.769145\" fill=\"rgb(191,191,191)\" stroke-width=\"0\" font-weight=\"bold\" font-size=\"16\">H</text>\n",
       "<text x=\"334.000000\" y=\"359.769145\" fill=\"rgb(191,191,191)\" stroke-width=\"0\" font-weight=\"bold\" font-size=\"16\">H</text>\n",
       "<text x=\"294.000000\" y=\"290.487113\" fill=\"rgb(191,191,191)\" stroke-width=\"0\" font-weight=\"bold\" font-size=\"16\">H</text>\n",
       "<text x=\"363.282032\" y=\"111.923048\" fill=\"rgb(191,191,191)\" stroke-width=\"0\" font-weight=\"bold\" font-size=\"16\">H</text>\n",
       "<text x=\"294.000000\" y=\"191.923048\" fill=\"rgb(191,191,191)\" stroke-width=\"0\" font-weight=\"bold\" font-size=\"16\">H</text>\n",
       "<text x=\"179.358984\" y=\"211.923048\" fill=\"rgb(191,191,191)\" stroke-width=\"0\" font-weight=\"bold\" font-size=\"16\">H</text>\n",
       "<text x=\"199.358984\" y=\"177.282032\" fill=\"rgb(191,191,191)\" stroke-width=\"0\" font-weight=\"bold\" font-size=\"16\">H</text>\n",
       "<text x=\"199.358984\" y=\"286.564065\" fill=\"rgb(191,191,191)\" stroke-width=\"0\" font-weight=\"bold\" font-size=\"16\">H</text>\n",
       "<text x=\"179.358984\" y=\"251.923048\" fill=\"rgb(191,191,191)\" stroke-width=\"0\" font-weight=\"bold\" font-size=\"16\">H</text>\n",
       "<text x=\"254.000000\" y=\"271.923048\" fill=\"rgb(191,191,191)\" stroke-width=\"0\" font-weight=\"bold\" font-size=\"16\">H</text>\n",
       "<text x=\"179.358984\" y=\"171.923048\" fill=\"rgb(191,191,191)\" stroke-width=\"0\" font-weight=\"bold\" font-size=\"16\">H</text>\n",
       "<text x=\"214.000000\" y=\"191.923048\" fill=\"rgb(191,191,191)\" stroke-width=\"0\" font-weight=\"bold\" font-size=\"16\">H</text>\n",
       "<text x=\"154.000000\" y=\"186.564065\" fill=\"rgb(191,191,191)\" stroke-width=\"0\" font-weight=\"bold\" font-size=\"16\">H</text>\n",
       "<text x=\"74.000000\" y=\"186.564065\" fill=\"rgb(191,191,191)\" stroke-width=\"0\" font-weight=\"bold\" font-size=\"16\">H</text>\n",
       "<text x=\"74.000000\" y=\"48.000000\" fill=\"rgb(191,191,191)\" stroke-width=\"0\" font-weight=\"bold\" font-size=\"16\">H</text>\n",
       "<text x=\"154.000000\" y=\"48.000000\" fill=\"rgb(191,191,191)\" stroke-width=\"0\" font-weight=\"bold\" font-size=\"16\">H</text>\n",
       "<text x=\"264.800000\" y=\"139.891048\" fill=\"rgb(12,12,255)\" stroke-width=\"0\" font-weight=\"bold\" font-size=\"16\">+</text>\n",
       "<text x=\"254.000000\" y=\"151.923048\" fill=\"rgb(12,12,255)\" stroke-width=\"0\" font-weight=\"bold\" font-size=\"16\">N</text>\n",
       "<text x=\"214.000000\" y=\"82.641016\" fill=\"rgb(255,12,12)\" stroke-width=\"0\" font-weight=\"bold\" font-size=\"16\">O</text>\n",
       "<text x=\"22.000000\" y=\"117.282032\" fill=\"rgb(30,239,30)\" stroke-width=\"0\" font-weight=\"bold\" font-size=\"16\">Cl</text>\n",
       "</svg>\n"
      ],
      "text/plain": [
       "<openbabel.pybel.Molecule at 0x7faf0c2c4670>"
      ]
     },
     "execution_count": 15,
     "metadata": {},
     "output_type": "execute_result"
    }
   ],
   "source": [
    "# generate 3D structure \n",
    "obmol.make3D()\n",
    "obmol"
   ]
  },
  {
   "cell_type": "code",
   "execution_count": 11,
   "metadata": {},
   "outputs": [
    {
     "name": "stdout",
     "output_type": "stream",
     "text": [
      "[6, 6, 6, 7, 6, 6, 6, 6, 6, 6, 6, 6, 6, 6, 6, 6, 6, 6, 8, 6, 6, 6, 6, 17, 6, 6]\n",
      "[[0.0, 0.0, 0.0], [0.0, 0.0, 0.0], [0.0, 0.0, 0.0], [0.0, 0.0, 0.0], [0.0, 0.0, 0.0], [0.0, 0.0, 0.0], [0.0, 0.0, 0.0], [0.0, 0.0, 0.0], [0.0, 0.0, 0.0], [0.0, 0.0, 0.0], [0.0, 0.0, 0.0], [0.0, 0.0, 0.0], [0.0, 0.0, 0.0], [0.0, 0.0, 0.0], [0.0, 0.0, 0.0], [0.0, 0.0, 0.0], [0.0, 0.0, 0.0], [0.0, 0.0, 0.0], [0.0, 0.0, 0.0], [0.0, 0.0, 0.0], [0.0, 0.0, 0.0], [0.0, 0.0, 0.0], [0.0, 0.0, 0.0], [0.0, 0.0, 0.0], [0.0, 0.0, 0.0], [0.0, 0.0, 0.0]]\n"
     ]
    }
   ],
   "source": [
    "ob_mol = obmol.OBMol\n",
    "sp = []\n",
    "coords = []\n",
    "for atom in ob.OBMolAtomIter(ob_mol):\n",
    "    sp.append(atom.GetAtomicNum())\n",
    "    coords.append([atom.GetX(), atom.GetY(), atom.GetZ()])\n",
    "\n",
    "print(sp)\n",
    "print(coords)"
   ]
  },
  {
   "cell_type": "code",
   "execution_count": 12,
   "metadata": {},
   "outputs": [
    {
     "data": {
      "text/plain": [
       "26"
      ]
     },
     "execution_count": 12,
     "metadata": {},
     "output_type": "execute_result"
    }
   ],
   "source": [
    "ob_mol.NumAtoms()"
   ]
  },
  {
   "cell_type": "markdown",
   "metadata": {},
   "source": [
    "### **Using `RDKit`**"
   ]
  },
  {
   "cell_type": "code",
   "execution_count": 1,
   "metadata": {},
   "outputs": [],
   "source": [
    "# import libraries\n",
    "from rdkit.Chem import AllChem\n",
    "from rdkit import Chem"
   ]
  },
  {
   "cell_type": "markdown",
   "metadata": {},
   "source": [
    "**create `RDKit` molecular object**"
   ]
  },
  {
   "cell_type": "code",
   "execution_count": 14,
   "metadata": {},
   "outputs": [
    {
     "data": {
      "image/png": "[encoded data removed]",
      "text/plain": [
       "<rdkit.Chem.rdchem.Mol at 0x7f980ac35dd0>"
      ]
     },
     "execution_count": 14,
     "metadata": {},
     "output_type": "execute_result"
    }
   ],
   "source": [
    "rdmol = Chem.MolFromSmiles(smiles1)\n",
    "rdmol"
   ]
  },
  {
   "cell_type": "markdown",
   "metadata": {},
   "source": [
    "**Add explicit Hydrogen atoms to our molecule for 3D generation**"
   ]
  },
  {
   "cell_type": "code",
   "execution_count": 15,
   "metadata": {},
   "outputs": [
    {
     "data": {
      "image/png": "[encoded data removed]",
      "text/plain": [
       "<rdkit.Chem.rdchem.Mol at 0x7f980ac35c10>"
      ]
     },
     "execution_count": 15,
     "metadata": {},
     "output_type": "execute_result"
    }
   ],
   "source": [
    "rdmol = Chem.AddHs(rdmol)\n",
    "rdmol"
   ]
  },
  {
   "cell_type": "code",
   "execution_count": 16,
   "metadata": {},
   "outputs": [
    {
     "data": {
      "text/plain": [
       "53"
      ]
     },
     "execution_count": 16,
     "metadata": {},
     "output_type": "execute_result"
    }
   ],
   "source": [
    "# check the number of atoms in the molecule\n",
    "rdmol.GetNumAtoms()"
   ]
  },
  {
   "cell_type": "markdown",
   "metadata": {},
   "source": [
    "**Try to generate `conformers` and embed them to the 3D structure**"
   ]
  },
  {
   "cell_type": "code",
   "execution_count": 17,
   "metadata": {},
   "outputs": [
    {
     "data": {
      "image/png": "[encoded data removed]",
      "text/plain": [
       "<rdkit.Chem.rdchem.Mol at 0x7f980ac35c10>"
      ]
     },
     "execution_count": 17,
     "metadata": {},
     "output_type": "execute_result"
    }
   ],
   "source": [
    "confid = AllChem.EmbedMolecule(rdmol)\n",
    "rdmol"
   ]
  },
  {
   "cell_type": "code",
   "execution_count": 18,
   "metadata": {},
   "outputs": [
    {
     "data": {
      "text/plain": [
       "0"
      ]
     },
     "execution_count": 18,
     "metadata": {},
     "output_type": "execute_result"
    }
   ],
   "source": [
    "# returns the id of the generated conformer,\n",
    "# and -1 if no conformers were generated\n",
    "confid"
   ]
  },
  {
   "cell_type": "markdown",
   "metadata": {},
   "source": [
    "**Generate 3D atomic coordinates of the molecule**"
   ]
  },
  {
   "cell_type": "code",
   "execution_count": 19,
   "metadata": {},
   "outputs": [
    {
     "name": "stdout",
     "output_type": "stream",
     "text": [
      "C -1.028131340943831 -4.282208908827857 -1.0468566473063163\n",
      "C -1.876558689353685 -3.1692416350768453 -1.5336271995584714\n",
      "C -1.9817449146341122 -1.9504568061158376 -0.6825408716546919\n",
      "N -0.8307965073688657 -1.196767238145799 -0.4148037366059319\n",
      "C 0.030205696216546906 -1.2952343388875707 -1.635501050105182\n",
      "C 1.3051482138689026 -0.5880404866040065 -1.3400114761416488\n",
      "C 2.330814767868759 0.0005253065201858681 -1.1065672460515559\n",
      "C 3.534602594765519 0.7178800959336887 -0.8334682228604449\n",
      "C 4.5290528965083245 0.15086822776749007 -0.0627046454578239\n",
      "C 5.692041852807918 0.8378264832427833 0.20513018635427113\n",
      "C 5.891963441481194 2.1153023088557013 -0.2928947161638436\n",
      "C 4.911069224296034 2.694019058507135 -1.062295541822523\n",
      "C 3.758175978429987 1.9928577039794149 -1.3183513946928802\n",
      "C 0.015186221485924686 -1.485808357469353 0.6621916149041327\n",
      "C -0.4669426165834004 -2.0644865714041347 1.91679998354642\n",
      "C 0.7173429081579362 -2.2748249722655274 2.885899744954497\n",
      "C -1.1668791943063983 0.22283561313515549 -0.422895574992899\n",
      "C -2.3067451203141993 0.6278478018875142 0.36652290450302616\n",
      "O -3.0045353508820423 -0.1710950540750251 1.0141555228398682\n",
      "C -2.68375877818043 2.0400032117504034 0.42658251340379205\n",
      "C -1.9718257569227793 3.01044299880629 -0.26317061076914805\n",
      "C -2.346571040902971 4.334157807145069 -0.19228808067054\n",
      "C -3.4270855119346804 4.756339285314595 0.5527576072166842\n",
      "Cl -3.878164015073642 6.458603409624592 0.6189749832031777\n",
      "C -4.136769765845988 3.7941141116717167 1.2395803983559865\n",
      "C -3.754889156195203 2.4718922994627404 1.1630431141327295\n",
      "H -0.30993433190165975 -4.6609840054624 -1.8394081875364152\n",
      "H -1.6518730557856338 -5.188597599005832 -0.8274410333940676\n",
      "H -0.3954554483940317 -4.02575311002023 -0.19293898923514977\n",
      "H -2.9242539703661414 -3.578966234622283 -1.6614517480033208\n",
      "H -1.5692287227107868 -2.949091562442029 -2.5793734350338147\n",
      "H -2.5756372583083422 -2.23747839682422 0.22451535617411333\n",
      "H -2.703779695667287 -1.2738918989566437 -1.2379658934712996\n",
      "H 0.25895756008846754 -2.3589522642680776 -1.7531472385221527\n",
      "H -0.4396772198858097 -0.7972937616844468 -2.4784069431718447\n",
      "H 4.3798988407111965 -0.8556101415203271 0.3340063983910172\n",
      "H 6.480494167393944 0.40326917862198086 0.8089894150920068\n",
      "H 6.820829220391727 2.6276390461203856 -0.06162562963655928\n",
      "H 5.098883620914156 3.7018224081629825 -1.4400488928094628\n",
      "H 2.9891102487726884 2.446174351001524 -1.9212395978859491\n",
      "H 0.5429133101211199 -0.5153102221841861 0.9433310448367184\n",
      "H 0.9008523652671948 -2.1044938907239548 0.32341539605286374\n",
      "H -0.9937436485709533 -3.009030316051444 1.8892123447708837\n",
      "H -1.1211326083946864 -1.3672428476064955 2.5249092560525837\n",
      "H 0.512617610733874 -3.0613208618865118 3.6080226764872796\n",
      "H 0.9477834718335896 -1.3340314259514032 3.4236728185135967\n",
      "H 1.612605289437973 -2.55684150615973 2.3057023654100237\n",
      "H -0.26881731216740157 0.8151033110477298 -0.11227452767263806\n",
      "H -1.2818669214603364 0.49486571612119823 -1.5194119761202511\n",
      "H -1.1129316296485148 2.753451392615593 -0.8681228807968536\n",
      "H -1.7576998068757783 5.068382872131197 -0.7509172792373686\n",
      "H -4.974464665153224 4.095473940650879 1.82194390693828\n",
      "H -4.318655446819767 1.721356474164767 1.7067363232055117\n"
     ]
    }
   ],
   "source": [
    "for i, atom in enumerate(rdmol.GetAtoms()):\n",
    "        positions = rdmol.GetConformer().GetAtomPosition(i)\n",
    "        print(atom.GetSymbol(), positions.x, positions.y, positions.z)"
   ]
  },
  {
   "cell_type": "markdown",
   "metadata": {},
   "source": [
    "**`Optimze` the molecular strcuture with `MMFF94` ForceField**"
   ]
  },
  {
   "cell_type": "code",
   "execution_count": 20,
   "metadata": {},
   "outputs": [],
   "source": [
    "rdmol1=rdmol\n",
    "rdmol2=rdmol\n"
   ]
  },
  {
   "cell_type": "markdown",
   "metadata": {},
   "source": [
    "_ utilisation de `MFFOptimizeMolecule` comme optimisation._"
   ]
  },
  {
   "cell_type": "code",
   "execution_count": 21,
   "metadata": {},
   "outputs": [
    {
     "data": {
      "image/png": "[encoded data removed]",
      "text/plain": [
       "<rdkit.Chem.rdchem.Mol at 0x7f980ac35c10>"
      ]
     },
     "execution_count": 21,
     "metadata": {},
     "output_type": "execute_result"
    }
   ],
   "source": [
    "AllChem.MMFFOptimizeMolecule(rdmol)\n",
    "rdmol"
   ]
  },
  {
   "cell_type": "markdown",
   "metadata": {},
   "source": [
    "_ utilisation de `UFFOptimizeMolecule` comme optimisation._"
   ]
  },
  {
   "cell_type": "code",
   "execution_count": 22,
   "metadata": {},
   "outputs": [
    {
     "data": {
      "image/png": "[encoded data removed]",
      "text/plain": [
       "<rdkit.Chem.rdchem.Mol at 0x7f980ac35c10>"
      ]
     },
     "execution_count": 22,
     "metadata": {},
     "output_type": "execute_result"
    }
   ],
   "source": [
    "AllChem.UFFOptimizeMolecule(rdmol1)\n",
    "rdmol1"
   ]
  },
  {
   "cell_type": "markdown",
   "metadata": {},
   "source": [
    "_ utilisation de `MMFFGetMoleculeForceField` comme optimisation._"
   ]
  },
  {
   "cell_type": "code",
   "execution_count": null,
   "metadata": {},
   "outputs": [],
   "source": []
  },
  {
   "cell_type": "code",
   "execution_count": 23,
   "metadata": {},
   "outputs": [
    {
     "data": {
      "image/png": "[encoded data removed]",
      "text/plain": [
       "<rdkit.Chem.rdchem.Mol at 0x7f980ac35c10>"
      ]
     },
     "execution_count": 23,
     "metadata": {},
     "output_type": "execute_result"
    }
   ],
   "source": [
    "num_conformers = 100  # Nombre de conformères à générer\n",
    "\n",
    "# Obtention des propriétés MMFF de la molécule\n",
    "mmff_props = AllChem.MMFFGetMoleculeProperties(rdmol2)\n",
    "# Vérification du nombre de conformères générés\n",
    "num_generated_conformers = len(rdmol2.GetConformers())\n",
    "if num_generated_conformers < num_conformers:\n",
    "    num_conformers = num_generated_conformers\n",
    "\n",
    "# Optimisation des conformères générés\n",
    "for i in range(num_conformers):\n",
    "    ff = AllChem.MMFFGetMoleculeForceField(rdmol2, mmff_props, confId=i)\n",
    "    \n",
    "rdmol2"
   ]
  },
  {
   "cell_type": "markdown",
   "metadata": {},
   "source": [
    "_ utilisation de `UFFOptimizeMolecule` comme optimisation._"
   ]
  },
  {
   "cell_type": "markdown",
   "metadata": {},
   "source": []
  },
  {
   "cell_type": "markdown",
   "metadata": {},
   "source": [
    "**Generate 3D atomic coordinates of the optimized structure**"
   ]
  },
  {
   "cell_type": "code",
   "execution_count": null,
   "metadata": {},
   "outputs": [],
   "source": []
  },
  {
   "cell_type": "markdown",
   "metadata": {},
   "source": []
  },
  {
   "cell_type": "code",
   "execution_count": 24,
   "metadata": {},
   "outputs": [
    {
     "name": "stdout",
     "output_type": "stream",
     "text": [
      "C -1.2404974066749919 -4.387034837889502 -0.24723057883274321\n",
      "C -1.6868192758981855 -3.5991495952768386 -1.4743783049930457\n",
      "C -1.9708016193385873 -2.0890807587015434 -1.2303097914222312\n",
      "N -0.8029942868652238 -1.1615487620770713 -0.9616318292797899\n",
      "C 0.3485736220395304 -1.5525359260868081 -1.8479561746755842\n",
      "C 1.5265264834102121 -0.6655511023504087 -1.7322014789015197\n",
      "C 2.4783254179212015 0.06500187080637292 -1.6194224616601294\n",
      "C 3.6057284886452963 0.9453722919627455 -1.4687752129930902\n",
      "C 4.206888044831966 1.104861115936231 -0.21241351253943722\n",
      "C 5.297656783867202 1.9683514356220884 -0.06399242661829312\n",
      "C 5.787112085282844 2.675564101164584 -1.167146828160709\n",
      "C 5.186593661547637 2.519982060389367 -2.4203343953552183\n",
      "C 4.097343575443442 1.6553741882871693 -2.57314193156963\n",
      "C -0.3179526738135001 -1.1704679585304592 0.46965133486999605\n",
      "C -1.3807447470388152 -1.357260347150316 1.583470229686813\n",
      "C -0.8505977290182957 -0.8879444192378958 2.9363913764371286\n",
      "C -1.205922548419352 0.23773431327744282 -1.362729401601262\n",
      "C -2.395129379826495 0.8131987916257158 -0.6154509837374155\n",
      "O -3.5494816288824405 0.5006957979670378 -1.0165724788878518\n",
      "C -2.268195428525123 1.7134710305452197 0.5692726403335854\n",
      "C -1.1069507740480078 2.476218191015479 0.8247217908636756\n",
      "C -1.0245793445702664 3.286089878639658 1.9610057990169065\n",
      "C -2.0942081028250876 3.356358105718281 2.855680386376835\n",
      "Cl -1.9806602214104752 4.365928186911512 4.284608888859848\n",
      "C -3.2537866395484443 2.6203850216298052 2.609999571301551\n",
      "C -3.3440018265148352 1.8092129668817 1.4746419202314291\n",
      "H -1.1162504085105036 -5.453407732461003 -0.529282803306387\n",
      "H -2.0134582606903533 -4.337582446480668 0.5464157389502029\n",
      "H -0.266446600798939 -4.028390892994959 0.1342637812591771\n",
      "H -2.6412123138918027 -4.058982076778817 -1.8139358475963148\n",
      "H -0.9825523430775054 -3.7617745366071134 -2.315381137907269\n",
      "H -2.759007734148727 -2.00399177758087 -0.45752259155757846\n",
      "H -2.484018340340806 -1.7644739718827103 -2.1650286000319805\n",
      "H 0.7248047906263718 -2.564551838073151 -1.5915429221480855\n",
      "H 0.03548153333342788 -1.5714288579586615 -2.915824639137601\n",
      "H 3.8319197278307 0.5644999289014907 0.6495578092472302\n",
      "H 5.7622976319606565 2.090437964773865 0.9058230777630256\n",
      "H 6.630155518897388 3.3444031590908114 -1.0504805465395881\n",
      "H 5.564173992168878 3.0700371830879782 -3.2724932078906446\n",
      "H 3.638234643078001 1.5423808167335793 -3.548143162258656\n",
      "H 0.23999165460490313 -0.2272406860025972 0.6760199011340481\n",
      "H 0.44156816054520315 -1.9680577784972377 0.6276832769560455\n",
      "H -1.6363734963230794 -2.4289097295358424 1.6824620381695603\n",
      "H -2.319498334850271 -0.8154244900937431 1.3798421163099164\n",
      "H -1.6065489210226855 -1.0906952347304617 3.724155294647054\n",
      "H -0.6506012898507008 0.2038248545671394 2.9152044915193156\n",
      "H 0.08480754242347849 -1.429378091375402 3.192423323125758\n",
      "H -0.35506452543121586 0.9360892169517642 -1.286622146019138\n",
      "H -1.4600783252905762 0.2640034028282208 -2.447521849685675\n",
      "H -0.2614915305649833 2.477402335791331 0.15562762510032602\n",
      "H -0.12639936237327284 3.8625710296942977 2.1435804630286786\n",
      "H -4.0854372960132315 2.6701276915043994 3.3009562246445325\n",
      "H -4.250420642060398 1.2352869160491147 1.318352753431152\n"
     ]
    }
   ],
   "source": [
    "for i, atom in enumerate(rdmol.GetAtoms()):\n",
    "        positions = rdmol.GetConformer().GetAtomPosition(i)\n",
    "        print(atom.GetSymbol(), positions.x, positions.y, positions.z)"
   ]
  },
  {
   "cell_type": "markdown",
   "metadata": {},
   "source": [
    "## Save molecular structures"
   ]
  },
  {
   "cell_type": "markdown",
   "metadata": {},
   "source": [
    "**`.xyz` File**"
   ]
  },
  {
   "cell_type": "code",
   "execution_count": 25,
   "metadata": {},
   "outputs": [],
   "source": [
    "Chem.MolToMolFile(rdmol, 'RC1_rdmol.xyz')"
   ]
  },
  {
   "cell_type": "markdown",
   "metadata": {},
   "source": [
    "**`.sdf` File**"
   ]
  },
  {
   "cell_type": "code",
   "execution_count": 26,
   "metadata": {},
   "outputs": [],
   "source": [
    "Chem.MolToMolFile(rdmol, 'RC1_rdmol.sdf')"
   ]
  },
  {
   "cell_type": "markdown",
   "metadata": {},
   "source": [
    "**`.mol` File**"
   ]
  },
  {
   "cell_type": "code",
   "execution_count": 27,
   "metadata": {},
   "outputs": [],
   "source": [
    "Chem.MolToMolFile(rdmol, 'RC1_rdmol.mol')"
   ]
  },
  {
   "cell_type": "markdown",
   "metadata": {
    "tags": []
   },
   "source": [
    "The molecular files generated above only contain information on _spatial atomic coordinates_ and _bond connectivities_. However they are capable of carrying more information than that, such as molecular properties (_internal energy_, _enthalpy_, etc.).\n",
    "\n",
    "We are interested in the fact that all the information contained in each molecular file can be used to infer insights of significant importance when dealing with __structure-property relationships__. Indeed, all of this information leads to several categories of molecular representations which can be useful, each with a _specific level of content_, to molecular description. \n",
    "\n",
    "A deep understanding of quantitative structure-property relationships (QSPR) finds applications in real current global challenges such as **materials discovery**, **drug discovery processes**, **chemical property predictions**, etc.\n",
    "\n",
    "## Molecular Descriptors - Dimensional Representations\n",
    "\n",
    "Molecular descriptors can be classified in two main categories:\n",
    "\n",
    "1. **Experimental descriptors**: Physicochemical properties from __numerical simualtions__ or __experimental measurements__\n",
    "\n",
    "2. **Theoretical descriptors**: Obtained from __symbolic representations__ of the molecules, such as structural formula, empirical formula, or `SMILES`. \n",
    "\n",
    "This category can be divided in **five** classes.\n"
   ]
  },
  {
   "cell_type": "markdown",
   "metadata": {},
   "source": [
    "![](MolecularDimension.png)"
   ]
  },
  {
   "cell_type": "markdown",
   "metadata": {},
   "source": [
    "1. **0D descritors**. Related to `Composition` discriptors, do not provide any information about the molecular structure or connectivity of atoms.\n",
    "\n",
    "1. **1D descritors**. Related to sets of substructures such as functional groups.\n",
    "\n",
    "1. **2D descritors**. Features providing information on molecular topology based on the graph representation of the molecules.\n",
    "\n",
    "1. **3D descritors**. Geometrical features providing information about spatial coordinates of atoms of a molecule.\n",
    "\n",
    "1. **4D descritors**. Also known as **grid-based descriptors**, introduce a fourth dimension characterizing the interactions between the molecules and the active sites of a receptor or the multiple conformational states of the molecules. "
   ]
  },
  {
   "cell_type": "markdown",
   "metadata": {},
   "source": [
    "# `Tartarus` Basic Usage"
   ]
  },
  {
   "cell_type": "markdown",
   "metadata": {},
   "source": [
    "For this first session, we will introduce the basics of `Tartarus`: A benchmark platform for practical inverse molecular design. To this end, after the installation task of the module `tartarus`, we will look at its framework. \n",
    "\n",
    "![](tartarusoverview.png)\n",
    "\n",
    "## In Practice\n",
    "\n",
    "**1. Design of `OPVs` - Framework**\n",
    "\n",
    "![](opv.png)\n",
    "\n",
    "**2. Design of `Organic Emitters` - Framework**\n",
    "\n",
    "![](emitters.png)\n",
    "\n",
    "**3. Design of `Protein Ligands` - Framework**\n",
    "\n",
    "![](docking.png)\n"
   ]
  },
  {
   "cell_type": "markdown",
   "metadata": {},
   "source": [
    "## Practical Coding For `OPV` Design - Use `Tartarus` As A Blackbox"
   ]
  },
  {
   "cell_type": "markdown",
   "metadata": {},
   "source": [
    "**1. Load the data used for this purpose into the original work**"
   ]
  },
  {
   "cell_type": "code",
   "execution_count": 28,
   "metadata": {},
   "outputs": [],
   "source": [
    "# path to the hce.csv data \n",
    "path_to_hce = os.path.join(main_path + '/hce.csv')"
   ]
  },
  {
   "cell_type": "code",
   "execution_count": 29,
   "metadata": {},
   "outputs": [
    {
     "data": {
      "text/html": [
       "<div>\n",
       "<style scoped>\n",
       "    .dataframe tbody tr th:only-of-type {\n",
       "        vertical-align: middle;\n",
       "    }\n",
       "\n",
       "    .dataframe tbody tr th {\n",
       "        vertical-align: top;\n",
       "    }\n",
       "\n",
       "    .dataframe thead th {\n",
       "        text-align: right;\n",
       "    }\n",
       "</style>\n",
       "<table border=\"1\" class=\"dataframe\">\n",
       "  <thead>\n",
       "    <tr style=\"text-align: right;\">\n",
       "      <th></th>\n",
       "      <th>smiles</th>\n",
       "      <th>pce_pcbm_sas</th>\n",
       "      <th>pce_pcdtbt_sas</th>\n",
       "      <th>pce_1</th>\n",
       "      <th>pce_2</th>\n",
       "      <th>sas</th>\n",
       "    </tr>\n",
       "  </thead>\n",
       "  <tbody>\n",
       "    <tr>\n",
       "      <th>0</th>\n",
       "      <td>c1sc(-c2[SiH2]c(cc2)-c2ccc(-c3scc4occc34)c3csc...</td>\n",
       "      <td>-1.061257</td>\n",
       "      <td>-4.382105</td>\n",
       "      <td>3.320848</td>\n",
       "      <td>0.0</td>\n",
       "      <td>4.382105</td>\n",
       "    </tr>\n",
       "    <tr>\n",
       "      <th>1</th>\n",
       "      <td>c1ccc(C2=Cc3oc4c(c3C2)c2c[nH]cc2c2ccc3=CCC=c3c...</td>\n",
       "      <td>-3.188265</td>\n",
       "      <td>-3.607924</td>\n",
       "      <td>0.419659</td>\n",
       "      <td>0.0</td>\n",
       "      <td>3.607924</td>\n",
       "    </tr>\n",
       "    <tr>\n",
       "      <th>2</th>\n",
       "      <td>c1cc2sc3cc4ccc5cscc5c4cc3c2c2cCcc12</td>\n",
       "      <td>-0.767370</td>\n",
       "      <td>-3.361486</td>\n",
       "      <td>2.594116</td>\n",
       "      <td>0.0</td>\n",
       "      <td>3.361486</td>\n",
       "    </tr>\n",
       "    <tr>\n",
       "      <th>3</th>\n",
       "      <td>[nH]1c2cc(-c3ccc[se]3)c3c[nH]cc3c2c2c1c1[se]cc...</td>\n",
       "      <td>-3.572659</td>\n",
       "      <td>-4.618362</td>\n",
       "      <td>1.045703</td>\n",
       "      <td>0.0</td>\n",
       "      <td>4.618362</td>\n",
       "    </tr>\n",
       "    <tr>\n",
       "      <th>4</th>\n",
       "      <td>[SiH2]1C=CC=C1c1cc2sc3c4[se]ccc4c4cocc4c3c2c2c...</td>\n",
       "      <td>-1.675279</td>\n",
       "      <td>-4.853093</td>\n",
       "      <td>3.177815</td>\n",
       "      <td>0.0</td>\n",
       "      <td>4.853093</td>\n",
       "    </tr>\n",
       "    <tr>\n",
       "      <th>...</th>\n",
       "      <td>...</td>\n",
       "      <td>...</td>\n",
       "      <td>...</td>\n",
       "      <td>...</td>\n",
       "      <td>...</td>\n",
       "      <td>...</td>\n",
       "    </tr>\n",
       "    <tr>\n",
       "      <th>24948</th>\n",
       "      <td>[SiH2]1C=CC=C1C1=Cc2cc3ccc4ccc5c[nH]cc5c4c3cc2...</td>\n",
       "      <td>-2.797039</td>\n",
       "      <td>-4.418456</td>\n",
       "      <td>1.621417</td>\n",
       "      <td>0.0</td>\n",
       "      <td>4.418456</td>\n",
       "    </tr>\n",
       "    <tr>\n",
       "      <th>24949</th>\n",
       "      <td>c1cc2ccc3cc4cc(-c5ncncn5)c5=C[SiH2]C=c5c4cc3c2...</td>\n",
       "      <td>1.610517</td>\n",
       "      <td>-3.828723</td>\n",
       "      <td>5.439241</td>\n",
       "      <td>0.0</td>\n",
       "      <td>3.828723</td>\n",
       "    </tr>\n",
       "    <tr>\n",
       "      <th>24950</th>\n",
       "      <td>c1sc(c2C=CCc12)-c1cc2ncc3c4ccccc4c4ccccc4c3c2cn1</td>\n",
       "      <td>-0.239583</td>\n",
       "      <td>-2.952342</td>\n",
       "      <td>2.712759</td>\n",
       "      <td>0.0</td>\n",
       "      <td>2.952342</td>\n",
       "    </tr>\n",
       "    <tr>\n",
       "      <th>24951</th>\n",
       "      <td>c1sc(-c2ccc(s2)-c2Cc(cc2)-c2cncc3nsnc23)c2ccsc12</td>\n",
       "      <td>4.575720</td>\n",
       "      <td>-3.706835</td>\n",
       "      <td>8.282555</td>\n",
       "      <td>0.0</td>\n",
       "      <td>3.706835</td>\n",
       "    </tr>\n",
       "    <tr>\n",
       "      <th>24952</th>\n",
       "      <td>c1[SiH2]c(cc1)-c1sc(-c2sc(-c3cncc4nsnc34)c3[nH...</td>\n",
       "      <td>0.892807</td>\n",
       "      <td>-4.533846</td>\n",
       "      <td>5.426653</td>\n",
       "      <td>0.0</td>\n",
       "      <td>4.533846</td>\n",
       "    </tr>\n",
       "  </tbody>\n",
       "</table>\n",
       "<p>24953 rows × 6 columns</p>\n",
       "</div>"
      ],
      "text/plain": [
       "                                                  smiles  pce_pcbm_sas  \\\n",
       "0      c1sc(-c2[SiH2]c(cc2)-c2ccc(-c3scc4occc34)c3csc...     -1.061257   \n",
       "1      c1ccc(C2=Cc3oc4c(c3C2)c2c[nH]cc2c2ccc3=CCC=c3c...     -3.188265   \n",
       "2                    c1cc2sc3cc4ccc5cscc5c4cc3c2c2cCcc12     -0.767370   \n",
       "3      [nH]1c2cc(-c3ccc[se]3)c3c[nH]cc3c2c2c1c1[se]cc...     -3.572659   \n",
       "4      [SiH2]1C=CC=C1c1cc2sc3c4[se]ccc4c4cocc4c3c2c2c...     -1.675279   \n",
       "...                                                  ...           ...   \n",
       "24948  [SiH2]1C=CC=C1C1=Cc2cc3ccc4ccc5c[nH]cc5c4c3cc2...     -2.797039   \n",
       "24949  c1cc2ccc3cc4cc(-c5ncncn5)c5=C[SiH2]C=c5c4cc3c2...      1.610517   \n",
       "24950   c1sc(c2C=CCc12)-c1cc2ncc3c4ccccc4c4ccccc4c3c2cn1     -0.239583   \n",
       "24951   c1sc(-c2ccc(s2)-c2Cc(cc2)-c2cncc3nsnc23)c2ccsc12      4.575720   \n",
       "24952  c1[SiH2]c(cc1)-c1sc(-c2sc(-c3cncc4nsnc34)c3[nH...      0.892807   \n",
       "\n",
       "       pce_pcdtbt_sas     pce_1  pce_2       sas  \n",
       "0           -4.382105  3.320848    0.0  4.382105  \n",
       "1           -3.607924  0.419659    0.0  3.607924  \n",
       "2           -3.361486  2.594116    0.0  3.361486  \n",
       "3           -4.618362  1.045703    0.0  4.618362  \n",
       "4           -4.853093  3.177815    0.0  4.853093  \n",
       "...               ...       ...    ...       ...  \n",
       "24948       -4.418456  1.621417    0.0  4.418456  \n",
       "24949       -3.828723  5.439241    0.0  3.828723  \n",
       "24950       -2.952342  2.712759    0.0  2.952342  \n",
       "24951       -3.706835  8.282555    0.0  3.706835  \n",
       "24952       -4.533846  5.426653    0.0  4.533846  \n",
       "\n",
       "[24953 rows x 6 columns]"
      ]
     },
     "execution_count": 29,
     "metadata": {},
     "output_type": "execute_result"
    }
   ],
   "source": [
    "# display the .csv file as dataframe\n",
    "import pandas as pd\n",
    "hce = pd.read_csv(path_to_hce)\n",
    "hce"
   ]
  },
  {
   "cell_type": "markdown",
   "metadata": {},
   "source": [
    "**2. Use the `SMILES` from the diversity data loaded above to run `Tartarus`**"
   ]
  },
  {
   "cell_type": "code",
   "execution_count": 30,
   "metadata": {},
   "outputs": [],
   "source": [
    "# creat an empty dictionary\n",
    "from collections import defaultdict\n",
    "data1 = defaultdict(list)"
   ]
  },
  {
   "cell_type": "markdown",
   "metadata": {},
   "source": [
    "**Get a database similar to the one from the original work**"
   ]
  },
  {
   "cell_type": "code",
   "execution_count": 31,
   "metadata": {},
   "outputs": [
    {
     "data": {
      "text/html": [
       "<div>\n",
       "<style scoped>\n",
       "    .dataframe tbody tr th:only-of-type {\n",
       "        vertical-align: middle;\n",
       "    }\n",
       "\n",
       "    .dataframe tbody tr th {\n",
       "        vertical-align: top;\n",
       "    }\n",
       "\n",
       "    .dataframe thead th {\n",
       "        text-align: right;\n",
       "    }\n",
       "</style>\n",
       "<table border=\"1\" class=\"dataframe\">\n",
       "  <thead>\n",
       "    <tr style=\"text-align: right;\">\n",
       "      <th></th>\n",
       "      <th>smiles</th>\n",
       "    </tr>\n",
       "  </thead>\n",
       "  <tbody>\n",
       "    <tr>\n",
       "      <th>0</th>\n",
       "      <td>CCC[N+](CC#Cc1ccccc1)(CCC)CC(=O)c1ccc(Cl)cc1</td>\n",
       "    </tr>\n",
       "    <tr>\n",
       "      <th>1</th>\n",
       "      <td>NC(=S)NN=Cc1ccc(O)cc1O</td>\n",
       "    </tr>\n",
       "  </tbody>\n",
       "</table>\n",
       "</div>"
      ],
      "text/plain": [
       "                                         smiles\n",
       "0  CCC[N+](CC#Cc1ccccc1)(CCC)CC(=O)c1ccc(Cl)cc1\n",
       "1                        NC(=S)NN=Cc1ccc(O)cc1O"
      ]
     },
     "execution_count": 31,
     "metadata": {},
     "output_type": "execute_result"
    }
   ],
   "source": [
    "for i in range(len(lin)):\n",
    "    smiles = lin[i].split()[0]\n",
    "    if i==2: break\n",
    "    data['smiles'].append(smiles)\n",
    "\n",
    "\n",
    "\n",
    "df = pd.DataFrame(data)\n",
    "df"
   ]
  },
  {
   "cell_type": "code",
   "execution_count": 37,
   "metadata": {},
   "outputs": [],
   "source": [
    "# save the dataframe to `.csv` file\n",
    "df.to_csv('my_hce.csv')"
   ]
  },
  {
   "cell_type": "code",
   "execution_count": 38,
   "metadata": {},
   "outputs": [],
   "source": [
    "smiles = df['smiles'].tolist()\n",
    "smi = smiles[1]\n"
   ]
  },
  {
   "cell_type": "code",
   "execution_count": 39,
   "metadata": {},
   "outputs": [
    {
     "data": {
      "text/plain": [
       "'NC(=S)NN=Cc1ccc(O)cc1O'"
      ]
     },
     "execution_count": 39,
     "metadata": {},
     "output_type": "execute_result"
    }
   ],
   "source": [
    "smi"
   ]
  },
  {
   "cell_type": "code",
   "execution_count": 38,
   "metadata": {},
   "outputs": [],
   "source": [
    "    renvoie  mf    renvoie  mf\n",
    "\n",
    "\n",
    "conda install scipy"
   ]
  },
  {
   "cell_type": "code",
   "execution_count": 41,
   "metadata": {},
   "outputs": [
    {
     "name": "stdout",
     "output_type": "stream",
     "text": [
      "Collecting tqdm\n",
      "  Obtaining dependency information for tqdm from https://files.pythonhosted.org/packages/00/e5/f12a80907d0884e6dff9c16d0c0114d81b8cd07dc3ae54c5e962cc83037e/tqdm-4.66.1-py3-none-any.whl.metadata\n",
      "  Downloading tqdm-4.66.1-py3-none-any.whl.metadata (57 kB)\n",
      "\u001b[2K     \u001b[38;2;114;156;31m━━━━━━━━━━━━━━━━━━━━━━━━━━━━━━━━━━━━━━━━\u001b[0m \u001b[32m57.6/57.6 kB\u001b[0m \u001b[31m31.7 kB/s\u001b[0m eta \u001b[36m0:00:00\u001b[0m31m28.9 kB/s\u001b[0m eta \u001b[36m0:00:01\u001b[0m\n",
      "\u001b[?25hDownloading tqdm-4.66.1-py3-none-any.whl (78 kB)\n",
      "\u001b[2K   \u001b[38;2;114;156;31m━━━━━━━━━━━━━━━━━━━━━━━━━━━━━━━━━━━━━━━━\u001b[0m \u001b[32m78.3/78.3 kB\u001b[0m \u001b[31m7.1 kB/s\u001b[0m eta \u001b[36m0:00:00\u001b[0m[31m6.5 kB/s\u001b[0m eta \u001b[36m0:00:02\u001b[0mm\n",
      "\u001b[?25hInstalling collected packages: tqdm\n",
      "Successfully installed tqdm-4.66.1\n",
      "Note: you may need to restart the kernel to use updated packages.\n"
     ]
    }
   ],
   "source": [
    "pip install tqdm"
   ]
  },
  {
   "cell_type": "code",
   "execution_count": 42,
   "metadata": {},
   "outputs": [],
   "source": [
    "\n",
    "from tqdm import tqdm"
   ]
  },
  {
   "cell_type": "code",
   "execution_count": 43,
   "metadata": {},
   "outputs": [
    {
     "name": "stderr",
     "output_type": "stream",
     "text": [
      "/home/mvoto/anaconda3/envs/tartarus/lib/python3.8/site-packages/tartarus/filter_.py:33: FutureWarning: The frame.append method is deprecated and will be removed from pandas in a future version. Use pandas.concat instead.\n",
      "  _filters = [Chem.MolFromSmarts(x) for x in _mcf.append(_pains, sort=True)['smarts'].values]\n"
     ]
    }
   ],
   "source": [
    "## use full xtb calculation in hce module\n",
    "from tartarus import pce\n",
    "from tartarus import docking\n",
    "#from tartarus import tadf\n",
    "#from tartarus import reactivity\n",
    "\n",
    "dipm, gap, lumo, combined, pce_pcbm_sac, pce_pcdtbt_sas = tqdm(pce.get_properties(smi))\n",
    "\n",
    "\n"
   ]
  },
  {
   "cell_type": "code",
   "execution_count": null,
   "metadata": {},
   "outputs": [],
   "source": []
  },
  {
   "cell_type": "code",
   "execution_count": null,
   "metadata": {},
   "outputs": [],
   "source": []
  },
  {
   "cell_type": "code",
   "execution_count": null,
   "metadata": {},
   "outputs": [],
   "source": []
  },
  {
   "cell_type": "code",
   "execution_count": null,
   "metadata": {},
   "outputs": [],
   "source": []
  }
 ],
 "metadata": {
  "kernelspec": {
   "display_name": "Python 3 (ipykernel)",
   "language": "python",
   "name": "python3"
  },
  "language_info": {
   "codemirror_mode": {
    "name": "ipython",
    "version": 3
   },
   "file_extension": ".py",
   "mimetype": "text/x-python",
   "name": "python",
   "nbconvert_exporter": "python",
   "pygments_lexer": "ipython3",
   "version": "3.10.9"
  }
 },
 "nbformat": 4,
 "nbformat_minor": 4
}
